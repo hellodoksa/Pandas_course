{
 "cells": [
  {
   "cell_type": "markdown",
   "metadata": {},
   "source": [
    "# 전국 신규 민간 아파트 분양가격 동향\n",
    "* 2015년 10월부터 2018년 7월까지\n",
    "* 주택분양보증을 받아 분양한 전체 민간 신규아파트 분양가격 동향\n",
    "* https://www.data.go.kr/dataset/3035522/fileData.do\n",
    "* 이 튜토리얼은 아파트 분양가에 대한 분석보다 파이썬 데이터 분석 방법을 배우는데 목적을 두고 있습니다.\n",
    "* 이 튜토리얼에서는 파이썬 데이터분석 도구인 Pandas를 활용합니다. Pandas에 대한 간략한 소개는 다음의 판다스 10분 완성 문서를 참고해 주시면 좋습니다. \n",
    "    * https://dataitgirls2.github.io/10minutes2pandas/\n",
    "* 데이터 다운로드 : https://goo.gl/oJydAv "
   ]
  },
  {
   "cell_type": "markdown",
   "metadata": {},
   "source": [
    "## !중요\n",
    "### 버전과 한글폰트\n",
    "* 한글폰트 사용하기 : http://corazzon.github.io/matplotlib_font_setting"
   ]
  },
  {
   "cell_type": "code",
   "execution_count": null,
   "metadata": {},
   "outputs": [],
   "source": [
    "# 아래의 버전에 의존성이 있습니다. \n",
    "# 다음의 버전으로 설치해 주세요.\n",
    "# !pip install plotnine==0.5.0\n",
    "# !pip install pandas\n",
    "# !pip install folium==0.5.0\n",
    "# !pip install statsmodels -U\n",
    "# 시각화 도구 설치\n",
    "# !pip install missingno"
   ]
  },
  {
   "cell_type": "markdown",
   "metadata": {},
   "source": [
    "# 아나콘다 사용시 \n",
    "* Plotnine 설치 : https://anaconda.org/conda-forge/plotnine\n",
    "* missingno 설치 : https://anaconda.org/conda-forge/missingno"
   ]
  },
  {
   "cell_type": "code",
   "execution_count": 1,
   "metadata": {},
   "outputs": [
    {
     "name": "stdout",
     "output_type": "stream",
     "text": [
      "Name: plotnine\n",
      "Version: 0.6.0\n",
      "Summary: A grammar of graphics for python\n",
      "Home-page: https://github.com/has2k1/plotnine\n",
      "Author: None\n",
      "Author-email: None\n",
      "License: GPL-2\n",
      "Location: /opt/conda/lib/python3.7/site-packages\n",
      "Requires: mizani, pandas, numpy, statsmodels, matplotlib, descartes, patsy, scipy\n",
      "Required-by: \n"
     ]
    }
   ],
   "source": [
    "!pip show plotnine"
   ]
  },
  {
   "cell_type": "code",
   "execution_count": 2,
   "metadata": {},
   "outputs": [
    {
     "name": "stdout",
     "output_type": "stream",
     "text": [
      "Name: missingno\n",
      "Version: 0.4.2\n",
      "Summary: Missing data visualization module for Python.\n",
      "Home-page: https://github.com/ResidentMario/missingno\n",
      "Author: Aleksey Bilogur\n",
      "Author-email: aleksey.bilogur@gmail.com\n",
      "License: UNKNOWN\n",
      "Location: /opt/conda/lib/python3.7/site-packages\n",
      "Requires: seaborn, numpy, matplotlib, scipy\n",
      "Required-by: \n"
     ]
    }
   ],
   "source": [
    "!pip show missingno"
   ]
  },
  {
   "cell_type": "code",
   "execution_count": 3,
   "metadata": {},
   "outputs": [],
   "source": [
    "import warnings\n",
    "warnings.filterwarnings('ignore')"
   ]
  },
  {
   "cell_type": "code",
   "execution_count": 4,
   "metadata": {},
   "outputs": [],
   "source": [
    "import pandas as pd\n",
    "import numpy as np\n",
    "import re\n",
    "\n",
    "%matplotlib inline"
   ]
  },
  {
   "cell_type": "code",
   "execution_count": 5,
   "metadata": {},
   "outputs": [],
   "source": [
    "# plotnine 이 import 되지 않는다면 아래 코드의 주석을 풀고 설치해 주세요.\n",
    "# !pip install statsmodels -U\n",
    "from plotnine import *"
   ]
  },
  {
   "cell_type": "markdown",
   "metadata": {},
   "source": [
    "%을 사용하면 터미널에서 사용할 수 있는 유닉스 명령어를 사용하실 수 있습니다.\n",
    "경로를 불러오는 문제가 있을 때 이 방법을 사용하면 좋습니다."
   ]
  },
  {
   "cell_type": "code",
   "execution_count": 24,
   "metadata": {},
   "outputs": [
    {
     "data": {
      "text/plain": [
       "'/home/vscode/notebooks/eda/공공데이터분석_오늘코딩'"
      ]
     },
     "execution_count": 24,
     "metadata": {},
     "output_type": "execute_result"
    }
   ],
   "source": [
    "# 현재 위치정보를 봅니다.\n",
    "%pwd"
   ]
  },
  {
   "cell_type": "code",
   "execution_count": 25,
   "metadata": {},
   "outputs": [
    {
     "name": "stdout",
     "output_type": "stream",
     "text": [
      "\u001b[0m\u001b[01;32mshop_201806_01.csv\u001b[0m*\n",
      "\u001b[01;32m전국_평균_분양가격_2018.6월_.csv\u001b[0m*\n",
      "\u001b[01;32m전국_평균_분양가격_2018.7월_.csv\u001b[0m*\n",
      "\u001b[01;32m지역별_3.3㎡당_평균_분양가격_천원__15.09월.csv\u001b[0m*\n"
     ]
    }
   ],
   "source": [
    "# 저는 data 폴더 아래에 apt_price 라는 폴더를 만들어 공공데이터 포털에서 다운로드 받은 데이터를 모아 두었습니다. \n",
    "# 해당 파일을 확인해 봅니다.\n",
    "%ls data/"
   ]
  },
  {
   "cell_type": "code",
   "execution_count": 9,
   "metadata": {},
   "outputs": [
    {
     "data": {
      "text/plain": [
       "(2805, 5)"
      ]
     },
     "execution_count": 9,
     "metadata": {},
     "output_type": "execute_result"
    }
   ],
   "source": [
    "pre_sale = pd.read_csv('data/전국_평균_분양가격_2018.6월_.csv', \n",
    "                       encoding='euc-kr', engine='python')\n",
    "pre_sale.shape"
   ]
  },
  {
   "cell_type": "code",
   "execution_count": null,
   "metadata": {},
   "outputs": [],
   "source": [
    "# pre_sale = pd.read_csv('data/apt_price/전국_평균_분양가격_2018.7월_.csv', \n",
    "#                        encoding='euc-kr', engine='python')\n",
    "# pre_sale.shape"
   ]
  },
  {
   "cell_type": "code",
   "execution_count": 11,
   "metadata": {},
   "outputs": [
    {
     "data": {
      "text/html": [
       "<div>\n",
       "<style scoped>\n",
       "    .dataframe tbody tr th:only-of-type {\n",
       "        vertical-align: middle;\n",
       "    }\n",
       "\n",
       "    .dataframe tbody tr th {\n",
       "        vertical-align: top;\n",
       "    }\n",
       "\n",
       "    .dataframe thead th {\n",
       "        text-align: right;\n",
       "    }\n",
       "</style>\n",
       "<table border=\"1\" class=\"dataframe\">\n",
       "  <thead>\n",
       "    <tr style=\"text-align: right;\">\n",
       "      <th></th>\n",
       "      <th>지역명</th>\n",
       "      <th>규모구분</th>\n",
       "      <th>연도</th>\n",
       "      <th>월</th>\n",
       "      <th>분양가격(㎡)</th>\n",
       "    </tr>\n",
       "  </thead>\n",
       "  <tbody>\n",
       "    <tr>\n",
       "      <th>0</th>\n",
       "      <td>서울</td>\n",
       "      <td>전체</td>\n",
       "      <td>2015</td>\n",
       "      <td>10</td>\n",
       "      <td>5841</td>\n",
       "    </tr>\n",
       "    <tr>\n",
       "      <th>1</th>\n",
       "      <td>서울</td>\n",
       "      <td>전용면적 60㎡이하</td>\n",
       "      <td>2015</td>\n",
       "      <td>10</td>\n",
       "      <td>5652</td>\n",
       "    </tr>\n",
       "    <tr>\n",
       "      <th>2</th>\n",
       "      <td>서울</td>\n",
       "      <td>전용면적 60㎡초과 85㎡이하</td>\n",
       "      <td>2015</td>\n",
       "      <td>10</td>\n",
       "      <td>5882</td>\n",
       "    </tr>\n",
       "    <tr>\n",
       "      <th>3</th>\n",
       "      <td>서울</td>\n",
       "      <td>전용면적 85㎡초과 102㎡이하</td>\n",
       "      <td>2015</td>\n",
       "      <td>10</td>\n",
       "      <td>5721</td>\n",
       "    </tr>\n",
       "    <tr>\n",
       "      <th>4</th>\n",
       "      <td>서울</td>\n",
       "      <td>전용면적 102㎡초과</td>\n",
       "      <td>2015</td>\n",
       "      <td>10</td>\n",
       "      <td>5879</td>\n",
       "    </tr>\n",
       "  </tbody>\n",
       "</table>\n",
       "</div>"
      ],
      "text/plain": [
       "  지역명               규모구분    연도   월 분양가격(㎡)\n",
       "0  서울                 전체  2015  10    5841\n",
       "1  서울         전용면적 60㎡이하  2015  10    5652\n",
       "2  서울   전용면적 60㎡초과 85㎡이하  2015  10    5882\n",
       "3  서울  전용면적 85㎡초과 102㎡이하  2015  10    5721\n",
       "4  서울        전용면적 102㎡초과  2015  10    5879"
      ]
     },
     "execution_count": 11,
     "metadata": {},
     "output_type": "execute_result"
    }
   ],
   "source": [
    "pre_sale.head()"
   ]
  },
  {
   "cell_type": "code",
   "execution_count": 12,
   "metadata": {},
   "outputs": [
    {
     "data": {
      "text/html": [
       "<div>\n",
       "<style scoped>\n",
       "    .dataframe tbody tr th:only-of-type {\n",
       "        vertical-align: middle;\n",
       "    }\n",
       "\n",
       "    .dataframe tbody tr th {\n",
       "        vertical-align: top;\n",
       "    }\n",
       "\n",
       "    .dataframe thead th {\n",
       "        text-align: right;\n",
       "    }\n",
       "</style>\n",
       "<table border=\"1\" class=\"dataframe\">\n",
       "  <thead>\n",
       "    <tr style=\"text-align: right;\">\n",
       "      <th></th>\n",
       "      <th>지역명</th>\n",
       "      <th>규모구분</th>\n",
       "      <th>연도</th>\n",
       "      <th>월</th>\n",
       "      <th>분양가격(㎡)</th>\n",
       "    </tr>\n",
       "  </thead>\n",
       "  <tbody>\n",
       "    <tr>\n",
       "      <th>2800</th>\n",
       "      <td>제주</td>\n",
       "      <td>전체</td>\n",
       "      <td>2018</td>\n",
       "      <td>6</td>\n",
       "      <td>3925</td>\n",
       "    </tr>\n",
       "    <tr>\n",
       "      <th>2801</th>\n",
       "      <td>제주</td>\n",
       "      <td>전용면적 60㎡이하</td>\n",
       "      <td>2018</td>\n",
       "      <td>6</td>\n",
       "      <td>5462</td>\n",
       "    </tr>\n",
       "    <tr>\n",
       "      <th>2802</th>\n",
       "      <td>제주</td>\n",
       "      <td>전용면적 60㎡초과 85㎡이하</td>\n",
       "      <td>2018</td>\n",
       "      <td>6</td>\n",
       "      <td>3639</td>\n",
       "    </tr>\n",
       "    <tr>\n",
       "      <th>2803</th>\n",
       "      <td>제주</td>\n",
       "      <td>전용면적 85㎡초과 102㎡이하</td>\n",
       "      <td>2018</td>\n",
       "      <td>6</td>\n",
       "      <td>NaN</td>\n",
       "    </tr>\n",
       "    <tr>\n",
       "      <th>2804</th>\n",
       "      <td>제주</td>\n",
       "      <td>전용면적 102㎡초과</td>\n",
       "      <td>2018</td>\n",
       "      <td>6</td>\n",
       "      <td>3029</td>\n",
       "    </tr>\n",
       "  </tbody>\n",
       "</table>\n",
       "</div>"
      ],
      "text/plain": [
       "     지역명               규모구분    연도  월 분양가격(㎡)\n",
       "2800  제주                 전체  2018  6    3925\n",
       "2801  제주         전용면적 60㎡이하  2018  6    5462\n",
       "2802  제주   전용면적 60㎡초과 85㎡이하  2018  6    3639\n",
       "2803  제주  전용면적 85㎡초과 102㎡이하  2018  6     NaN\n",
       "2804  제주        전용면적 102㎡초과  2018  6    3029"
      ]
     },
     "execution_count": 12,
     "metadata": {},
     "output_type": "execute_result"
    }
   ],
   "source": [
    "pre_sale.tail()"
   ]
  },
  {
   "cell_type": "code",
   "execution_count": 13,
   "metadata": {},
   "outputs": [
    {
     "name": "stdout",
     "output_type": "stream",
     "text": [
      "<class 'pandas.core.frame.DataFrame'>\n",
      "RangeIndex: 2805 entries, 0 to 2804\n",
      "Data columns (total 5 columns):\n",
      "지역명        2805 non-null object\n",
      "규모구분       2805 non-null object\n",
      "연도         2805 non-null int64\n",
      "월          2805 non-null int64\n",
      "분양가격(㎡)    2674 non-null object\n",
      "dtypes: int64(2), object(3)\n",
      "memory usage: 109.7+ KB\n"
     ]
    }
   ],
   "source": [
    "# 분양가격이 숫자 타입이 아닙니다. 숫자 타입으로 변경해줄 필요가 있겠어요.\n",
    "pre_sale.info()"
   ]
  },
  {
   "cell_type": "code",
   "execution_count": 14,
   "metadata": {},
   "outputs": [
    {
     "data": {
      "text/plain": [
       "지역명        object\n",
       "규모구분       object\n",
       "연도          int64\n",
       "월           int64\n",
       "분양가격(㎡)    object\n",
       "dtype: object"
      ]
     },
     "execution_count": 14,
     "metadata": {},
     "output_type": "execute_result"
    }
   ],
   "source": [
    "pre_sale.dtypes"
   ]
  },
  {
   "cell_type": "code",
   "execution_count": 15,
   "metadata": {},
   "outputs": [
    {
     "data": {
      "text/plain": [
       "지역명          0\n",
       "규모구분         0\n",
       "연도           0\n",
       "월            0\n",
       "분양가격(㎡)    131\n",
       "dtype: int64"
      ]
     },
     "execution_count": 15,
     "metadata": {},
     "output_type": "execute_result"
    }
   ],
   "source": [
    "pre_sale.isnull().sum()"
   ]
  },
  {
   "cell_type": "code",
   "execution_count": 16,
   "metadata": {},
   "outputs": [],
   "source": [
    "import matplotlib.pyplot as plt\n",
    "\n",
    "# Window 의 한글 폰트 설정\n",
    "# plt.rc('font',family='Malgun Gothic')\n",
    "# Mac 의 한글 폰트 설정\n",
    "plt.rc('font', family='NanumGothic') "
   ]
  },
  {
   "cell_type": "code",
   "execution_count": 17,
   "metadata": {},
   "outputs": [
    {
     "data": {
      "text/plain": [
       "<matplotlib.axes._subplots.AxesSubplot at 0x7fef286f6bd0>"
      ]
     },
     "execution_count": 17,
     "metadata": {},
     "output_type": "execute_result"
    },
    {
     "data": {
      "image/png": "[encoded data removed]",
      "text/plain": [
       "<Figure size 1296x432 with 2 Axes>"
      ]
     },
     "metadata": {
      "needs_background": "light"
     },
     "output_type": "display_data"
    }
   ],
   "source": [
    "# 결측치 보기\n",
    "import missingno as msno\n",
    "msno.matrix(pre_sale, figsize=(18,6))"
   ]
  },
  {
   "cell_type": "code",
   "execution_count": 18,
   "metadata": {},
   "outputs": [],
   "source": [
    "# 연도와 월은 카테고리 형태의 데이터이기 때문에 스트링 형태로 변경\n",
    "pre_sale['연도'] = pre_sale['연도'].astype(str)\n",
    "pre_sale['월'] = pre_sale['월'].astype(str)"
   ]
  },
  {
   "cell_type": "code",
   "execution_count": null,
   "metadata": {},
   "outputs": [],
   "source": [
    "pre_sale_price = pre_sale['분양가격(㎡)']\n",
    "pre_sale_price.head()"
   ]
  },
  {
   "cell_type": "code",
   "execution_count": 20,
   "metadata": {},
   "outputs": [],
   "source": [
    "# 분양가격의 타입을 숫자로 변경해 줍니다.\n",
    "pre_sale['분양가격'] = pd.to_numeric(pre_sale_price, errors='coerce')\n",
    "# 평당 분양가격을 구해볼까요.\n",
    "pre_sale['평당분양가격'] = pre_sale['분양가격'] * 3.3"
   ]
  },
  {
   "cell_type": "code",
   "execution_count": 21,
   "metadata": {},
   "outputs": [
    {
     "name": "stdout",
     "output_type": "stream",
     "text": [
      "<class 'pandas.core.frame.DataFrame'>\n",
      "RangeIndex: 2805 entries, 0 to 2804\n",
      "Data columns (total 7 columns):\n",
      "지역명        2805 non-null object\n",
      "규모구분       2805 non-null object\n",
      "연도         2805 non-null object\n",
      "월          2805 non-null object\n",
      "분양가격(㎡)    2674 non-null object\n",
      "분양가격       2582 non-null float64\n",
      "평당분양가격     2582 non-null float64\n",
      "dtypes: float64(2), object(5)\n",
      "memory usage: 153.5+ KB\n"
     ]
    }
   ],
   "source": [
    "pre_sale.info()"
   ]
  },
  {
   "cell_type": "code",
   "execution_count": 22,
   "metadata": {},
   "outputs": [
    {
     "data": {
      "text/plain": [
       "지역명         object\n",
       "규모구분        object\n",
       "연도          object\n",
       "월           object\n",
       "분양가격(㎡)     object\n",
       "분양가격       float64\n",
       "평당분양가격     float64\n",
       "dtype: object"
      ]
     },
     "execution_count": 22,
     "metadata": {},
     "output_type": "execute_result"
    }
   ],
   "source": [
    "pre_sale.dtypes"
   ]
  },
  {
   "cell_type": "code",
   "execution_count": 23,
   "metadata": {
    "scrolled": true
   },
   "outputs": [
    {
     "data": {
      "text/plain": [
       "지역명          0\n",
       "규모구분         0\n",
       "연도           0\n",
       "월            0\n",
       "분양가격(㎡)    131\n",
       "분양가격       223\n",
       "평당분양가격     223\n",
       "dtype: int64"
      ]
     },
     "execution_count": 23,
     "metadata": {},
     "output_type": "execute_result"
    }
   ],
   "source": [
    "# 분양가격에 결측치가 많이 있어요.\n",
    "pre_sale.isnull().sum()"
   ]
  },
  {
   "cell_type": "code",
   "execution_count": 26,
   "metadata": {},
   "outputs": [
    {
     "data": {
      "text/html": [
       "<div>\n",
       "<style scoped>\n",
       "    .dataframe tbody tr th:only-of-type {\n",
       "        vertical-align: middle;\n",
       "    }\n",
       "\n",
       "    .dataframe tbody tr th {\n",
       "        vertical-align: top;\n",
       "    }\n",
       "\n",
       "    .dataframe thead th {\n",
       "        text-align: right;\n",
       "    }\n",
       "</style>\n",
       "<table border=\"1\" class=\"dataframe\">\n",
       "  <thead>\n",
       "    <tr style=\"text-align: right;\">\n",
       "      <th></th>\n",
       "      <th>분양가격</th>\n",
       "      <th>평당분양가격</th>\n",
       "    </tr>\n",
       "  </thead>\n",
       "  <tbody>\n",
       "    <tr>\n",
       "      <th>count</th>\n",
       "      <td>2582.000000</td>\n",
       "      <td>2582.000000</td>\n",
       "    </tr>\n",
       "    <tr>\n",
       "      <th>mean</th>\n",
       "      <td>3056.522851</td>\n",
       "      <td>10086.525407</td>\n",
       "    </tr>\n",
       "    <tr>\n",
       "      <th>std</th>\n",
       "      <td>1110.111932</td>\n",
       "      <td>3663.369377</td>\n",
       "    </tr>\n",
       "    <tr>\n",
       "      <th>min</th>\n",
       "      <td>1868.000000</td>\n",
       "      <td>6164.400000</td>\n",
       "    </tr>\n",
       "    <tr>\n",
       "      <th>25%</th>\n",
       "      <td>2339.000000</td>\n",
       "      <td>7718.700000</td>\n",
       "    </tr>\n",
       "    <tr>\n",
       "      <th>50%</th>\n",
       "      <td>2738.500000</td>\n",
       "      <td>9037.050000</td>\n",
       "    </tr>\n",
       "    <tr>\n",
       "      <th>75%</th>\n",
       "      <td>3289.000000</td>\n",
       "      <td>10853.700000</td>\n",
       "    </tr>\n",
       "    <tr>\n",
       "      <th>max</th>\n",
       "      <td>8098.000000</td>\n",
       "      <td>26723.400000</td>\n",
       "    </tr>\n",
       "  </tbody>\n",
       "</table>\n",
       "</div>"
      ],
      "text/plain": [
       "              분양가격        평당분양가격\n",
       "count  2582.000000   2582.000000\n",
       "mean   3056.522851  10086.525407\n",
       "std    1110.111932   3663.369377\n",
       "min    1868.000000   6164.400000\n",
       "25%    2339.000000   7718.700000\n",
       "50%    2738.500000   9037.050000\n",
       "75%    3289.000000  10853.700000\n",
       "max    8098.000000  26723.400000"
      ]
     },
     "execution_count": 26,
     "metadata": {},
     "output_type": "execute_result"
    }
   ],
   "source": [
    "pre_sale.describe()"
   ]
  },
  {
   "cell_type": "code",
   "execution_count": null,
   "metadata": {},
   "outputs": [],
   "source": [
    "# pre_sale.describe?"
   ]
  },
  {
   "cell_type": "code",
   "execution_count": 27,
   "metadata": {},
   "outputs": [
    {
     "data": {
      "text/html": [
       "<div>\n",
       "<style scoped>\n",
       "    .dataframe tbody tr th:only-of-type {\n",
       "        vertical-align: middle;\n",
       "    }\n",
       "\n",
       "    .dataframe tbody tr th {\n",
       "        vertical-align: top;\n",
       "    }\n",
       "\n",
       "    .dataframe thead th {\n",
       "        text-align: right;\n",
       "    }\n",
       "</style>\n",
       "<table border=\"1\" class=\"dataframe\">\n",
       "  <thead>\n",
       "    <tr style=\"text-align: right;\">\n",
       "      <th></th>\n",
       "      <th>지역명</th>\n",
       "      <th>규모구분</th>\n",
       "      <th>연도</th>\n",
       "      <th>월</th>\n",
       "      <th>분양가격(㎡)</th>\n",
       "    </tr>\n",
       "  </thead>\n",
       "  <tbody>\n",
       "    <tr>\n",
       "      <th>count</th>\n",
       "      <td>2805</td>\n",
       "      <td>2805</td>\n",
       "      <td>2805</td>\n",
       "      <td>2805</td>\n",
       "      <td>2674</td>\n",
       "    </tr>\n",
       "    <tr>\n",
       "      <th>unique</th>\n",
       "      <td>17</td>\n",
       "      <td>5</td>\n",
       "      <td>4</td>\n",
       "      <td>12</td>\n",
       "      <td>1278</td>\n",
       "    </tr>\n",
       "    <tr>\n",
       "      <th>top</th>\n",
       "      <td>인천</td>\n",
       "      <td>전용면적 85㎡초과 102㎡이하</td>\n",
       "      <td>2016</td>\n",
       "      <td>11</td>\n",
       "      <td>2221</td>\n",
       "    </tr>\n",
       "    <tr>\n",
       "      <th>freq</th>\n",
       "      <td>165</td>\n",
       "      <td>561</td>\n",
       "      <td>1020</td>\n",
       "      <td>255</td>\n",
       "      <td>17</td>\n",
       "    </tr>\n",
       "  </tbody>\n",
       "</table>\n",
       "</div>"
      ],
      "text/plain": [
       "         지역명               규모구분    연도     월 분양가격(㎡)\n",
       "count   2805               2805  2805  2805    2674\n",
       "unique    17                  5     4    12    1278\n",
       "top       인천  전용면적 85㎡초과 102㎡이하  2016    11    2221\n",
       "freq     165                561  1020   255      17"
      ]
     },
     "execution_count": 27,
     "metadata": {},
     "output_type": "execute_result"
    }
   ],
   "source": [
    "pre_sale.describe(include=[np.object])"
   ]
  },
  {
   "cell_type": "code",
   "execution_count": 28,
   "metadata": {},
   "outputs": [
    {
     "data": {
      "text/plain": [
       "(1020, 7)"
      ]
     },
     "execution_count": 28,
     "metadata": {},
     "output_type": "execute_result"
    }
   ],
   "source": [
    "# 2017년 데이터만 봅니다.\n",
    "pre_sale_2017 = pre_sale[pre_sale['연도'] == '2017']\n",
    "pre_sale_2017.shape"
   ]
  },
  {
   "cell_type": "code",
   "execution_count": 29,
   "metadata": {},
   "outputs": [
    {
     "data": {
      "text/plain": [
       "전용면적 85㎡초과 102㎡이하    561\n",
       "전용면적 102㎡초과          561\n",
       "전용면적 60㎡이하           561\n",
       "전체                   561\n",
       "전용면적 60㎡초과 85㎡이하     561\n",
       "Name: 규모구분, dtype: int64"
      ]
     },
     "execution_count": 29,
     "metadata": {},
     "output_type": "execute_result"
    }
   ],
   "source": [
    "# 같은 값을 갖고 있는 걸로 시도별로 동일하게 데이터가 들어 있는 것을 확인할 수 있습니다.\n",
    "pre_sale['규모구분'].value_counts()"
   ]
  },
  {
   "cell_type": "code",
   "execution_count": 30,
   "metadata": {},
   "outputs": [
    {
     "data": {
      "text/plain": [
       "인천    165\n",
       "대전    165\n",
       "서울    165\n",
       "세종    165\n",
       "울산    165\n",
       "제주    165\n",
       "전남    165\n",
       "경북    165\n",
       "경남    165\n",
       "충남    165\n",
       "대구    165\n",
       "충북    165\n",
       "전북    165\n",
       "강원    165\n",
       "광주    165\n",
       "경기    165\n",
       "부산    165\n",
       "Name: 지역명, dtype: int64"
      ]
     },
     "execution_count": 30,
     "metadata": {},
     "output_type": "execute_result"
    }
   ],
   "source": [
    "pre_sale['지역명'].value_counts()"
   ]
  },
  {
   "cell_type": "markdown",
   "metadata": {},
   "source": [
    "# 전국평균 분양가격\n",
    "* groupby 와 pivot_table 활용하기"
   ]
  },
  {
   "cell_type": "code",
   "execution_count": null,
   "metadata": {},
   "outputs": [],
   "source": [
    "# ?를 통해 도움말 보기\n",
    "pre_sale.groupby?"
   ]
  },
  {
   "cell_type": "code",
   "execution_count": 33,
   "metadata": {},
   "outputs": [
    {
     "data": {
      "text/html": [
       "<div>\n",
       "<style scoped>\n",
       "    .dataframe tbody tr th:only-of-type {\n",
       "        vertical-align: middle;\n",
       "    }\n",
       "\n",
       "    .dataframe tbody tr th {\n",
       "        vertical-align: top;\n",
       "    }\n",
       "\n",
       "    .dataframe thead th {\n",
       "        text-align: right;\n",
       "    }\n",
       "</style>\n",
       "<table border=\"1\" class=\"dataframe\">\n",
       "  <thead>\n",
       "    <tr style=\"text-align: right;\">\n",
       "      <th></th>\n",
       "      <th>연도</th>\n",
       "      <th>2015</th>\n",
       "      <th>2016</th>\n",
       "      <th>2017</th>\n",
       "      <th>2018</th>\n",
       "    </tr>\n",
       "  </thead>\n",
       "  <tbody>\n",
       "    <tr>\n",
       "      <th rowspan=\"8\" valign=\"top\">분양가격</th>\n",
       "      <th>count</th>\n",
       "      <td>243</td>\n",
       "      <td>984</td>\n",
       "      <td>899</td>\n",
       "      <td>456</td>\n",
       "    </tr>\n",
       "    <tr>\n",
       "      <th>mean</th>\n",
       "      <td>2,789</td>\n",
       "      <td>2,934</td>\n",
       "      <td>3,140</td>\n",
       "      <td>3,299</td>\n",
       "    </tr>\n",
       "    <tr>\n",
       "      <th>std</th>\n",
       "      <td>977</td>\n",
       "      <td>1,071</td>\n",
       "      <td>1,108</td>\n",
       "      <td>1,199</td>\n",
       "    </tr>\n",
       "    <tr>\n",
       "      <th>min</th>\n",
       "      <td>1,868</td>\n",
       "      <td>1,900</td>\n",
       "      <td>1,976</td>\n",
       "      <td>2,076</td>\n",
       "    </tr>\n",
       "    <tr>\n",
       "      <th>25%</th>\n",
       "      <td>2,225</td>\n",
       "      <td>2,282</td>\n",
       "      <td>2,365</td>\n",
       "      <td>2,470</td>\n",
       "    </tr>\n",
       "    <tr>\n",
       "      <th>50%</th>\n",
       "      <td>2,516</td>\n",
       "      <td>2,672</td>\n",
       "      <td>2,849</td>\n",
       "      <td>2,912</td>\n",
       "    </tr>\n",
       "    <tr>\n",
       "      <th>75%</th>\n",
       "      <td>3,026</td>\n",
       "      <td>3,148</td>\n",
       "      <td>3,456</td>\n",
       "      <td>3,647</td>\n",
       "    </tr>\n",
       "    <tr>\n",
       "      <th>max</th>\n",
       "      <td>7,092</td>\n",
       "      <td>8,096</td>\n",
       "      <td>7,887</td>\n",
       "      <td>8,098</td>\n",
       "    </tr>\n",
       "    <tr>\n",
       "      <th rowspan=\"8\" valign=\"top\">평당분양가격</th>\n",
       "      <th>count</th>\n",
       "      <td>243</td>\n",
       "      <td>984</td>\n",
       "      <td>899</td>\n",
       "      <td>456</td>\n",
       "    </tr>\n",
       "    <tr>\n",
       "      <th>mean</th>\n",
       "      <td>9,203</td>\n",
       "      <td>9,683</td>\n",
       "      <td>10,360</td>\n",
       "      <td>10,888</td>\n",
       "    </tr>\n",
       "    <tr>\n",
       "      <th>std</th>\n",
       "      <td>3,224</td>\n",
       "      <td>3,536</td>\n",
       "      <td>3,655</td>\n",
       "      <td>3,958</td>\n",
       "    </tr>\n",
       "    <tr>\n",
       "      <th>min</th>\n",
       "      <td>6,164</td>\n",
       "      <td>6,270</td>\n",
       "      <td>6,521</td>\n",
       "      <td>6,851</td>\n",
       "    </tr>\n",
       "    <tr>\n",
       "      <th>25%</th>\n",
       "      <td>7,342</td>\n",
       "      <td>7,531</td>\n",
       "      <td>7,804</td>\n",
       "      <td>8,153</td>\n",
       "    </tr>\n",
       "    <tr>\n",
       "      <th>50%</th>\n",
       "      <td>8,303</td>\n",
       "      <td>8,818</td>\n",
       "      <td>9,402</td>\n",
       "      <td>9,611</td>\n",
       "    </tr>\n",
       "    <tr>\n",
       "      <th>75%</th>\n",
       "      <td>9,984</td>\n",
       "      <td>10,390</td>\n",
       "      <td>11,405</td>\n",
       "      <td>12,036</td>\n",
       "    </tr>\n",
       "    <tr>\n",
       "      <th>max</th>\n",
       "      <td>23,404</td>\n",
       "      <td>26,717</td>\n",
       "      <td>26,027</td>\n",
       "      <td>26,723</td>\n",
       "    </tr>\n",
       "  </tbody>\n",
       "</table>\n",
       "</div>"
      ],
      "text/plain": [
       "연도             2015   2016   2017   2018\n",
       "분양가격   count    243    984    899    456\n",
       "       mean   2,789  2,934  3,140  3,299\n",
       "       std      977  1,071  1,108  1,199\n",
       "       min    1,868  1,900  1,976  2,076\n",
       "       25%    2,225  2,282  2,365  2,470\n",
       "       50%    2,516  2,672  2,849  2,912\n",
       "       75%    3,026  3,148  3,456  3,647\n",
       "       max    7,092  8,096  7,887  8,098\n",
       "평당분양가격 count    243    984    899    456\n",
       "       mean   9,203  9,683 10,360 10,888\n",
       "       std    3,224  3,536  3,655  3,958\n",
       "       min    6,164  6,270  6,521  6,851\n",
       "       25%    7,342  7,531  7,804  8,153\n",
       "       50%    8,303  8,818  9,402  9,611\n",
       "       75%    9,984 10,390 11,405 12,036\n",
       "       max   23,404 26,717 26,027 26,723"
      ]
     },
     "execution_count": 33,
     "metadata": {},
     "output_type": "execute_result"
    }
   ],
   "source": [
    "# 분양가격만 봤을 때 2015년에서 2018년으로 갈수록 오른 것을 확인할 수 있습니다.\n",
    "pd.options.display.float_format = '{:,.0f}'.format\n",
    "pre_sale.groupby(pre_sale.연도).describe().T"
   ]
  },
  {
   "cell_type": "markdown",
   "metadata": {},
   "source": [
    "## 규모별 전국 평균 분양가격"
   ]
  },
  {
   "cell_type": "code",
   "execution_count": null,
   "metadata": {},
   "outputs": [],
   "source": [
    "# ?로 도움말 보기\n",
    "pre_sale.pivot_table?"
   ]
  },
  {
   "cell_type": "code",
   "execution_count": 35,
   "metadata": {},
   "outputs": [
    {
     "data": {
      "text/html": [
       "<div>\n",
       "<style scoped>\n",
       "    .dataframe tbody tr th:only-of-type {\n",
       "        vertical-align: middle;\n",
       "    }\n",
       "\n",
       "    .dataframe tbody tr th {\n",
       "        vertical-align: top;\n",
       "    }\n",
       "\n",
       "    .dataframe thead th {\n",
       "        text-align: right;\n",
       "    }\n",
       "</style>\n",
       "<table border=\"1\" class=\"dataframe\">\n",
       "  <thead>\n",
       "    <tr style=\"text-align: right;\">\n",
       "      <th>연도</th>\n",
       "      <th>2015</th>\n",
       "      <th>2016</th>\n",
       "      <th>2017</th>\n",
       "      <th>2018</th>\n",
       "    </tr>\n",
       "    <tr>\n",
       "      <th>규모구분</th>\n",
       "      <th></th>\n",
       "      <th></th>\n",
       "      <th></th>\n",
       "      <th></th>\n",
       "    </tr>\n",
       "  </thead>\n",
       "  <tbody>\n",
       "    <tr>\n",
       "      <th>전용면적 102㎡초과</th>\n",
       "      <td>9,837</td>\n",
       "      <td>10,389</td>\n",
       "      <td>11,334</td>\n",
       "      <td>11,260</td>\n",
       "    </tr>\n",
       "    <tr>\n",
       "      <th>전용면적 60㎡이하</th>\n",
       "      <td>8,952</td>\n",
       "      <td>9,399</td>\n",
       "      <td>10,246</td>\n",
       "      <td>10,957</td>\n",
       "    </tr>\n",
       "    <tr>\n",
       "      <th>전용면적 60㎡초과 85㎡이하</th>\n",
       "      <td>8,892</td>\n",
       "      <td>9,296</td>\n",
       "      <td>9,825</td>\n",
       "      <td>10,438</td>\n",
       "    </tr>\n",
       "    <tr>\n",
       "      <th>전용면적 85㎡초과 102㎡이하</th>\n",
       "      <td>9,519</td>\n",
       "      <td>10,122</td>\n",
       "      <td>10,540</td>\n",
       "      <td>11,457</td>\n",
       "    </tr>\n",
       "    <tr>\n",
       "      <th>전체</th>\n",
       "      <td>8,893</td>\n",
       "      <td>9,293</td>\n",
       "      <td>9,901</td>\n",
       "      <td>10,560</td>\n",
       "    </tr>\n",
       "  </tbody>\n",
       "</table>\n",
       "</div>"
      ],
      "text/plain": [
       "연도                 2015   2016   2017   2018\n",
       "규모구분                                        \n",
       "전용면적 102㎡초과       9,837 10,389 11,334 11,260\n",
       "전용면적 60㎡이하        8,952  9,399 10,246 10,957\n",
       "전용면적 60㎡초과 85㎡이하  8,892  9,296  9,825 10,438\n",
       "전용면적 85㎡초과 102㎡이하 9,519 10,122 10,540 11,457\n",
       "전체                8,893  9,293  9,901 10,560"
      ]
     },
     "execution_count": 35,
     "metadata": {},
     "output_type": "execute_result"
    }
   ],
   "source": [
    "pre_sale.pivot_table('평당분양가격', '규모구분', '연도')"
   ]
  },
  {
   "cell_type": "markdown",
   "metadata": {},
   "source": [
    "# 전국 분양가 변동금액\n",
    "규모구분이 전체로 되어있는 금액으로 연도별 변동금액을 살펴봅니다."
   ]
  },
  {
   "cell_type": "code",
   "execution_count": 36,
   "metadata": {},
   "outputs": [
    {
     "data": {
      "text/html": [
       "<div>\n",
       "<style scoped>\n",
       "    .dataframe tbody tr th:only-of-type {\n",
       "        vertical-align: middle;\n",
       "    }\n",
       "\n",
       "    .dataframe tbody tr th {\n",
       "        vertical-align: top;\n",
       "    }\n",
       "\n",
       "    .dataframe thead th {\n",
       "        text-align: right;\n",
       "    }\n",
       "</style>\n",
       "<table border=\"1\" class=\"dataframe\">\n",
       "  <thead>\n",
       "    <tr style=\"text-align: right;\">\n",
       "      <th>연도</th>\n",
       "      <th>지역명</th>\n",
       "      <th>2015</th>\n",
       "      <th>2016</th>\n",
       "      <th>2017</th>\n",
       "      <th>2018</th>\n",
       "    </tr>\n",
       "  </thead>\n",
       "  <tbody>\n",
       "    <tr>\n",
       "      <th>0</th>\n",
       "      <td>강원</td>\n",
       "      <td>7,160</td>\n",
       "      <td>7,011</td>\n",
       "      <td>7,127</td>\n",
       "      <td>7,643</td>\n",
       "    </tr>\n",
       "    <tr>\n",
       "      <th>1</th>\n",
       "      <td>경기</td>\n",
       "      <td>10,377</td>\n",
       "      <td>11,220</td>\n",
       "      <td>11,850</td>\n",
       "      <td>12,854</td>\n",
       "    </tr>\n",
       "    <tr>\n",
       "      <th>2</th>\n",
       "      <td>경남</td>\n",
       "      <td>7,586</td>\n",
       "      <td>7,848</td>\n",
       "      <td>8,120</td>\n",
       "      <td>8,894</td>\n",
       "    </tr>\n",
       "    <tr>\n",
       "      <th>3</th>\n",
       "      <td>경북</td>\n",
       "      <td>7,171</td>\n",
       "      <td>7,361</td>\n",
       "      <td>7,795</td>\n",
       "      <td>8,262</td>\n",
       "    </tr>\n",
       "    <tr>\n",
       "      <th>4</th>\n",
       "      <td>광주</td>\n",
       "      <td>8,052</td>\n",
       "      <td>8,899</td>\n",
       "      <td>9,464</td>\n",
       "      <td>9,630</td>\n",
       "    </tr>\n",
       "    <tr>\n",
       "      <th>5</th>\n",
       "      <td>대구</td>\n",
       "      <td>9,232</td>\n",
       "      <td>10,310</td>\n",
       "      <td>11,456</td>\n",
       "      <td>11,652</td>\n",
       "    </tr>\n",
       "    <tr>\n",
       "      <th>6</th>\n",
       "      <td>대전</td>\n",
       "      <td>8,098</td>\n",
       "      <td>8,502</td>\n",
       "      <td>9,045</td>\n",
       "      <td>9,589</td>\n",
       "    </tr>\n",
       "    <tr>\n",
       "      <th>7</th>\n",
       "      <td>부산</td>\n",
       "      <td>10,307</td>\n",
       "      <td>10,430</td>\n",
       "      <td>11,578</td>\n",
       "      <td>12,710</td>\n",
       "    </tr>\n",
       "    <tr>\n",
       "      <th>8</th>\n",
       "      <td>서울</td>\n",
       "      <td>19,725</td>\n",
       "      <td>20,663</td>\n",
       "      <td>21,376</td>\n",
       "      <td>22,299</td>\n",
       "    </tr>\n",
       "    <tr>\n",
       "      <th>9</th>\n",
       "      <td>세종</td>\n",
       "      <td>8,750</td>\n",
       "      <td>8,860</td>\n",
       "      <td>9,135</td>\n",
       "      <td>10,382</td>\n",
       "    </tr>\n",
       "    <tr>\n",
       "      <th>10</th>\n",
       "      <td>울산</td>\n",
       "      <td>10,053</td>\n",
       "      <td>10,209</td>\n",
       "      <td>11,345</td>\n",
       "      <td>10,441</td>\n",
       "    </tr>\n",
       "    <tr>\n",
       "      <th>11</th>\n",
       "      <td>인천</td>\n",
       "      <td>10,484</td>\n",
       "      <td>10,532</td>\n",
       "      <td>10,737</td>\n",
       "      <td>11,218</td>\n",
       "    </tr>\n",
       "    <tr>\n",
       "      <th>12</th>\n",
       "      <td>전남</td>\n",
       "      <td>6,317</td>\n",
       "      <td>6,489</td>\n",
       "      <td>7,188</td>\n",
       "      <td>7,794</td>\n",
       "    </tr>\n",
       "    <tr>\n",
       "      <th>13</th>\n",
       "      <td>전북</td>\n",
       "      <td>6,703</td>\n",
       "      <td>6,418</td>\n",
       "      <td>7,058</td>\n",
       "      <td>7,552</td>\n",
       "    </tr>\n",
       "    <tr>\n",
       "      <th>14</th>\n",
       "      <td>제주</td>\n",
       "      <td>7,405</td>\n",
       "      <td>9,129</td>\n",
       "      <td>10,831</td>\n",
       "      <td>12,741</td>\n",
       "    </tr>\n",
       "    <tr>\n",
       "      <th>15</th>\n",
       "      <td>충남</td>\n",
       "      <td>7,115</td>\n",
       "      <td>7,331</td>\n",
       "      <td>7,456</td>\n",
       "      <td>7,973</td>\n",
       "    </tr>\n",
       "    <tr>\n",
       "      <th>16</th>\n",
       "      <td>충북</td>\n",
       "      <td>6,645</td>\n",
       "      <td>6,770</td>\n",
       "      <td>6,763</td>\n",
       "      <td>7,893</td>\n",
       "    </tr>\n",
       "  </tbody>\n",
       "</table>\n",
       "</div>"
      ],
      "text/plain": [
       "연도 지역명   2015   2016   2017   2018\n",
       "0   강원  7,160  7,011  7,127  7,643\n",
       "1   경기 10,377 11,220 11,850 12,854\n",
       "2   경남  7,586  7,848  8,120  8,894\n",
       "3   경북  7,171  7,361  7,795  8,262\n",
       "4   광주  8,052  8,899  9,464  9,630\n",
       "5   대구  9,232 10,310 11,456 11,652\n",
       "6   대전  8,098  8,502  9,045  9,589\n",
       "7   부산 10,307 10,430 11,578 12,710\n",
       "8   서울 19,725 20,663 21,376 22,299\n",
       "9   세종  8,750  8,860  9,135 10,382\n",
       "10  울산 10,053 10,209 11,345 10,441\n",
       "11  인천 10,484 10,532 10,737 11,218\n",
       "12  전남  6,317  6,489  7,188  7,794\n",
       "13  전북  6,703  6,418  7,058  7,552\n",
       "14  제주  7,405  9,129 10,831 12,741\n",
       "15  충남  7,115  7,331  7,456  7,973\n",
       "16  충북  6,645  6,770  6,763  7,893"
      ]
     },
     "execution_count": 36,
     "metadata": {},
     "output_type": "execute_result"
    }
   ],
   "source": [
    "# 규모구분에서 전체로 되어있는 데이터만 가져온다.\n",
    "region_year_all = pre_sale.loc[pre_sale['규모구분'] == '전체']\n",
    "region_year = region_year_all.pivot_table(\n",
    "    '평당분양가격', '지역명', '연도').reset_index()\n",
    "region_year"
   ]
  },
  {
   "cell_type": "code",
   "execution_count": 37,
   "metadata": {},
   "outputs": [
    {
     "name": "stdout",
     "output_type": "stream",
     "text": [
      "2015년부터 2018년까지 분양가는 계속 상승했으며, 상승액이 가장 큰 지역은 제주이며 상승액은 평당 5,335,000원이다.\n",
      "상승액이 가장 작은 지역은 울산이며 평당 387,000원이다.\n",
      "하지만 나중에 살펴보겠지만 울산에는 결측치가 많다. 따라서 변동액이 가장 작다라고 판단하기 어렵다.\n",
      "전국 평균 변동액은 평당 1,666,647원이다.\n"
     ]
    },
    {
     "data": {
      "text/html": [
       "<div>\n",
       "<style scoped>\n",
       "    .dataframe tbody tr th:only-of-type {\n",
       "        vertical-align: middle;\n",
       "    }\n",
       "\n",
       "    .dataframe tbody tr th {\n",
       "        vertical-align: top;\n",
       "    }\n",
       "\n",
       "    .dataframe thead th {\n",
       "        text-align: right;\n",
       "    }\n",
       "</style>\n",
       "<table border=\"1\" class=\"dataframe\">\n",
       "  <thead>\n",
       "    <tr style=\"text-align: right;\">\n",
       "      <th>연도</th>\n",
       "      <th>지역명</th>\n",
       "      <th>2015</th>\n",
       "      <th>2016</th>\n",
       "      <th>2017</th>\n",
       "      <th>2018</th>\n",
       "      <th>변동액</th>\n",
       "    </tr>\n",
       "  </thead>\n",
       "  <tbody>\n",
       "    <tr>\n",
       "      <th>0</th>\n",
       "      <td>강원</td>\n",
       "      <td>7,160</td>\n",
       "      <td>7,011</td>\n",
       "      <td>7,127</td>\n",
       "      <td>7,643</td>\n",
       "      <td>482</td>\n",
       "    </tr>\n",
       "    <tr>\n",
       "      <th>1</th>\n",
       "      <td>경기</td>\n",
       "      <td>10,377</td>\n",
       "      <td>11,220</td>\n",
       "      <td>11,850</td>\n",
       "      <td>12,854</td>\n",
       "      <td>2476</td>\n",
       "    </tr>\n",
       "    <tr>\n",
       "      <th>2</th>\n",
       "      <td>경남</td>\n",
       "      <td>7,586</td>\n",
       "      <td>7,848</td>\n",
       "      <td>8,120</td>\n",
       "      <td>8,894</td>\n",
       "      <td>1308</td>\n",
       "    </tr>\n",
       "    <tr>\n",
       "      <th>3</th>\n",
       "      <td>경북</td>\n",
       "      <td>7,171</td>\n",
       "      <td>7,361</td>\n",
       "      <td>7,795</td>\n",
       "      <td>8,262</td>\n",
       "      <td>1090</td>\n",
       "    </tr>\n",
       "    <tr>\n",
       "      <th>4</th>\n",
       "      <td>광주</td>\n",
       "      <td>8,052</td>\n",
       "      <td>8,899</td>\n",
       "      <td>9,464</td>\n",
       "      <td>9,630</td>\n",
       "      <td>1577</td>\n",
       "    </tr>\n",
       "    <tr>\n",
       "      <th>5</th>\n",
       "      <td>대구</td>\n",
       "      <td>9,232</td>\n",
       "      <td>10,310</td>\n",
       "      <td>11,456</td>\n",
       "      <td>11,652</td>\n",
       "      <td>2419</td>\n",
       "    </tr>\n",
       "    <tr>\n",
       "      <th>6</th>\n",
       "      <td>대전</td>\n",
       "      <td>8,098</td>\n",
       "      <td>8,502</td>\n",
       "      <td>9,045</td>\n",
       "      <td>9,589</td>\n",
       "      <td>1490</td>\n",
       "    </tr>\n",
       "    <tr>\n",
       "      <th>7</th>\n",
       "      <td>부산</td>\n",
       "      <td>10,307</td>\n",
       "      <td>10,430</td>\n",
       "      <td>11,578</td>\n",
       "      <td>12,710</td>\n",
       "      <td>2402</td>\n",
       "    </tr>\n",
       "    <tr>\n",
       "      <th>8</th>\n",
       "      <td>서울</td>\n",
       "      <td>19,725</td>\n",
       "      <td>20,663</td>\n",
       "      <td>21,376</td>\n",
       "      <td>22,299</td>\n",
       "      <td>2574</td>\n",
       "    </tr>\n",
       "    <tr>\n",
       "      <th>9</th>\n",
       "      <td>세종</td>\n",
       "      <td>8,750</td>\n",
       "      <td>8,860</td>\n",
       "      <td>9,135</td>\n",
       "      <td>10,382</td>\n",
       "      <td>1631</td>\n",
       "    </tr>\n",
       "    <tr>\n",
       "      <th>10</th>\n",
       "      <td>울산</td>\n",
       "      <td>10,053</td>\n",
       "      <td>10,209</td>\n",
       "      <td>11,345</td>\n",
       "      <td>10,441</td>\n",
       "      <td>387</td>\n",
       "    </tr>\n",
       "    <tr>\n",
       "      <th>11</th>\n",
       "      <td>인천</td>\n",
       "      <td>10,484</td>\n",
       "      <td>10,532</td>\n",
       "      <td>10,737</td>\n",
       "      <td>11,218</td>\n",
       "      <td>734</td>\n",
       "    </tr>\n",
       "    <tr>\n",
       "      <th>12</th>\n",
       "      <td>전남</td>\n",
       "      <td>6,317</td>\n",
       "      <td>6,489</td>\n",
       "      <td>7,188</td>\n",
       "      <td>7,794</td>\n",
       "      <td>1476</td>\n",
       "    </tr>\n",
       "    <tr>\n",
       "      <th>13</th>\n",
       "      <td>전북</td>\n",
       "      <td>6,703</td>\n",
       "      <td>6,418</td>\n",
       "      <td>7,058</td>\n",
       "      <td>7,552</td>\n",
       "      <td>848</td>\n",
       "    </tr>\n",
       "    <tr>\n",
       "      <th>14</th>\n",
       "      <td>제주</td>\n",
       "      <td>7,405</td>\n",
       "      <td>9,129</td>\n",
       "      <td>10,831</td>\n",
       "      <td>12,741</td>\n",
       "      <td>5335</td>\n",
       "    </tr>\n",
       "    <tr>\n",
       "      <th>15</th>\n",
       "      <td>충남</td>\n",
       "      <td>7,115</td>\n",
       "      <td>7,331</td>\n",
       "      <td>7,456</td>\n",
       "      <td>7,973</td>\n",
       "      <td>857</td>\n",
       "    </tr>\n",
       "    <tr>\n",
       "      <th>16</th>\n",
       "      <td>충북</td>\n",
       "      <td>6,645</td>\n",
       "      <td>6,770</td>\n",
       "      <td>6,763</td>\n",
       "      <td>7,893</td>\n",
       "      <td>1247</td>\n",
       "    </tr>\n",
       "  </tbody>\n",
       "</table>\n",
       "</div>"
      ],
      "text/plain": [
       "연도 지역명   2015   2016   2017   2018   변동액\n",
       "0   강원  7,160  7,011  7,127  7,643   482\n",
       "1   경기 10,377 11,220 11,850 12,854  2476\n",
       "2   경남  7,586  7,848  8,120  8,894  1308\n",
       "3   경북  7,171  7,361  7,795  8,262  1090\n",
       "4   광주  8,052  8,899  9,464  9,630  1577\n",
       "5   대구  9,232 10,310 11,456 11,652  2419\n",
       "6   대전  8,098  8,502  9,045  9,589  1490\n",
       "7   부산 10,307 10,430 11,578 12,710  2402\n",
       "8   서울 19,725 20,663 21,376 22,299  2574\n",
       "9   세종  8,750  8,860  9,135 10,382  1631\n",
       "10  울산 10,053 10,209 11,345 10,441   387\n",
       "11  인천 10,484 10,532 10,737 11,218   734\n",
       "12  전남  6,317  6,489  7,188  7,794  1476\n",
       "13  전북  6,703  6,418  7,058  7,552   848\n",
       "14  제주  7,405  9,129 10,831 12,741  5335\n",
       "15  충남  7,115  7,331  7,456  7,973   857\n",
       "16  충북  6,645  6,770  6,763  7,893  1247"
      ]
     },
     "execution_count": 37,
     "metadata": {},
     "output_type": "execute_result"
    }
   ],
   "source": [
    "region_year['변동액'] = (region_year['2018'] - region_year['2015']\n",
    "                     ).astype(int)\n",
    "max_delta_price = np.max(region_year['변동액'])*1000\n",
    "min_delta_price = np.min(region_year['변동액'])*1000\n",
    "mean_delta_price = np.mean(region_year['변동액'])*1000\n",
    "\n",
    "print(f'2015년부터 2018년까지 분양가는 계속 상승했으며, 상승액이 가장 큰 지역은 제주이며 상승액은 평당 {max_delta_price:,.0f}원이다.')\n",
    "print(f'상승액이 가장 작은 지역은 울산이며 평당 {min_delta_price:,.0f}원이다.')\n",
    "print(f'하지만 나중에 살펴보겠지만 울산에는 결측치가 많다. 따라서 변동액이 가장 작다라고 판단하기 어렵다.')\n",
    "print(f'전국 평균 변동액은 평당 {mean_delta_price:,.0f}원이다.')\n",
    "\n",
    "region_year"
   ]
  },
  {
   "cell_type": "markdown",
   "metadata": {},
   "source": [
    "* 지금까지 2015년 10월에서 2018년 7월까지의 21개월간의 전국 신규 민간 아파트 분양가격 동향 파일을 요약해 봤습니다.\n",
    "* Pandas를 통해 데이터를 가져오고 요약해 보고 엑셀과 비슷하게 피봇테이블을 그려보기도 하고 groupby를 사용해서 데이터를 요약해 보기도 했습니다.\n",
    "\n",
    "# 시각화\n",
    "* 앤스콤의 4인방 영상 : https://www.youtube.com/watch?v=3KqdNNJ-20Y\n",
    "* 데이터를 시각화 해보기에 앞서 앤스콤의 4인방을 보겠습니다.\n",
    "* 아래 4개의 그래프는 다른 데이터로 그려졌습니다.\n",
    "* 또 이 4개의 데이터는 평균, 표준편차, 상관계수가 같습니다. 하지만 시각화 했을 때 전혀 다른 데이터임을 확인할 수 있습니다.\n",
    "* 이 앤스콤의 4인방은 요약된 데이터만으로 데이터를 판단할 수 없다는 것을 보여줍니다.\n",
    "* 데이터 시각화의 중요성을 얘기할 때 자주 등장하는 예시입니다.\n",
    "* [Anscombe's quartet - Wikipedia](https://en.wikipedia.org/wiki/Anscombe%27s_quartet)\n",
    "* [The Datasaurus Dozen - Same Stats, Different Graphs: Generating Datasets with Varied Appearance and Identical Statistics through Simulated Annealing | Autodesk Research](https://www.autodeskresearch.com/publications/samestats)"
   ]
  },
  {
   "cell_type": "markdown",
   "metadata": {},
   "source": [
    "![](https://upload.wikimedia.org/wikipedia/commons/thumb/e/ec/Anscombe%27s_quartet_3.svg/990px-Anscombe%27s_quartet_3.svg.png)"
   ]
  },
  {
   "cell_type": "markdown",
   "metadata": {},
   "source": [
    "## 이럴 때 이런 시각화\n",
    "* [분류:통계 차트와 다이어그램 - 위키백과, 우리 모두의 백과사전](https://ko.wikipedia.org/wiki/%EB%B6%84%EB%A5%98:%ED%86%B5%EA%B3%84_%EC%B0%A8%ED%8A%B8%EC%99%80_%EB%8B%A4%EC%9D%B4%EC%96%B4%EA%B7%B8%EB%9E%A8)\n",
    "\n",
    "\n",
    "## Pandas 로 시각화 하기\n",
    "* 공식 문서 : [Visualization — pandas 0.24.2 documentation](https://pandas.pydata.org/pandas-docs/stable/user_guide/visualization.html)\n",
    "\n",
    "## Seaborn 으로 시각화 하기\n",
    "* 공식 문서:[seaborn: statistical data visualization — seaborn 0.9.0 documentation](https://seaborn.pydata.org/)"
   ]
  },
  {
   "cell_type": "markdown",
   "metadata": {},
   "source": [
    "## 연도별 변동 그래프"
   ]
  },
  {
   "cell_type": "markdown",
   "metadata": {},
   "source": [
    "* 공공데이터포털에서 제공하고 있는 평균 분양가격을 연도, 지역별로 그려봄\n",
    "* 폰트 설정을 위해 Matplotlib의 환경설정에서 한글폰트 설정이 필요합니다.\n",
    "* 한글폰트를 지정해 주지 않는다면 글자가 두부모양으로 깨져보이게 됩니다."
   ]
  },
  {
   "cell_type": "code",
   "execution_count": null,
   "metadata": {},
   "outputs": [],
   "source": [
    "# (ggplot(region_year_all, aes(x='지역명', y='평당분양가격', fill='연도'))\n",
    "#  + geom_bar(stat='identity', position='dodge')\n",
    "#  + ggtitle('2015-2018년 신규 민간 아파트 분양가격')\n",
    "#  + theme(text=element_text(family='NanumBarunGothic'),\n",
    "#          figure_size=(8, 4))\n",
    "# )"
   ]
  },
  {
   "cell_type": "code",
   "execution_count": 38,
   "metadata": {},
   "outputs": [],
   "source": [
    "import seaborn as sns\n",
    "# 아래의 코드로 스타일을 지정해 주면 폰트 설정이 초기화 됩니다. \n",
    "# 따라서, 폰트설정은 스타일 지정 이후에 해주셔야 합니다.\n",
    "sns.set_style(\"whitegrid\")"
   ]
  },
  {
   "cell_type": "code",
   "execution_count": 39,
   "metadata": {},
   "outputs": [],
   "source": [
    "import matplotlib.pyplot as plt\n",
    "\n",
    "# Window 의 한글 폰트 설정\n",
    "# plt.rc('font',family='Malgun Gothic')\n",
    "# Mac 의 한글 폰트 설정\n",
    "plt.rc('font', family='NanumGothic') "
   ]
  },
  {
   "cell_type": "markdown",
   "metadata": {},
   "source": [
    "### 막대그래프\n",
    "* 막대 그래프(-graph), 바 차트(bar chart), 바 그래프(bar graph)는 표현 값에 비례하여 높이와 길이를 지닌 직사각형 막대로 범주형 데이터를 표현하는 차트나 그래프를 말한다. 막대는 수직으로나 수평으로 그릴 수 있다. 수직 막대 그래프는 선 그래프 또는 라인 그래프(line graph)라고도 한다.\n",
    "* 출처 : [막대 그래프 - 위키백과, 우리 모두의 백과사전](https://ko.wikipedia.org/wiki/%EB%A7%89%EB%8C%80_%EA%B7%B8%EB%9E%98%ED%94%84)"
   ]
  },
  {
   "cell_type": "markdown",
   "metadata": {},
   "source": [
    "## seaborn 으로 막대그래프 그리기"
   ]
  },
  {
   "cell_type": "code",
   "execution_count": 40,
   "metadata": {},
   "outputs": [
    {
     "data": {
      "text/plain": [
       "<matplotlib.axes._subplots.AxesSubplot at 0x7fef2dfaaed0>"
      ]
     },
     "execution_count": 40,
     "metadata": {},
     "output_type": "execute_result"
    },
    {
     "data": {
      "image/png": "[encoded data removed]",
      "text/plain": [
       "<Figure size 1440x576 with 1 Axes>"
      ]
     },
     "metadata": {},
     "output_type": "display_data"
    }
   ],
   "source": [
    "import seaborn as sns\n",
    "sns.set_style(\"whitegrid\")\n",
    "plt.rc('font', family='NanumGothic') \n",
    "# 내부적으로 계산을 해서 그리기 때문에 속도가 좀 느립니다.\n",
    "# 하지만, seaborn 으로 시각화를 할 때는 내부적으로 계산을 해주기 때문에 \n",
    "# 따로 데이터를 aggregation 해주지 않아도 되는 장점이 있습니다.\n",
    "# seaborn 으로 시각화 했는지 여부는 그래프를 그리는 코드 앞부분에 sns 라는 별칭이 있는지 확인해 보시면 됩니다.\n",
    "plt.figure(figsize=(20, 8))\n",
    "plt.title('2015-2018년 신규 민간 아파트 분양가격')\n",
    "sns.barplot(data=region_year_all, x='지역명', y='평당분양가격', \n",
    "            hue='연도')"
   ]
  },
  {
   "cell_type": "markdown",
   "metadata": {},
   "source": [
    "## 판다스로 막대그래프 그리기"
   ]
  },
  {
   "cell_type": "code",
   "execution_count": 41,
   "metadata": {
    "scrolled": true
   },
   "outputs": [
    {
     "data": {
      "text/html": [
       "<div>\n",
       "<style scoped>\n",
       "    .dataframe tbody tr th:only-of-type {\n",
       "        vertical-align: middle;\n",
       "    }\n",
       "\n",
       "    .dataframe tbody tr th {\n",
       "        vertical-align: top;\n",
       "    }\n",
       "\n",
       "    .dataframe thead th {\n",
       "        text-align: right;\n",
       "    }\n",
       "</style>\n",
       "<table border=\"1\" class=\"dataframe\">\n",
       "  <thead>\n",
       "    <tr style=\"text-align: right;\">\n",
       "      <th>연도</th>\n",
       "      <th>2015</th>\n",
       "      <th>2016</th>\n",
       "      <th>2017</th>\n",
       "      <th>2018</th>\n",
       "    </tr>\n",
       "    <tr>\n",
       "      <th>지역명</th>\n",
       "      <th></th>\n",
       "      <th></th>\n",
       "      <th></th>\n",
       "      <th></th>\n",
       "    </tr>\n",
       "  </thead>\n",
       "  <tbody>\n",
       "    <tr>\n",
       "      <th>대구</th>\n",
       "      <td>9,232</td>\n",
       "      <td>10,310</td>\n",
       "      <td>11,456</td>\n",
       "      <td>11,652</td>\n",
       "    </tr>\n",
       "    <tr>\n",
       "      <th>경기</th>\n",
       "      <td>10,377</td>\n",
       "      <td>11,220</td>\n",
       "      <td>11,850</td>\n",
       "      <td>12,854</td>\n",
       "    </tr>\n",
       "    <tr>\n",
       "      <th>광주</th>\n",
       "      <td>8,052</td>\n",
       "      <td>8,899</td>\n",
       "      <td>9,464</td>\n",
       "      <td>9,630</td>\n",
       "    </tr>\n",
       "  </tbody>\n",
       "</table>\n",
       "</div>"
      ],
      "text/plain": [
       "연도    2015   2016   2017   2018\n",
       "지역명                            \n",
       "대구   9,232 10,310 11,456 11,652\n",
       "경기  10,377 11,220 11,850 12,854\n",
       "광주   8,052  8,899  9,464  9,630"
      ]
     },
     "execution_count": 41,
     "metadata": {},
     "output_type": "execute_result"
    }
   ],
   "source": [
    "# pandas 로 시각화 하기위해 적합한 형태로 데이터를 변형합니다.\n",
    "# 지역별로 bar plot을 그리고 지역별 bar를 연도별로 그립니다.\n",
    "df_year_region = pd.pivot_table(region_year_all, \n",
    "                                index=['지역명'], columns='연도', \n",
    "                                values='평당분양가격')\n",
    "df_year_region.sample(3)"
   ]
  },
  {
   "cell_type": "code",
   "execution_count": 42,
   "metadata": {},
   "outputs": [
    {
     "data": {
      "text/plain": [
       "Index(['2015', '2016', '2017', '2018'], dtype='object', name='연도')"
      ]
     },
     "execution_count": 42,
     "metadata": {},
     "output_type": "execute_result"
    }
   ],
   "source": [
    "df_year_region.columns"
   ]
  },
  {
   "cell_type": "code",
   "execution_count": 43,
   "metadata": {},
   "outputs": [
    {
     "data": {
      "text/plain": [
       "<matplotlib.axes._subplots.AxesSubplot at 0x7fef280a5350>"
      ]
     },
     "execution_count": 43,
     "metadata": {},
     "output_type": "execute_result"
    },
    {
     "data": {
      "image/png": "[encoded data removed]",
      "text/plain": [
       "<Figure size 1728x576 with 1 Axes>"
      ]
     },
     "metadata": {},
     "output_type": "display_data"
    }
   ],
   "source": [
    "df_year_region.plot.bar(figsize=(24, 8), \n",
    "                        grid=True, fontsize=20, rot=0, \n",
    "                        title='지역, 연도별 평당 평균 분양가')"
   ]
  },
  {
   "cell_type": "markdown",
   "metadata": {},
   "source": [
    "## 규모별 \n",
    "* seaborn의 barplot은 기본값을 평균으로 구합니다.\n",
    "* 각각의 막대 그래프 상단에 있는 검은색 선은 신뢰구간을 의미합니다.\n",
    "* 통계학에서 신뢰 구간(信賴區間, 영어: confidence interval)은 모수가 어느 범위 안에 있는지를 확률적으로 보여주는 방법이다. \n",
    "* 신뢰구간 정의 출처 : [신뢰 구간 - 위키백과, 우리 모두의 백과사전](https://ko.wikipedia.org/wiki/%EC%8B%A0%EB%A2%B0_%EA%B5%AC%EA%B0%84)\n",
    "* seaborn의 barplot의 옵션 중 ci가 이 신뢰 구간을 의미하며 기본값은 95입니다.\n",
    "* 표본의 95%의 데이터가 검은색 선 안에 위치하고 있음을 알 수 있습니다.\n",
    "* 나머지 5%의 데이터는 이 표본을 벗어나는 데이터로 너무 크거나 작은 데이터를 제외하고 볼 수 있습니다.\n",
    "* 따라서 이 검은색 선을 벗어나는 데이터는 이상치(outlier)로 볼 수도 있습니다."
   ]
  },
  {
   "cell_type": "code",
   "execution_count": null,
   "metadata": {},
   "outputs": [],
   "source": [
    "# 서울의 경우 전용면적 85㎡초과 102㎡이하가 분양가격이 가장 비싸게 나옵니다.\n",
    "# (ggplot(pre_sale, aes(x='지역명', y='평당분양가격', fill='규모구분'))\n",
    "#  + geom_bar(stat='identity', position='dodge')\n",
    "#  + ggtitle('규모별 신규 민간 아파트 분양가격')\n",
    "#  + theme(text=element_text(family='NanumBarunGothic'),\n",
    "#          figure_size=(8, 4))\n",
    "# )"
   ]
  },
  {
   "cell_type": "code",
   "execution_count": 45,
   "metadata": {},
   "outputs": [
    {
     "data": {
      "text/plain": [
       "<matplotlib.axes._subplots.AxesSubplot at 0x7fef20eb7d90>"
      ]
     },
     "execution_count": 45,
     "metadata": {},
     "output_type": "execute_result"
    },
    {
     "data": {
      "image/png": "[encoded data removed]",
      "text/plain": [
       "<Figure size 1440x576 with 1 Axes>"
      ]
     },
     "metadata": {},
     "output_type": "display_data"
    }
   ],
   "source": [
    "# seaborn 을 사용하면 위 코드보다 훨씬 간결하게 코드를 구현할 수 있습니다.\n",
    "# seaborn 으로 지역, 규모별 평당 평균 분양가격\n",
    "plt.figure(figsize=(20, 8))\n",
    "sns.barplot(data=pre_sale, x='지역명', y='평당분양가격', hue='규모구분')"
   ]
  },
  {
   "cell_type": "markdown",
   "metadata": {},
   "source": [
    "## 지역별 평당 분양가격 합계\n",
    "* 아래 데이터로 규모(제곱미터)에 따른 평당 분양가격을 봅니다."
   ]
  },
  {
   "cell_type": "code",
   "execution_count": 46,
   "metadata": {},
   "outputs": [
    {
     "data": {
      "text/html": [
       "<div>\n",
       "<style scoped>\n",
       "    .dataframe tbody tr th:only-of-type {\n",
       "        vertical-align: middle;\n",
       "    }\n",
       "\n",
       "    .dataframe tbody tr th {\n",
       "        vertical-align: top;\n",
       "    }\n",
       "\n",
       "    .dataframe thead th {\n",
       "        text-align: right;\n",
       "    }\n",
       "</style>\n",
       "<table border=\"1\" class=\"dataframe\">\n",
       "  <thead>\n",
       "    <tr style=\"text-align: right;\">\n",
       "      <th>규모구분</th>\n",
       "      <th>전용면적 102㎡초과</th>\n",
       "      <th>전용면적 60㎡이하</th>\n",
       "      <th>전용면적 60㎡초과 85㎡이하</th>\n",
       "      <th>전용면적 85㎡초과 102㎡이하</th>\n",
       "      <th>전체</th>\n",
       "    </tr>\n",
       "    <tr>\n",
       "      <th>지역명</th>\n",
       "      <th></th>\n",
       "      <th></th>\n",
       "      <th></th>\n",
       "      <th></th>\n",
       "      <th></th>\n",
       "    </tr>\n",
       "  </thead>\n",
       "  <tbody>\n",
       "    <tr>\n",
       "      <th>인천</th>\n",
       "      <td>13,836</td>\n",
       "      <td>10,853</td>\n",
       "      <td>10,719</td>\n",
       "      <td>11,286</td>\n",
       "      <td>10,727</td>\n",
       "    </tr>\n",
       "    <tr>\n",
       "      <th>부산</th>\n",
       "      <td>12,584</td>\n",
       "      <td>10,656</td>\n",
       "      <td>11,135</td>\n",
       "      <td>10,971</td>\n",
       "      <td>11,241</td>\n",
       "    </tr>\n",
       "    <tr>\n",
       "      <th>울산</th>\n",
       "      <td>9,974</td>\n",
       "      <td>8,965</td>\n",
       "      <td>10,651</td>\n",
       "      <td>8,861</td>\n",
       "      <td>10,628</td>\n",
       "    </tr>\n",
       "  </tbody>\n",
       "</table>\n",
       "</div>"
      ],
      "text/plain": [
       "규모구분  전용면적 102㎡초과  전용면적 60㎡이하  전용면적 60㎡초과 85㎡이하  전용면적 85㎡초과 102㎡이하     전체\n",
       "지역명                                                                      \n",
       "인천         13,836      10,853            10,719             11,286 10,727\n",
       "부산         12,584      10,656            11,135             10,971 11,241\n",
       "울산          9,974       8,965            10,651              8,861 10,628"
      ]
     },
     "execution_count": 46,
     "metadata": {},
     "output_type": "execute_result"
    }
   ],
   "source": [
    "pre_sale_size =  pre_sale.pivot_table(values='평당분양가격', \n",
    "                                      index='지역명', columns='규모구분')\n",
    "pre_sale_size.sample(3)"
   ]
  },
  {
   "cell_type": "code",
   "execution_count": 47,
   "metadata": {
    "scrolled": true
   },
   "outputs": [
    {
     "data": {
      "text/plain": [
       "<matplotlib.axes._subplots.AxesSubplot at 0x7fef20996ad0>"
      ]
     },
     "execution_count": 47,
     "metadata": {},
     "output_type": "execute_result"
    },
    {
     "data": {
      "image/png": "[encoded data removed]",
      "text/plain": [
       "<Figure size 1440x576 with 1 Axes>"
      ]
     },
     "metadata": {},
     "output_type": "display_data"
    }
   ],
   "source": [
    "pre_sale_size.plot.bar(title='지역, 규모구분 별 평당 평균 분양가',\n",
    "                       figsize=(20, 8), grid=True, fontsize=20, rot=0)"
   ]
  },
  {
   "cell_type": "code",
   "execution_count": 48,
   "metadata": {},
   "outputs": [
    {
     "data": {
      "text/html": [
       "<div>\n",
       "<style scoped>\n",
       "    .dataframe tbody tr th:only-of-type {\n",
       "        vertical-align: middle;\n",
       "    }\n",
       "\n",
       "    .dataframe tbody tr th {\n",
       "        vertical-align: top;\n",
       "    }\n",
       "\n",
       "    .dataframe thead th {\n",
       "        text-align: right;\n",
       "    }\n",
       "</style>\n",
       "<table border=\"1\" class=\"dataframe\">\n",
       "  <thead>\n",
       "    <tr style=\"text-align: right;\">\n",
       "      <th></th>\n",
       "      <th>지역명</th>\n",
       "      <th>규모구분</th>\n",
       "      <th>연도</th>\n",
       "      <th>월</th>\n",
       "      <th>분양가격(㎡)</th>\n",
       "      <th>분양가격</th>\n",
       "      <th>평당분양가격</th>\n",
       "    </tr>\n",
       "  </thead>\n",
       "  <tbody>\n",
       "    <tr>\n",
       "      <th>34</th>\n",
       "      <td>대전</td>\n",
       "      <td>전용면적 102㎡초과</td>\n",
       "      <td>2015</td>\n",
       "      <td>10</td>\n",
       "      <td></td>\n",
       "      <td>nan</td>\n",
       "      <td>nan</td>\n",
       "    </tr>\n",
       "    <tr>\n",
       "      <th>119</th>\n",
       "      <td>대전</td>\n",
       "      <td>전용면적 102㎡초과</td>\n",
       "      <td>2015</td>\n",
       "      <td>11</td>\n",
       "      <td></td>\n",
       "      <td>nan</td>\n",
       "      <td>nan</td>\n",
       "    </tr>\n",
       "    <tr>\n",
       "      <th>204</th>\n",
       "      <td>대전</td>\n",
       "      <td>전용면적 102㎡초과</td>\n",
       "      <td>2015</td>\n",
       "      <td>12</td>\n",
       "      <td></td>\n",
       "      <td>nan</td>\n",
       "      <td>nan</td>\n",
       "    </tr>\n",
       "    <tr>\n",
       "      <th>289</th>\n",
       "      <td>대전</td>\n",
       "      <td>전용면적 102㎡초과</td>\n",
       "      <td>2016</td>\n",
       "      <td>1</td>\n",
       "      <td></td>\n",
       "      <td>nan</td>\n",
       "      <td>nan</td>\n",
       "    </tr>\n",
       "    <tr>\n",
       "      <th>374</th>\n",
       "      <td>대전</td>\n",
       "      <td>전용면적 102㎡초과</td>\n",
       "      <td>2016</td>\n",
       "      <td>2</td>\n",
       "      <td>NaN</td>\n",
       "      <td>nan</td>\n",
       "      <td>nan</td>\n",
       "    </tr>\n",
       "    <tr>\n",
       "      <th>459</th>\n",
       "      <td>대전</td>\n",
       "      <td>전용면적 102㎡초과</td>\n",
       "      <td>2016</td>\n",
       "      <td>3</td>\n",
       "      <td>NaN</td>\n",
       "      <td>nan</td>\n",
       "      <td>nan</td>\n",
       "    </tr>\n",
       "    <tr>\n",
       "      <th>544</th>\n",
       "      <td>대전</td>\n",
       "      <td>전용면적 102㎡초과</td>\n",
       "      <td>2016</td>\n",
       "      <td>4</td>\n",
       "      <td>NaN</td>\n",
       "      <td>nan</td>\n",
       "      <td>nan</td>\n",
       "    </tr>\n",
       "    <tr>\n",
       "      <th>629</th>\n",
       "      <td>대전</td>\n",
       "      <td>전용면적 102㎡초과</td>\n",
       "      <td>2016</td>\n",
       "      <td>5</td>\n",
       "      <td>NaN</td>\n",
       "      <td>nan</td>\n",
       "      <td>nan</td>\n",
       "    </tr>\n",
       "    <tr>\n",
       "      <th>714</th>\n",
       "      <td>대전</td>\n",
       "      <td>전용면적 102㎡초과</td>\n",
       "      <td>2016</td>\n",
       "      <td>6</td>\n",
       "      <td>NaN</td>\n",
       "      <td>nan</td>\n",
       "      <td>nan</td>\n",
       "    </tr>\n",
       "    <tr>\n",
       "      <th>799</th>\n",
       "      <td>대전</td>\n",
       "      <td>전용면적 102㎡초과</td>\n",
       "      <td>2016</td>\n",
       "      <td>7</td>\n",
       "      <td>NaN</td>\n",
       "      <td>nan</td>\n",
       "      <td>nan</td>\n",
       "    </tr>\n",
       "    <tr>\n",
       "      <th>884</th>\n",
       "      <td>대전</td>\n",
       "      <td>전용면적 102㎡초과</td>\n",
       "      <td>2016</td>\n",
       "      <td>8</td>\n",
       "      <td>NaN</td>\n",
       "      <td>nan</td>\n",
       "      <td>nan</td>\n",
       "    </tr>\n",
       "    <tr>\n",
       "      <th>969</th>\n",
       "      <td>대전</td>\n",
       "      <td>전용면적 102㎡초과</td>\n",
       "      <td>2016</td>\n",
       "      <td>9</td>\n",
       "      <td>NaN</td>\n",
       "      <td>nan</td>\n",
       "      <td>nan</td>\n",
       "    </tr>\n",
       "    <tr>\n",
       "      <th>1054</th>\n",
       "      <td>대전</td>\n",
       "      <td>전용면적 102㎡초과</td>\n",
       "      <td>2016</td>\n",
       "      <td>10</td>\n",
       "      <td>4328</td>\n",
       "      <td>4,328</td>\n",
       "      <td>14,282</td>\n",
       "    </tr>\n",
       "    <tr>\n",
       "      <th>1139</th>\n",
       "      <td>대전</td>\n",
       "      <td>전용면적 102㎡초과</td>\n",
       "      <td>2016</td>\n",
       "      <td>11</td>\n",
       "      <td>4328</td>\n",
       "      <td>4,328</td>\n",
       "      <td>14,282</td>\n",
       "    </tr>\n",
       "    <tr>\n",
       "      <th>1224</th>\n",
       "      <td>대전</td>\n",
       "      <td>전용면적 102㎡초과</td>\n",
       "      <td>2016</td>\n",
       "      <td>12</td>\n",
       "      <td>4328</td>\n",
       "      <td>4,328</td>\n",
       "      <td>14,282</td>\n",
       "    </tr>\n",
       "    <tr>\n",
       "      <th>1309</th>\n",
       "      <td>대전</td>\n",
       "      <td>전용면적 102㎡초과</td>\n",
       "      <td>2017</td>\n",
       "      <td>1</td>\n",
       "      <td>4328</td>\n",
       "      <td>4,328</td>\n",
       "      <td>14,282</td>\n",
       "    </tr>\n",
       "    <tr>\n",
       "      <th>1394</th>\n",
       "      <td>대전</td>\n",
       "      <td>전용면적 102㎡초과</td>\n",
       "      <td>2017</td>\n",
       "      <td>2</td>\n",
       "      <td>4328</td>\n",
       "      <td>4,328</td>\n",
       "      <td>14,282</td>\n",
       "    </tr>\n",
       "    <tr>\n",
       "      <th>1479</th>\n",
       "      <td>대전</td>\n",
       "      <td>전용면적 102㎡초과</td>\n",
       "      <td>2017</td>\n",
       "      <td>3</td>\n",
       "      <td>4328</td>\n",
       "      <td>4,328</td>\n",
       "      <td>14,282</td>\n",
       "    </tr>\n",
       "    <tr>\n",
       "      <th>1564</th>\n",
       "      <td>대전</td>\n",
       "      <td>전용면적 102㎡초과</td>\n",
       "      <td>2017</td>\n",
       "      <td>4</td>\n",
       "      <td>4328</td>\n",
       "      <td>4,328</td>\n",
       "      <td>14,282</td>\n",
       "    </tr>\n",
       "    <tr>\n",
       "      <th>1649</th>\n",
       "      <td>대전</td>\n",
       "      <td>전용면적 102㎡초과</td>\n",
       "      <td>2017</td>\n",
       "      <td>5</td>\n",
       "      <td>4328</td>\n",
       "      <td>4,328</td>\n",
       "      <td>14,282</td>\n",
       "    </tr>\n",
       "    <tr>\n",
       "      <th>1734</th>\n",
       "      <td>대전</td>\n",
       "      <td>전용면적 102㎡초과</td>\n",
       "      <td>2017</td>\n",
       "      <td>6</td>\n",
       "      <td>4328</td>\n",
       "      <td>4,328</td>\n",
       "      <td>14,282</td>\n",
       "    </tr>\n",
       "    <tr>\n",
       "      <th>1819</th>\n",
       "      <td>대전</td>\n",
       "      <td>전용면적 102㎡초과</td>\n",
       "      <td>2017</td>\n",
       "      <td>7</td>\n",
       "      <td>4328</td>\n",
       "      <td>4,328</td>\n",
       "      <td>14,282</td>\n",
       "    </tr>\n",
       "    <tr>\n",
       "      <th>1904</th>\n",
       "      <td>대전</td>\n",
       "      <td>전용면적 102㎡초과</td>\n",
       "      <td>2017</td>\n",
       "      <td>8</td>\n",
       "      <td>4328</td>\n",
       "      <td>4,328</td>\n",
       "      <td>14,282</td>\n",
       "    </tr>\n",
       "    <tr>\n",
       "      <th>1989</th>\n",
       "      <td>대전</td>\n",
       "      <td>전용면적 102㎡초과</td>\n",
       "      <td>2017</td>\n",
       "      <td>9</td>\n",
       "      <td>4328</td>\n",
       "      <td>4,328</td>\n",
       "      <td>14,282</td>\n",
       "    </tr>\n",
       "    <tr>\n",
       "      <th>2074</th>\n",
       "      <td>대전</td>\n",
       "      <td>전용면적 102㎡초과</td>\n",
       "      <td>2017</td>\n",
       "      <td>10</td>\n",
       "      <td>NaN</td>\n",
       "      <td>nan</td>\n",
       "      <td>nan</td>\n",
       "    </tr>\n",
       "    <tr>\n",
       "      <th>2159</th>\n",
       "      <td>대전</td>\n",
       "      <td>전용면적 102㎡초과</td>\n",
       "      <td>2017</td>\n",
       "      <td>11</td>\n",
       "      <td>NaN</td>\n",
       "      <td>nan</td>\n",
       "      <td>nan</td>\n",
       "    </tr>\n",
       "    <tr>\n",
       "      <th>2244</th>\n",
       "      <td>대전</td>\n",
       "      <td>전용면적 102㎡초과</td>\n",
       "      <td>2017</td>\n",
       "      <td>12</td>\n",
       "      <td>NaN</td>\n",
       "      <td>nan</td>\n",
       "      <td>nan</td>\n",
       "    </tr>\n",
       "    <tr>\n",
       "      <th>2329</th>\n",
       "      <td>대전</td>\n",
       "      <td>전용면적 102㎡초과</td>\n",
       "      <td>2018</td>\n",
       "      <td>1</td>\n",
       "      <td>NaN</td>\n",
       "      <td>nan</td>\n",
       "      <td>nan</td>\n",
       "    </tr>\n",
       "    <tr>\n",
       "      <th>2414</th>\n",
       "      <td>대전</td>\n",
       "      <td>전용면적 102㎡초과</td>\n",
       "      <td>2018</td>\n",
       "      <td>2</td>\n",
       "      <td>NaN</td>\n",
       "      <td>nan</td>\n",
       "      <td>nan</td>\n",
       "    </tr>\n",
       "    <tr>\n",
       "      <th>2499</th>\n",
       "      <td>대전</td>\n",
       "      <td>전용면적 102㎡초과</td>\n",
       "      <td>2018</td>\n",
       "      <td>3</td>\n",
       "      <td>NaN</td>\n",
       "      <td>nan</td>\n",
       "      <td>nan</td>\n",
       "    </tr>\n",
       "    <tr>\n",
       "      <th>2584</th>\n",
       "      <td>대전</td>\n",
       "      <td>전용면적 102㎡초과</td>\n",
       "      <td>2018</td>\n",
       "      <td>4</td>\n",
       "      <td>NaN</td>\n",
       "      <td>nan</td>\n",
       "      <td>nan</td>\n",
       "    </tr>\n",
       "    <tr>\n",
       "      <th>2669</th>\n",
       "      <td>대전</td>\n",
       "      <td>전용면적 102㎡초과</td>\n",
       "      <td>2018</td>\n",
       "      <td>5</td>\n",
       "      <td>NaN</td>\n",
       "      <td>nan</td>\n",
       "      <td>nan</td>\n",
       "    </tr>\n",
       "    <tr>\n",
       "      <th>2754</th>\n",
       "      <td>대전</td>\n",
       "      <td>전용면적 102㎡초과</td>\n",
       "      <td>2018</td>\n",
       "      <td>6</td>\n",
       "      <td>NaN</td>\n",
       "      <td>nan</td>\n",
       "      <td>nan</td>\n",
       "    </tr>\n",
       "  </tbody>\n",
       "</table>\n",
       "</div>"
      ],
      "text/plain": [
       "     지역명         규모구분    연도   월 분양가격(㎡)  분양가격  평당분양가격\n",
       "34    대전  전용면적 102㎡초과  2015  10           nan     nan\n",
       "119   대전  전용면적 102㎡초과  2015  11           nan     nan\n",
       "204   대전  전용면적 102㎡초과  2015  12           nan     nan\n",
       "289   대전  전용면적 102㎡초과  2016   1           nan     nan\n",
       "374   대전  전용면적 102㎡초과  2016   2     NaN   nan     nan\n",
       "459   대전  전용면적 102㎡초과  2016   3     NaN   nan     nan\n",
       "544   대전  전용면적 102㎡초과  2016   4     NaN   nan     nan\n",
       "629   대전  전용면적 102㎡초과  2016   5     NaN   nan     nan\n",
       "714   대전  전용면적 102㎡초과  2016   6     NaN   nan     nan\n",
       "799   대전  전용면적 102㎡초과  2016   7     NaN   nan     nan\n",
       "884   대전  전용면적 102㎡초과  2016   8     NaN   nan     nan\n",
       "969   대전  전용면적 102㎡초과  2016   9     NaN   nan     nan\n",
       "1054  대전  전용면적 102㎡초과  2016  10    4328 4,328  14,282\n",
       "1139  대전  전용면적 102㎡초과  2016  11    4328 4,328  14,282\n",
       "1224  대전  전용면적 102㎡초과  2016  12    4328 4,328  14,282\n",
       "1309  대전  전용면적 102㎡초과  2017   1    4328 4,328  14,282\n",
       "1394  대전  전용면적 102㎡초과  2017   2    4328 4,328  14,282\n",
       "1479  대전  전용면적 102㎡초과  2017   3    4328 4,328  14,282\n",
       "1564  대전  전용면적 102㎡초과  2017   4    4328 4,328  14,282\n",
       "1649  대전  전용면적 102㎡초과  2017   5    4328 4,328  14,282\n",
       "1734  대전  전용면적 102㎡초과  2017   6    4328 4,328  14,282\n",
       "1819  대전  전용면적 102㎡초과  2017   7    4328 4,328  14,282\n",
       "1904  대전  전용면적 102㎡초과  2017   8    4328 4,328  14,282\n",
       "1989  대전  전용면적 102㎡초과  2017   9    4328 4,328  14,282\n",
       "2074  대전  전용면적 102㎡초과  2017  10     NaN   nan     nan\n",
       "2159  대전  전용면적 102㎡초과  2017  11     NaN   nan     nan\n",
       "2244  대전  전용면적 102㎡초과  2017  12     NaN   nan     nan\n",
       "2329  대전  전용면적 102㎡초과  2018   1     NaN   nan     nan\n",
       "2414  대전  전용면적 102㎡초과  2018   2     NaN   nan     nan\n",
       "2499  대전  전용면적 102㎡초과  2018   3     NaN   nan     nan\n",
       "2584  대전  전용면적 102㎡초과  2018   4     NaN   nan     nan\n",
       "2669  대전  전용면적 102㎡초과  2018   5     NaN   nan     nan\n",
       "2754  대전  전용면적 102㎡초과  2018   6     NaN   nan     nan"
      ]
     },
     "execution_count": 48,
     "metadata": {},
     "output_type": "execute_result"
    }
   ],
   "source": [
    "pre_sale[(pre_sale[\"지역명\"] == \"대전\") & (pre_sale[\"규모구분\"] == \"전용면적 102㎡초과\")]"
   ]
  },
  {
   "cell_type": "code",
   "execution_count": null,
   "metadata": {},
   "outputs": [],
   "source": [
    "# 위에 그린 그래프를 지역별로 나눠 봅니다.\n",
    "# (ggplot(pre_sale)\n",
    "#  + aes(x='연도', y='평당분양가격', fill='규모구분')\n",
    "#  + geom_bar(stat='identity', position='dodge')\n",
    "#  + facet_wrap('지역명')\n",
    "#  + theme(text=element_text(family='NanumBarunGothic'),\n",
    "#          axis_text_x=element_text(rotation=70),\n",
    "#          figure_size=(12, 12))\n",
    "# )"
   ]
  },
  {
   "cell_type": "code",
   "execution_count": 49,
   "metadata": {},
   "outputs": [
    {
     "data": {
      "text/html": [
       "<div>\n",
       "<style scoped>\n",
       "    .dataframe tbody tr th:only-of-type {\n",
       "        vertical-align: middle;\n",
       "    }\n",
       "\n",
       "    .dataframe tbody tr th {\n",
       "        vertical-align: top;\n",
       "    }\n",
       "\n",
       "    .dataframe thead th {\n",
       "        text-align: right;\n",
       "    }\n",
       "</style>\n",
       "<table border=\"1\" class=\"dataframe\">\n",
       "  <thead>\n",
       "    <tr style=\"text-align: right;\">\n",
       "      <th>지역명</th>\n",
       "      <th>강원</th>\n",
       "      <th>경기</th>\n",
       "      <th>경남</th>\n",
       "      <th>경북</th>\n",
       "      <th>광주</th>\n",
       "      <th>대구</th>\n",
       "      <th>대전</th>\n",
       "      <th>부산</th>\n",
       "      <th>서울</th>\n",
       "      <th>세종</th>\n",
       "      <th>울산</th>\n",
       "      <th>인천</th>\n",
       "      <th>전남</th>\n",
       "      <th>전북</th>\n",
       "      <th>제주</th>\n",
       "      <th>충남</th>\n",
       "      <th>충북</th>\n",
       "    </tr>\n",
       "    <tr>\n",
       "      <th>규모구분</th>\n",
       "      <th></th>\n",
       "      <th></th>\n",
       "      <th></th>\n",
       "      <th></th>\n",
       "      <th></th>\n",
       "      <th></th>\n",
       "      <th></th>\n",
       "      <th></th>\n",
       "      <th></th>\n",
       "      <th></th>\n",
       "      <th></th>\n",
       "      <th></th>\n",
       "      <th></th>\n",
       "      <th></th>\n",
       "      <th></th>\n",
       "      <th></th>\n",
       "      <th></th>\n",
       "    </tr>\n",
       "  </thead>\n",
       "  <tbody>\n",
       "    <tr>\n",
       "      <th>전용면적 102㎡초과</th>\n",
       "      <td>7,871</td>\n",
       "      <td>13,601</td>\n",
       "      <td>9,222</td>\n",
       "      <td>8,586</td>\n",
       "      <td>10,381</td>\n",
       "      <td>12,303</td>\n",
       "      <td>14,282</td>\n",
       "      <td>12,584</td>\n",
       "      <td>22,035</td>\n",
       "      <td>9,259</td>\n",
       "      <td>9,974</td>\n",
       "      <td>13,836</td>\n",
       "      <td>7,550</td>\n",
       "      <td>7,793</td>\n",
       "      <td>10,435</td>\n",
       "      <td>8,477</td>\n",
       "      <td>7,900</td>\n",
       "    </tr>\n",
       "    <tr>\n",
       "      <th>전용면적 60㎡이하</th>\n",
       "      <td>7,185</td>\n",
       "      <td>12,300</td>\n",
       "      <td>8,320</td>\n",
       "      <td>7,646</td>\n",
       "      <td>8,494</td>\n",
       "      <td>11,254</td>\n",
       "      <td>8,816</td>\n",
       "      <td>10,656</td>\n",
       "      <td>21,976</td>\n",
       "      <td>9,071</td>\n",
       "      <td>8,965</td>\n",
       "      <td>10,853</td>\n",
       "      <td>6,980</td>\n",
       "      <td>7,184</td>\n",
       "      <td>14,700</td>\n",
       "      <td>7,772</td>\n",
       "      <td>6,951</td>\n",
       "    </tr>\n",
       "    <tr>\n",
       "      <th>전용면적 60㎡초과 85㎡이하</th>\n",
       "      <td>7,216</td>\n",
       "      <td>11,650</td>\n",
       "      <td>8,088</td>\n",
       "      <td>7,657</td>\n",
       "      <td>9,159</td>\n",
       "      <td>10,889</td>\n",
       "      <td>8,779</td>\n",
       "      <td>11,135</td>\n",
       "      <td>20,718</td>\n",
       "      <td>9,237</td>\n",
       "      <td>10,651</td>\n",
       "      <td>10,719</td>\n",
       "      <td>6,943</td>\n",
       "      <td>6,868</td>\n",
       "      <td>9,908</td>\n",
       "      <td>7,484</td>\n",
       "      <td>7,019</td>\n",
       "    </tr>\n",
       "    <tr>\n",
       "      <th>전용면적 85㎡초과 102㎡이하</th>\n",
       "      <td>7,612</td>\n",
       "      <td>12,029</td>\n",
       "      <td>9,834</td>\n",
       "      <td>8,776</td>\n",
       "      <td>9,296</td>\n",
       "      <td>9,497</td>\n",
       "      <td>9,037</td>\n",
       "      <td>10,971</td>\n",
       "      <td>23,714</td>\n",
       "      <td>9,210</td>\n",
       "      <td>8,861</td>\n",
       "      <td>11,286</td>\n",
       "      <td>7,858</td>\n",
       "      <td>7,739</td>\n",
       "      <td>10,744</td>\n",
       "      <td>9,102</td>\n",
       "      <td>8,145</td>\n",
       "    </tr>\n",
       "    <tr>\n",
       "      <th>전체</th>\n",
       "      <td>7,183</td>\n",
       "      <td>11,664</td>\n",
       "      <td>8,113</td>\n",
       "      <td>7,661</td>\n",
       "      <td>9,151</td>\n",
       "      <td>10,854</td>\n",
       "      <td>8,854</td>\n",
       "      <td>11,241</td>\n",
       "      <td>21,127</td>\n",
       "      <td>9,230</td>\n",
       "      <td>10,628</td>\n",
       "      <td>10,727</td>\n",
       "      <td>6,958</td>\n",
       "      <td>6,877</td>\n",
       "      <td>10,230</td>\n",
       "      <td>7,474</td>\n",
       "      <td>6,966</td>\n",
       "    </tr>\n",
       "  </tbody>\n",
       "</table>\n",
       "</div>"
      ],
      "text/plain": [
       "지역명                  강원     경기    경남    경북     광주     대구     대전     부산     서울  \\\n",
       "규모구분                                                                            \n",
       "전용면적 102㎡초과       7,871 13,601 9,222 8,586 10,381 12,303 14,282 12,584 22,035   \n",
       "전용면적 60㎡이하        7,185 12,300 8,320 7,646  8,494 11,254  8,816 10,656 21,976   \n",
       "전용면적 60㎡초과 85㎡이하  7,216 11,650 8,088 7,657  9,159 10,889  8,779 11,135 20,718   \n",
       "전용면적 85㎡초과 102㎡이하 7,612 12,029 9,834 8,776  9,296  9,497  9,037 10,971 23,714   \n",
       "전체                7,183 11,664 8,113 7,661  9,151 10,854  8,854 11,241 21,127   \n",
       "\n",
       "지역명                  세종     울산     인천    전남    전북     제주    충남    충북  \n",
       "규모구분                                                                  \n",
       "전용면적 102㎡초과       9,259  9,974 13,836 7,550 7,793 10,435 8,477 7,900  \n",
       "전용면적 60㎡이하        9,071  8,965 10,853 6,980 7,184 14,700 7,772 6,951  \n",
       "전용면적 60㎡초과 85㎡이하  9,237 10,651 10,719 6,943 6,868  9,908 7,484 7,019  \n",
       "전용면적 85㎡초과 102㎡이하 9,210  8,861 11,286 7,858 7,739 10,744 9,102 8,145  \n",
       "전체                9,230 10,628 10,727 6,958 6,877 10,230 7,474 6,966  "
      ]
     },
     "execution_count": 49,
     "metadata": {},
     "output_type": "execute_result"
    }
   ],
   "source": [
    "pre_sale_size_t = pre_sale_size.T\n",
    "pre_sale_size_t"
   ]
  },
  {
   "cell_type": "markdown",
   "metadata": {},
   "source": [
    "## 전국 규모(면적)별 신규 민간 아파트 분양가격"
   ]
  },
  {
   "cell_type": "code",
   "execution_count": 50,
   "metadata": {},
   "outputs": [
    {
     "data": {
      "text/html": [
       "<div>\n",
       "<style scoped>\n",
       "    .dataframe tbody tr th:only-of-type {\n",
       "        vertical-align: middle;\n",
       "    }\n",
       "\n",
       "    .dataframe tbody tr th {\n",
       "        vertical-align: top;\n",
       "    }\n",
       "\n",
       "    .dataframe thead th {\n",
       "        text-align: right;\n",
       "    }\n",
       "</style>\n",
       "<table border=\"1\" class=\"dataframe\">\n",
       "  <thead>\n",
       "    <tr style=\"text-align: right;\">\n",
       "      <th></th>\n",
       "      <th>지역명</th>\n",
       "      <th>규모구분</th>\n",
       "      <th>연도</th>\n",
       "      <th>월</th>\n",
       "      <th>분양가격(㎡)</th>\n",
       "      <th>분양가격</th>\n",
       "      <th>평당분양가격</th>\n",
       "    </tr>\n",
       "  </thead>\n",
       "  <tbody>\n",
       "    <tr>\n",
       "      <th>229</th>\n",
       "      <td>충남</td>\n",
       "      <td>전용면적 102㎡초과</td>\n",
       "      <td>2015</td>\n",
       "      <td>12</td>\n",
       "      <td>2444</td>\n",
       "      <td>2,444</td>\n",
       "      <td>8,065</td>\n",
       "    </tr>\n",
       "  </tbody>\n",
       "</table>\n",
       "</div>"
      ],
      "text/plain": [
       "    지역명         규모구분    연도   월 분양가격(㎡)  분양가격  평당분양가격\n",
       "229  충남  전용면적 102㎡초과  2015  12    2444 2,444   8,065"
      ]
     },
     "execution_count": 50,
     "metadata": {},
     "output_type": "execute_result"
    }
   ],
   "source": [
    "pre_sale.sample()"
   ]
  },
  {
   "cell_type": "code",
   "execution_count": 51,
   "metadata": {},
   "outputs": [
    {
     "data": {
      "text/html": [
       "<div>\n",
       "<style scoped>\n",
       "    .dataframe tbody tr th:only-of-type {\n",
       "        vertical-align: middle;\n",
       "    }\n",
       "\n",
       "    .dataframe tbody tr th {\n",
       "        vertical-align: top;\n",
       "    }\n",
       "\n",
       "    .dataframe thead th {\n",
       "        text-align: right;\n",
       "    }\n",
       "</style>\n",
       "<table border=\"1\" class=\"dataframe\">\n",
       "  <thead>\n",
       "    <tr style=\"text-align: right;\">\n",
       "      <th></th>\n",
       "      <th>지역명</th>\n",
       "      <th>평당분양가격</th>\n",
       "      <th>규모구분</th>\n",
       "    </tr>\n",
       "  </thead>\n",
       "  <tbody>\n",
       "    <tr>\n",
       "      <th>2425</th>\n",
       "      <td>강원</td>\n",
       "      <td>7,666</td>\n",
       "      <td>전체</td>\n",
       "    </tr>\n",
       "    <tr>\n",
       "      <th>1721</th>\n",
       "      <td>대구</td>\n",
       "      <td>11,732</td>\n",
       "      <td>전용면적 60㎡이하</td>\n",
       "    </tr>\n",
       "    <tr>\n",
       "      <th>1705</th>\n",
       "      <td>인천</td>\n",
       "      <td>10,976</td>\n",
       "      <td>전체</td>\n",
       "    </tr>\n",
       "  </tbody>\n",
       "</table>\n",
       "</div>"
      ],
      "text/plain": [
       "     지역명  평당분양가격        규모구분\n",
       "2425  강원   7,666          전체\n",
       "1721  대구  11,732  전용면적 60㎡이하\n",
       "1705  인천  10,976          전체"
      ]
     },
     "execution_count": 51,
     "metadata": {},
     "output_type": "execute_result"
    }
   ],
   "source": [
    "pre_sale[[\"지역명\", \"평당분양가격\", \"규모구분\"]].sample(3)"
   ]
  },
  {
   "cell_type": "code",
   "execution_count": 52,
   "metadata": {},
   "outputs": [
    {
     "data": {
      "text/plain": [
       "(2805, 7)"
      ]
     },
     "execution_count": 52,
     "metadata": {},
     "output_type": "execute_result"
    }
   ],
   "source": [
    "pre_sale.shape"
   ]
  },
  {
   "cell_type": "code",
   "execution_count": 53,
   "metadata": {},
   "outputs": [
    {
     "data": {
      "text/plain": [
       "223"
      ]
     },
     "execution_count": 53,
     "metadata": {},
     "output_type": "execute_result"
    }
   ],
   "source": [
    "# 결측치를 확인합니다.\n",
    "pre_sale['평당분양가격'].isnull().sum()"
   ]
  },
  {
   "cell_type": "code",
   "execution_count": 54,
   "metadata": {},
   "outputs": [],
   "source": [
    "# 결측치가 있으면 제대로 된 시각화를 할 수 없기 때문에 drop합니다.\n",
    "pre_sale['평당분양가격'].dropna(inplace=True, axis=0)"
   ]
  },
  {
   "cell_type": "code",
   "execution_count": 55,
   "metadata": {},
   "outputs": [
    {
     "data": {
      "text/plain": [
       "0"
      ]
     },
     "execution_count": 55,
     "metadata": {},
     "output_type": "execute_result"
    }
   ],
   "source": [
    "# 결측치가 없습니다.\n",
    "pre_sale['평당분양가격'].isnull().sum()"
   ]
  },
  {
   "cell_type": "code",
   "execution_count": 56,
   "metadata": {},
   "outputs": [
    {
     "data": {
      "text/plain": [
       "(2805, 7)"
      ]
     },
     "execution_count": 56,
     "metadata": {},
     "output_type": "execute_result"
    }
   ],
   "source": [
    "pre_sale.shape"
   ]
  },
  {
   "cell_type": "code",
   "execution_count": 57,
   "metadata": {},
   "outputs": [
    {
     "data": {
      "text/plain": [
       "지역명         object\n",
       "규모구분        object\n",
       "연도          object\n",
       "월           object\n",
       "분양가격(㎡)     object\n",
       "분양가격       float64\n",
       "평당분양가격     float64\n",
       "dtype: object"
      ]
     },
     "execution_count": 57,
     "metadata": {},
     "output_type": "execute_result"
    }
   ],
   "source": [
    "pre_sale.dtypes"
   ]
  },
  {
   "cell_type": "code",
   "execution_count": 58,
   "metadata": {},
   "outputs": [],
   "source": [
    "# 수치형 데이터로 변경합니다.\n",
    "pre_sale['평당분양가격'] = pre_sale['평당분양가격'].astype(int)"
   ]
  },
  {
   "cell_type": "code",
   "execution_count": 59,
   "metadata": {},
   "outputs": [
    {
     "data": {
      "text/html": [
       "<div>\n",
       "<style scoped>\n",
       "    .dataframe tbody tr th:only-of-type {\n",
       "        vertical-align: middle;\n",
       "    }\n",
       "\n",
       "    .dataframe tbody tr th {\n",
       "        vertical-align: top;\n",
       "    }\n",
       "\n",
       "    .dataframe thead th {\n",
       "        text-align: right;\n",
       "    }\n",
       "</style>\n",
       "<table border=\"1\" class=\"dataframe\">\n",
       "  <thead>\n",
       "    <tr style=\"text-align: right;\">\n",
       "      <th></th>\n",
       "      <th>지역명</th>\n",
       "      <th>규모구분</th>\n",
       "      <th>연도</th>\n",
       "      <th>월</th>\n",
       "      <th>분양가격(㎡)</th>\n",
       "      <th>분양가격</th>\n",
       "      <th>평당분양가격</th>\n",
       "    </tr>\n",
       "  </thead>\n",
       "  <tbody>\n",
       "  </tbody>\n",
       "</table>\n",
       "</div>"
      ],
      "text/plain": [
       "Empty DataFrame\n",
       "Columns: [지역명, 규모구분, 연도, 월, 분양가격(㎡), 분양가격, 평당분양가격]\n",
       "Index: []"
      ]
     },
     "execution_count": 59,
     "metadata": {},
     "output_type": "execute_result"
    }
   ],
   "source": [
    "pre_sale[pre_sale['평당분양가격'] == 0]"
   ]
  },
  {
   "cell_type": "code",
   "execution_count": 60,
   "metadata": {},
   "outputs": [
    {
     "data": {
      "text/plain": [
       "array(['전체', '전용면적 60㎡이하', '전용면적 60㎡초과 85㎡이하', '전용면적 85㎡초과 102㎡이하',\n",
       "       '전용면적 102㎡초과'], dtype=object)"
      ]
     },
     "execution_count": 60,
     "metadata": {},
     "output_type": "execute_result"
    }
   ],
   "source": [
    "pre_sale['규모구분'].unique()"
   ]
  },
  {
   "cell_type": "code",
   "execution_count": 61,
   "metadata": {},
   "outputs": [
    {
     "data": {
      "text/html": [
       "<div>\n",
       "<style scoped>\n",
       "    .dataframe tbody tr th:only-of-type {\n",
       "        vertical-align: middle;\n",
       "    }\n",
       "\n",
       "    .dataframe tbody tr th {\n",
       "        vertical-align: top;\n",
       "    }\n",
       "\n",
       "    .dataframe thead th {\n",
       "        text-align: right;\n",
       "    }\n",
       "</style>\n",
       "<table border=\"1\" class=\"dataframe\">\n",
       "  <thead>\n",
       "    <tr style=\"text-align: right;\">\n",
       "      <th>규모구분</th>\n",
       "      <th>전용면적 102㎡초과</th>\n",
       "      <th>전용면적 60㎡이하</th>\n",
       "      <th>전용면적 60㎡초과 85㎡이하</th>\n",
       "      <th>전용면적 85㎡초과 102㎡이하</th>\n",
       "      <th>전체</th>\n",
       "    </tr>\n",
       "    <tr>\n",
       "      <th>지역명</th>\n",
       "      <th></th>\n",
       "      <th></th>\n",
       "      <th></th>\n",
       "      <th></th>\n",
       "      <th></th>\n",
       "    </tr>\n",
       "  </thead>\n",
       "  <tbody>\n",
       "    <tr>\n",
       "      <th>세종</th>\n",
       "      <td>9,259</td>\n",
       "      <td>9,071</td>\n",
       "      <td>9,237</td>\n",
       "      <td>9,210</td>\n",
       "      <td>9,230</td>\n",
       "    </tr>\n",
       "    <tr>\n",
       "      <th>충북</th>\n",
       "      <td>7,900</td>\n",
       "      <td>6,951</td>\n",
       "      <td>7,019</td>\n",
       "      <td>8,145</td>\n",
       "      <td>6,966</td>\n",
       "    </tr>\n",
       "    <tr>\n",
       "      <th>대구</th>\n",
       "      <td>12,303</td>\n",
       "      <td>11,254</td>\n",
       "      <td>10,889</td>\n",
       "      <td>9,497</td>\n",
       "      <td>10,854</td>\n",
       "    </tr>\n",
       "  </tbody>\n",
       "</table>\n",
       "</div>"
      ],
      "text/plain": [
       "규모구분  전용면적 102㎡초과  전용면적 60㎡이하  전용면적 60㎡초과 85㎡이하  전용면적 85㎡초과 102㎡이하     전체\n",
       "지역명                                                                      \n",
       "세종          9,259       9,071             9,237              9,210  9,230\n",
       "충북          7,900       6,951             7,019              8,145  6,966\n",
       "대구         12,303      11,254            10,889              9,497 10,854"
      ]
     },
     "execution_count": 61,
     "metadata": {},
     "output_type": "execute_result"
    }
   ],
   "source": [
    "pre_sale_size.sample(3)"
   ]
  },
  {
   "cell_type": "markdown",
   "metadata": {},
   "source": [
    "## box-and-whisker plot | diagram\n",
    "\n",
    "* https://pandas.pydata.org/pandas-docs/stable/user_guide/visualization.html\n",
    "* https://pandas.pydata.org/pandas-docs/stable/reference/api/pandas.DataFrame.boxplot.html\n",
    "\n",
    "* [상자 수염 그림 - 위키백과, 우리 모두의 백과사전](https://ko.wikipedia.org/wiki/%EC%83%81%EC%9E%90_%EC%88%98%EC%97%BC_%EA%B7%B8%EB%A6%BC)\n",
    "* 가공하지 않은 자료 그대로를 이용하여 그린 것이 아니라, 자료로부터 얻어낸 통계량인 5가지 요약 수치로 그린다.\n",
    "* 5가지 요약 수치란 기술통계학에서 자료의 정보를 알려주는 아래의 다섯 가지 수치를 의미한다.\n",
    "\n",
    "\n",
    "1. 최솟값\n",
    "1. 제 1사분위수\n",
    "1. 제 2사분위수( ), 즉 중앙값\n",
    "1. 제 3 사분위 수( )\n",
    "1. 최댓값\n",
    "\n",
    "* Box plot 이해하기 : [Understanding Boxplots – Towards Data Science](https://towardsdatascience.com/understanding-boxplots-5e2df7bcbd51)"
   ]
  },
  {
   "cell_type": "code",
   "execution_count": 62,
   "metadata": {
    "scrolled": true
   },
   "outputs": [
    {
     "data": {
      "text/plain": [
       "<matplotlib.axes._subplots.AxesSubplot at 0x7fef20820150>"
      ]
     },
     "execution_count": 62,
     "metadata": {},
     "output_type": "execute_result"
    },
    {
     "data": {
      "image/png": "[encoded data removed]",
      "text/plain": [
       "<Figure size 1296x432 with 1 Axes>"
      ]
     },
     "metadata": {},
     "output_type": "display_data"
    }
   ],
   "source": [
    "# 아래 그래프를 통해 지역마다 0 값이 존재하는 것으로 결측치가 있음을 확인할 수 있습니다.\n",
    "pre_sale[['지역명', '평당분양가격']].\n",
    "boxplot(by=['지역명'], figsize=(18, 6))"
   ]
  },
  {
   "cell_type": "code",
   "execution_count": 63,
   "metadata": {
    "scrolled": true
   },
   "outputs": [
    {
     "data": {
      "text/plain": [
       "<matplotlib.axes._subplots.AxesSubplot at 0x7fef207b04d0>"
      ]
     },
     "execution_count": 63,
     "metadata": {},
     "output_type": "execute_result"
    },
    {
     "data": {
      "image/png": "[encoded data removed]",
      "text/plain": [
       "<Figure size 1296x432 with 1 Axes>"
      ]
     },
     "metadata": {},
     "output_type": "display_data"
    }
   ],
   "source": [
    "pre_sale[['연도', '지역명', '평당분양가격']].\n",
    "boxplot(by=['연도'],figsize=(18, 6))"
   ]
  },
  {
   "cell_type": "code",
   "execution_count": 64,
   "metadata": {},
   "outputs": [
    {
     "data": {
      "text/plain": [
       "<matplotlib.axes._subplots.AxesSubplot at 0x7fef205889d0>"
      ]
     },
     "execution_count": 64,
     "metadata": {},
     "output_type": "execute_result"
    },
    {
     "data": {
      "image/png": "[encoded data removed]",
      "text/plain": [
       "<Figure size 1296x432 with 1 Axes>"
      ]
     },
     "metadata": {},
     "output_type": "display_data"
    }
   ],
   "source": [
    "pre_sale[['연도', '지역명', '평당분양가격']].boxplot(\n",
    "    by=['지역명', '연도'],\n",
    "    figsize=(18, 6), \n",
    "    fontsize=12,\n",
    "    rot=60)"
   ]
  },
  {
   "cell_type": "code",
   "execution_count": 65,
   "metadata": {},
   "outputs": [],
   "source": [
    "pre_sale_seoul = pre_sale[pre_sale['지역명']=='서울']\n",
    "\n",
    "# (ggplot(pre_sale_seoul)\n",
    "#  + aes(x='연도', y='평당분양가격', fill='규모구분')\n",
    "#  + ggtitle('서울 연도/규모별 신규 민간 아파트 분양가격')\n",
    "#  + geom_boxplot()\n",
    "#  + theme(text=element_text(family='NanumBarunGothic'))\n",
    "# )"
   ]
  },
  {
   "cell_type": "code",
   "execution_count": 66,
   "metadata": {},
   "outputs": [
    {
     "data": {
      "text/plain": [
       "<matplotlib.axes._subplots.AxesSubplot at 0x7fef1fe9b910>"
      ]
     },
     "execution_count": 66,
     "metadata": {},
     "output_type": "execute_result"
    },
    {
     "data": {
      "image/png": "[encoded data removed]",
      "text/plain": [
       "<Figure size 1296x432 with 1 Axes>"
      ]
     },
     "metadata": {},
     "output_type": "display_data"
    }
   ],
   "source": [
    "# 이상치를 탐지해 보기에 적합합니다. 2017년 데이터에 평균 가격이 0으로 된 데이터가 있습니다.\n",
    "pre_sale_seoul[['연도', '규모구분', '평당분양가격']].boxplot(\n",
    "    by=['연도', '규모구분'],\n",
    "    figsize=(18, 6), rot=45)"
   ]
  },
  {
   "cell_type": "code",
   "execution_count": 67,
   "metadata": {},
   "outputs": [],
   "source": [
    "# 2015년에서 2018년까지 분양가 차이가 가장 컸던 제주를 봅니다.\n",
    "pre_sale_jeju = pre_sale[pre_sale['지역명']=='제주']\n",
    "# (ggplot(pre_sale_jeju)\n",
    "#  + aes(x='연도', y='평당분양가격', fill='규모구분')\n",
    "#  + geom_boxplot()\n",
    "#  + theme(text=element_text(family='NanumBarunGothic'))\n",
    "# )"
   ]
  },
  {
   "cell_type": "code",
   "execution_count": 68,
   "metadata": {},
   "outputs": [
    {
     "data": {
      "text/plain": [
       "<matplotlib.axes._subplots.AxesSubplot at 0x7fef1fc44310>"
      ]
     },
     "execution_count": 68,
     "metadata": {},
     "output_type": "execute_result"
    },
    {
     "data": {
      "image/png": "[encoded data removed]",
      "text/plain": [
       "<Figure size 1296x432 with 1 Axes>"
      ]
     },
     "metadata": {},
     "output_type": "display_data"
    }
   ],
   "source": [
    "pre_sale_jeju[['연도', '평당분양가격']].boxplot(\n",
    "    by=['연도'],\n",
    "    figsize=(18, 6), rot=45)"
   ]
  },
  {
   "cell_type": "code",
   "execution_count": null,
   "metadata": {
    "scrolled": true
   },
   "outputs": [],
   "source": [
    "pre_sale_jeju[['연도', '규모구분', '평당분양가격']].boxplot(\n",
    "    by=['연도', '규모구분'],\n",
    "    figsize=(18, 6), rot=45)"
   ]
  },
  {
   "cell_type": "code",
   "execution_count": null,
   "metadata": {},
   "outputs": [],
   "source": [
    "pre_sale_ulsan = pre_sale[pre_sale['지역명']=='울산']\n",
    "# (ggplot(pre_sale_ulsan)\n",
    "#  + aes(x='연도', y='평당분양가격', fill='규모구분')\n",
    "#  + geom_boxplot()\n",
    "#  + theme(text=element_text(family='NanumBarunGothic'))\n",
    "# )\n",
    "pre_sale_ulsan[['연도', '규모구분', '평당분양가격']].boxplot(\n",
    "    by=['연도', '규모구분'],\n",
    "    figsize=(18, 6), rot=45)"
   ]
  },
  {
   "cell_type": "markdown",
   "metadata": {},
   "source": [
    "# Tidy Data 만들기\n",
    "* [Tidy data - Wikipedia](https://en.wikipedia.org/wiki/Tidy_data)\n",
    "## 2013년 12월~2015년 9월 3.3㎡당 분양가격\n",
    "* 2015년 10월부터 2018년 4월까지 데이터는 평당 분양가로 조정을 해주었었는데 이 데이터는 평당 분양가가 들어가 있습니다다.\n",
    "* `지역별_3.3㎡당_평균_분양가격_천원__15.09월.csv`을  https://www.data.go.kr/dataset/3035522/fileData.do 에서 다운로드 받거나 다음의 경로에서 다운로드 받습니다. https://goo.gl/oJydAv"
   ]
  },
  {
   "cell_type": "code",
   "execution_count": null,
   "metadata": {},
   "outputs": [],
   "source": [
    "df = pd.read_csv('data/apt_price/지역별_3.3㎡당_평균_분양가격_천원__15.09월.csv', \\\n",
    "                 encoding='euc-kr', skiprows=1, header=0, engine='python')\n",
    "df.shape"
   ]
  },
  {
   "cell_type": "code",
   "execution_count": null,
   "metadata": {},
   "outputs": [],
   "source": [
    "# pandas에서 보기 쉽게 컬럼을 변경해 줄 필요가 있습니다.\n",
    "df"
   ]
  },
  {
   "cell_type": "code",
   "execution_count": null,
   "metadata": {},
   "outputs": [],
   "source": [
    "year = df.iloc[0]\n",
    "month = df.iloc[1]"
   ]
  },
  {
   "cell_type": "code",
   "execution_count": null,
   "metadata": {},
   "outputs": [],
   "source": [
    "# 결측치를 채워줍니다.\n",
    "year"
   ]
  },
  {
   "cell_type": "code",
   "execution_count": null,
   "metadata": {},
   "outputs": [],
   "source": [
    "# 컬럼을 새로 만들어 주기 위해 0번째와 1번째 행을 합쳐준다.\n",
    "for i, y in enumerate(year):\n",
    "    if i > 2 and i < 15:\n",
    "        year[i] = ' '.join(['2014년', month[i]])\n",
    "    elif i >= 15:\n",
    "        year[i] = ' '.join(['2015년', month[i]])\n",
    "    elif i == 2 :\n",
    "        year[i] = ' '.join([year[i], month[i]])\n",
    "    elif i == 1:\n",
    "        year[i] = '시군구'\n",
    "        \n",
    "print(year)"
   ]
  },
  {
   "cell_type": "code",
   "execution_count": null,
   "metadata": {},
   "outputs": [],
   "source": [
    "df.columns = year"
   ]
  },
  {
   "cell_type": "code",
   "execution_count": null,
   "metadata": {},
   "outputs": [],
   "source": [
    "df = df.drop(df.index[[0,1]])\n",
    "df"
   ]
  },
  {
   "cell_type": "code",
   "execution_count": null,
   "metadata": {},
   "outputs": [],
   "source": [
    "# 최근 데이터의 컬럼으로 기존 데이터프레임과 합치기 위해 컬럼명을 봅니다.\n",
    "pre_sale.columns"
   ]
  },
  {
   "cell_type": "code",
   "execution_count": null,
   "metadata": {},
   "outputs": [],
   "source": [
    "# 지역 컬럼을 새로 만들어 시도와 시군구를 합쳐줍니다.\n",
    "# 결측치를 빈문자로 채웁니다.\n",
    "df['구분'] = df['구분'].fillna('')\n",
    "df['시군구'] = df['시군구'].fillna('')"
   ]
  },
  {
   "cell_type": "code",
   "execution_count": null,
   "metadata": {},
   "outputs": [],
   "source": [
    "df['지역'] = df['구분'] + df['시군구']"
   ]
  },
  {
   "cell_type": "code",
   "execution_count": null,
   "metadata": {},
   "outputs": [],
   "source": [
    "df['지역']"
   ]
  },
  {
   "cell_type": "code",
   "execution_count": null,
   "metadata": {},
   "outputs": [],
   "source": [
    "melt_columns = df.columns.copy()\n",
    "melt_columns"
   ]
  },
  {
   "cell_type": "code",
   "execution_count": null,
   "metadata": {},
   "outputs": [],
   "source": [
    "# pre_sale.sample(3)"
   ]
  },
  {
   "cell_type": "code",
   "execution_count": null,
   "metadata": {},
   "outputs": [],
   "source": [
    "df_2013_2015 = pd.melt(df, id_vars=['지역'], value_vars=['2013년 12월', '2014년 1월', '2014년 2월', '2014년 3월',\n",
    "       '2014년 4월', '2014년 5월', '2014년 6월', '2014년 7월', '2014년 8월',\n",
    "       '2014년 9월', '2014년 10월', '2014년 11월', '2014년 12월', '2015년 1월',\n",
    "       '2015년 2월', '2015년 3월', '2015년 4월', '2015년 5월', '2015년 6월',\n",
    "       '2015년 7월', '2015년 8월', '2015년 9월'])\n",
    "df_2013_2015.head()"
   ]
  },
  {
   "cell_type": "code",
   "execution_count": null,
   "metadata": {},
   "outputs": [],
   "source": [
    "df_2013_2015.columns = ['지역', '기간', '분양가']\n",
    "df_2013_2015.head()"
   ]
  },
  {
   "cell_type": "code",
   "execution_count": null,
   "metadata": {},
   "outputs": [],
   "source": [
    "year_test = ['2013', ' 12월']\n",
    "year_test[1].strip().replace('월', '')"
   ]
  },
  {
   "cell_type": "code",
   "execution_count": null,
   "metadata": {},
   "outputs": [],
   "source": [
    "# 간단하게 표현하기 위해서 lambda 익명함수로 구현했습니다.\n",
    "df_2013_2015['연도'] = df_2013_2015['기간'].apply(\n",
    "    lambda year_month : year_month.split('년')[0])\n",
    "df_2013_2015['월'] = df_2013_2015['기간'].apply(\n",
    "    lambda year_month : re.sub('월', '', year_month.split('년')[1]).strip())"
   ]
  },
  {
   "cell_type": "code",
   "execution_count": null,
   "metadata": {},
   "outputs": [],
   "source": [
    "# 익명함수가 익숙하지 않다면 아래의 방법대로 함수를 직접 구현하셔서 apply로 적용하는 방법도 있습니다.\n",
    "def get_year(year_month):\n",
    "    year = year_month.split('년')[0]\n",
    "    return year\n",
    "\n",
    "def get_month(year_month):\n",
    "    month = re.sub('월', '', year_month.split('년')[1]).strip()\n",
    "    return month"
   ]
  },
  {
   "cell_type": "code",
   "execution_count": null,
   "metadata": {},
   "outputs": [],
   "source": [
    "df_2013_2015['연도'] = df_2013_2015['기간'].apply(get_year)\n",
    "df_2013_2015['월'] = df_2013_2015['기간'].apply(get_month)"
   ]
  },
  {
   "cell_type": "code",
   "execution_count": null,
   "metadata": {},
   "outputs": [],
   "source": [
    "df_2013_2015.head()"
   ]
  },
  {
   "cell_type": "markdown",
   "metadata": {},
   "source": [
    "## 지역명 강원과 부산 정리"
   ]
  },
  {
   "cell_type": "code",
   "execution_count": null,
   "metadata": {},
   "outputs": [],
   "source": [
    "df_2013_2015['지역'].value_counts()"
   ]
  },
  {
   "cell_type": "code",
   "execution_count": null,
   "metadata": {},
   "outputs": [],
   "source": [
    "# lambda 익명함수를 이용해서 정규표현식으로 문자열을 바꿔주는 방법이 있습니다.\n",
    "# 하지만 좀 더 간단한 아래의 방법을 사용해 보겠습니다.\n",
    "# df_2013_2015['지역'] = df_2013_2015['지역'].apply(lambda x: re.sub('6대광역시부산','부산', x))\n",
    "# df_2013_2015['지역'] = df_2013_2015['지역'].apply(lambda x: re.sub('지방강원','강원', x))\n",
    "\n",
    "# 위와 같이 정규표현식의 기능을 활용할 수도 있으나 좀 더 간단한 replace를 사용합니다.\n",
    "df_2013_2015['지역'] = df_2013_2015['지역'].replace('6대광역시부산','부산')\n",
    "df_2013_2015['지역'] = df_2013_2015['지역'].replace('지방강원','강원')\n",
    "\n",
    "# 그룹화하여 카운트 합니다.\n",
    "df_2013_2015['지역'].value_counts()"
   ]
  },
  {
   "cell_type": "code",
   "execution_count": null,
   "metadata": {},
   "outputs": [],
   "source": [
    "df_2013_2015.describe()"
   ]
  },
  {
   "cell_type": "code",
   "execution_count": null,
   "metadata": {},
   "outputs": [],
   "source": [
    "df_2013_2015.info()"
   ]
  },
  {
   "cell_type": "code",
   "execution_count": null,
   "metadata": {},
   "outputs": [],
   "source": [
    "# 분양가에 있는 , 를 제거합니다.\n",
    "df_2013_2015['분양가격'] = df_2013_2015['분양가'].str.replace(',', '').astype(int)"
   ]
  },
  {
   "cell_type": "markdown",
   "metadata": {},
   "source": [
    "## 2013년 12월 부터 2015년 9월까지의 데이터 시각화 하기"
   ]
  },
  {
   "cell_type": "code",
   "execution_count": null,
   "metadata": {},
   "outputs": [],
   "source": [
    "# sns.boxplot?"
   ]
  },
  {
   "cell_type": "code",
   "execution_count": null,
   "metadata": {},
   "outputs": [],
   "source": [
    "plt.figure(figsize=(18, 6))\n",
    "sns.boxplot(data=df_2013_2015, x='지역', y='분양가격', hue='연도')"
   ]
  },
  {
   "cell_type": "code",
   "execution_count": null,
   "metadata": {},
   "outputs": [],
   "source": [
    "plt.figure(figsize=(18, 6))\n",
    "sns.barplot(data=df_2013_2015, x='지역', y='분양가격', hue='연도')"
   ]
  },
  {
   "cell_type": "code",
   "execution_count": null,
   "metadata": {},
   "outputs": [],
   "source": [
    "df_2013_2015[df_2013_2015.isnull()].shape"
   ]
  },
  {
   "cell_type": "markdown",
   "metadata": {},
   "source": [
    "## 이제 2013년부터 2018년 7월까지 데이터를 합칠 준비가 됨"
   ]
  },
  {
   "cell_type": "code",
   "execution_count": null,
   "metadata": {},
   "outputs": [],
   "source": [
    "df_2015_2018 = pre_sale.loc[pre_sale['규모구분'] == '전체']\n",
    "print(df_2015_2018.shape)\n",
    "df_2015_2018.head()"
   ]
  },
  {
   "cell_type": "code",
   "execution_count": null,
   "metadata": {},
   "outputs": [],
   "source": [
    "df_2013_2015.columns"
   ]
  },
  {
   "cell_type": "code",
   "execution_count": null,
   "metadata": {},
   "outputs": [],
   "source": [
    "df_2013_2015_prepare = df_2013_2015[['지역', '연도', '월', '분양가격']]\n",
    "df_2013_2015_prepare.head()"
   ]
  },
  {
   "cell_type": "code",
   "execution_count": null,
   "metadata": {},
   "outputs": [],
   "source": [
    "df_2013_2015_prepare.columns = ['지역명', '연도', '월', '평당분양가격']"
   ]
  },
  {
   "cell_type": "code",
   "execution_count": null,
   "metadata": {},
   "outputs": [],
   "source": [
    "df_2015_2018.columns"
   ]
  },
  {
   "cell_type": "code",
   "execution_count": null,
   "metadata": {},
   "outputs": [],
   "source": [
    "df_2015_2018_prepare = df_2015_2018[['지역명', '연도', '월', '평당분양가격']]\n",
    "df_2015_2018_prepare.head()"
   ]
  },
  {
   "cell_type": "code",
   "execution_count": null,
   "metadata": {},
   "outputs": [],
   "source": [
    "df_2015_2018_prepare.describe()"
   ]
  },
  {
   "cell_type": "code",
   "execution_count": null,
   "metadata": {},
   "outputs": [],
   "source": [
    "df_2013_2018 = pd.concat([df_2013_2015_prepare, df_2015_2018_prepare])\n",
    "df_2013_2018.shape"
   ]
  },
  {
   "cell_type": "code",
   "execution_count": null,
   "metadata": {},
   "outputs": [],
   "source": [
    "df_2013_2018.head()"
   ]
  },
  {
   "cell_type": "code",
   "execution_count": null,
   "metadata": {},
   "outputs": [],
   "source": [
    "df_2013_2018.tail()"
   ]
  },
  {
   "cell_type": "code",
   "execution_count": null,
   "metadata": {},
   "outputs": [],
   "source": [
    "df_2013_2015_region= df_2013_2015_prepare['지역명'].unique()\n",
    "df_2013_2015_region"
   ]
  },
  {
   "cell_type": "code",
   "execution_count": null,
   "metadata": {},
   "outputs": [],
   "source": [
    "df_2015_2018_region = df_2015_2018_prepare['지역명'].unique()\n",
    "df_2015_2018_region"
   ]
  },
  {
   "cell_type": "code",
   "execution_count": null,
   "metadata": {},
   "outputs": [],
   "source": [
    "exclude_region = [region for region in df_2013_2015_region if not region in df_2015_2018_region] \n",
    "exclude_region"
   ]
  },
  {
   "cell_type": "code",
   "execution_count": null,
   "metadata": {},
   "outputs": [],
   "source": [
    "df_2013_2018.shape"
   ]
  },
  {
   "cell_type": "code",
   "execution_count": null,
   "metadata": {},
   "outputs": [],
   "source": [
    "df_2013_2018.loc[df_2013_2018['지역명'].str.match('전국|수도권')].head()"
   ]
  },
  {
   "cell_type": "code",
   "execution_count": null,
   "metadata": {},
   "outputs": [],
   "source": [
    "df_2013_2018.drop(\n",
    "    df_2013_2018.loc[df_2013_2018['지역명'].str.match('전국|수도권')].index, \n",
    "    axis=0, \n",
    "    inplace=True)\n",
    "df_2013_2018.drop(\n",
    "    df_2013_2018.loc[df_2013_2018['지역명'] == ''].index, \n",
    "    axis=0, \n",
    "    inplace=True)"
   ]
  },
  {
   "cell_type": "markdown",
   "metadata": {},
   "source": [
    "## 2013년 12월~2018년 7월 전국 신규 민간 아파트 분양가격 동향 시각화"
   ]
  },
  {
   "cell_type": "code",
   "execution_count": null,
   "metadata": {},
   "outputs": [],
   "source": [
    "# 판다스로 시각화 할 때는 미리 구하고자 하는 데이터를 요약해 두는 것이 좋습니다.\n",
    "df_year_mean = df_2013_2018.groupby(['연도'])['평당분양가격'].mean()\n",
    "df_year_mean"
   ]
  },
  {
   "cell_type": "code",
   "execution_count": null,
   "metadata": {},
   "outputs": [],
   "source": [
    "df_year_mean.plot.bar(rot=0)"
   ]
  },
  {
   "cell_type": "code",
   "execution_count": null,
   "metadata": {},
   "outputs": [],
   "source": [
    "sns.barplot(data=df_2013_2018, x='연도', y='평당분양가격')"
   ]
  },
  {
   "cell_type": "code",
   "execution_count": null,
   "metadata": {},
   "outputs": [],
   "source": [
    "df_2015_2018_prepare[['연도', '지역명', '평당분양가격']].boxplot(by=['연도'], figsize=(12, 6))"
   ]
  },
  {
   "cell_type": "code",
   "execution_count": null,
   "metadata": {},
   "outputs": [],
   "source": [
    "df_2013_2018[['연도', '지역명', '평당분양가격']].boxplot(by=['연도'], figsize=(12, 6))"
   ]
  },
  {
   "cell_type": "code",
   "execution_count": null,
   "metadata": {},
   "outputs": [],
   "source": [
    "df_2013_2018_jeju = df_2013_2018.loc[df_2013_2018['지역명'] == '제주']\n",
    "df_2013_2018_jeju[['연도', '지역명', '평당분양가격']].boxplot(by=['연도'], figsize=(12, 6))"
   ]
  },
  {
   "cell_type": "code",
   "execution_count": null,
   "metadata": {},
   "outputs": [],
   "source": [
    "df_2013_2018_jeju[\"연도\"].value_counts()"
   ]
  }
 ],
 "metadata": {
  "kernelspec": {
   "display_name": "Python 3",
   "language": "python",
   "name": "python3"
  },
  "language_info": {
   "codemirror_mode": {
    "name": "ipython",
    "version": 3
   },
   "file_extension": ".py",
   "mimetype": "text/x-python",
   "name": "python",
   "nbconvert_exporter": "python",
   "pygments_lexer": "ipython3",
   "version": "3.7.4"
  },
  "varInspector": {
   "cols": {
    "lenName": 16,
    "lenType": 16,
    "lenVar": 40
   },
   "kernels_config": {
    "python": {
     "delete_cmd_postfix": "",
     "delete_cmd_prefix": "del ",
     "library": "var_list.py",
     "varRefreshCmd": "print(var_dic_list())"
    },
    "r": {
     "delete_cmd_postfix": ") ",
     "delete_cmd_prefix": "rm(",
     "library": "var_list.r",
     "varRefreshCmd": "cat(var_dic_list()) "
    }
   },
   "types_to_exclude": [
    "module",
    "function",
    "builtin_function_or_method",
    "instance",
    "_Feature"
   ],
   "window_display": false
  }
 },
 "nbformat": 4,
 "nbformat_minor": 4
}
