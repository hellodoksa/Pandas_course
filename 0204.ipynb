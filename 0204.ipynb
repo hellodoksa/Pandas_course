{
 "cells": [
  {
   "cell_type": "code",
   "execution_count": 114,
   "metadata": {},
   "outputs": [
    {
     "name": "stdout",
     "output_type": "stream",
     "text": [
      "<class 'pandas.core.frame.DataFrame'>\n",
      "RangeIndex: 25 entries, 0 to 24\n",
      "Data columns (total 6 columns):\n",
      "기관명          25 non-null object\n",
      "소계           25 non-null int64\n",
      "2013년도 이전    25 non-null int64\n",
      "2014년        25 non-null int64\n",
      "2015년        25 non-null int64\n",
      "2016년        25 non-null int64\n",
      "dtypes: int64(5), object(1)\n",
      "memory usage: 1.3+ KB\n",
      "None\n",
      "Index(['기관명', '소계', '2013년도 이전', '2014년', '2015년', '2016년'], dtype='object')\n"
     ]
    }
   ],
   "source": [
    "import pandas as pd \n",
    "s_cctv = pd.read_csv('./data/seoul_cctv.csv')\n",
    "print(s_cctv.info())\n",
    "\n",
    "#컬럼 확인 하자 \n",
    "print(s_cctv.columns)"
   ]
  },
  {
   "cell_type": "code",
   "execution_count": 115,
   "metadata": {},
   "outputs": [
    {
     "data": {
      "text/plain": [
       "RangeIndex(start=0, stop=25, step=1)"
      ]
     },
     "execution_count": 115,
     "metadata": {},
     "output_type": "execute_result"
    }
   ],
   "source": [
    "#총 몇개의 인덱스가 있는지 확인하자 \n",
    "s_cctv.index"
   ]
  },
  {
   "cell_type": "code",
   "execution_count": 116,
   "metadata": {},
   "outputs": [
    {
     "name": "stdout",
     "output_type": "stream",
     "text": [
      "{'기관명': '자치구'}\n"
     ]
    }
   ],
   "source": [
    "# 첫번째 컬럼의 내용을 자치구로 바꾸겠다. \n",
    "dic ={ s_cctv.columns[0] : \"자치구\"}\n",
    "print(dic)\n",
    "\n",
    "## inplace는 원본에다가 내용을 바꾸겠다\n",
    "s_cctv.rename(columns =dic, inplace = True)"
   ]
  },
  {
   "cell_type": "code",
   "execution_count": 117,
   "metadata": {},
   "outputs": [
    {
     "name": "stdout",
     "output_type": "stream",
     "text": [
      "     자치구    소계  2013년도 이전  2014년  2015년  2016년\n",
      "0    강남구  3238       1292    430    584    932\n",
      "1    강동구  1010        379     99    155    377\n",
      "2    강북구   831        369    120    138    204\n",
      "3    강서구   911        388    258    184     81\n",
      "4    관악구  2109        846    260    390    613\n",
      "5    광진구   878        573     78     53    174\n",
      "6    구로구  1884       1142    173    246    323\n",
      "7    금천구  1348        674     51    269    354\n",
      "8    노원구  1566        542     57    451    516\n",
      "9    도봉구   825        238    159     42    386\n",
      "10  동대문구  1870       1070     23    198    579\n",
      "11   동작구  1302        544    341    103    314\n",
      "12   마포구   980        314    118    169    379\n",
      "13  서대문구  1254        844     50     68    292\n",
      "14   서초구  2297       1406    157    336    398\n",
      "15   성동구  1327        730     91    241    265\n",
      "16   성북구  1651       1009     78    360    204\n",
      "17   송파구  1081        529     21     68    463\n",
      "18   양천구  2482       1843    142     30    467\n",
      "19  영등포구  1277        495    214    195    373\n",
      "20   용산구  2096       1368    218    112    398\n",
      "21   은평구  2108       1138    224    278    468\n",
      "22   종로구  1619        464    314    211    630\n",
      "23    중구  1023        413    190     72    348\n",
      "24   중랑구   916        509    121    177    109\n"
     ]
    }
   ],
   "source": [
    "print(s_cctv)"
   ]
  },
  {
   "cell_type": "code",
   "execution_count": 118,
   "metadata": {},
   "outputs": [],
   "source": [
    "s_pop = pd.read_excel('./data/Report.xls', encoding ='utf-8')"
   ]
  },
  {
   "cell_type": "code",
   "execution_count": 119,
   "metadata": {},
   "outputs": [
    {
     "name": "stdout",
     "output_type": "stream",
     "text": [
      "          기간   자치구       세대        인구     인구.1     인구.2     인구.3     인구.4  \\\n",
      "0         기간   자치구       세대        합계       합계       합계      한국인      한국인   \n",
      "1         기간   자치구       세대         계       남자       여자        계       남자   \n",
      "2   2018.2/4    합계  4241547  10089517  4935944  5153573  9814049  4802769   \n",
      "3   2018.2/4   종로구    73655    163569    79522    84047   153780    75247   \n",
      "4   2018.2/4    중구    61091    135427    66673    68754   126032    62260   \n",
      "5   2018.2/4   용산구   108516    245245   119963   125282   229677   111078   \n",
      "6   2018.2/4   성동구   135666    316068   155268   160800   308066   151571   \n",
      "7   2018.2/4   광진구   161294    370519   179621   190898   355748   173216   \n",
      "8   2018.2/4  동대문구   160757    364527   180126   184401   348903   174128   \n",
      "9   2018.2/4   중랑구   179690    410296   203711   206585   405551   201803   \n",
      "10  2018.2/4   성북구   186696    451829   218998   232831   440272   214430   \n",
      "11  2018.2/4   강북구   143187    326063   159219   166844   322385   157769   \n",
      "12  2018.2/4   도봉구   137560    344096   168282   175814   341928   167465   \n",
      "13  2018.2/4   노원구   217662    553177   268396   284781   549365   266826   \n",
      "14  2018.2/4   은평구   203547    489045   236802   252243   484642   234905   \n",
      "15  2018.2/4  서대문구   137725    323261   154145   169116   311280   150131   \n",
      "16  2018.2/4   마포구   170788    385507   182627   202880   374691   178430   \n",
      "17  2018.2/4   양천구   176234    471026   232087   238939   467151   230322   \n",
      "18  2018.2/4   강서구   256560    606981   295221   311760   600257   291966   \n",
      "19  2018.2/4   구로구   171882    440305   220880   219425   407235   202016   \n",
      "20  2018.2/4   금천구   106307    252752   129612   123140   233263   118530   \n",
      "21  2018.2/4  영등포구   169264    404501   203696   200805   369003   183888   \n",
      "22  2018.2/4   동작구   174427    407275   197984   209291   394788   192296   \n",
      "23  2018.2/4   관악구   259681    521960   262235   259725   504048   253600   \n",
      "24  2018.2/4   서초구   174268    443989   212679   231310   439844   210596   \n",
      "25  2018.2/4   강남구   229160    551888   264332   287556   546952   261815   \n",
      "26  2018.2/4   송파구   268325    673161   327051   346110   666439   323741   \n",
      "27  2018.2/4   강동구   177605    437050   216814   220236   432749   214740   \n",
      "\n",
      "       인구.5    인구.6    인구.7    인구.8  세대당인구  65세이상고령자  \n",
      "0       한국인   등록외국인   등록외국인   등록외국인  세대당인구  65세이상고령자  \n",
      "1        여자       계      남자      여자  세대당인구  65세이상고령자  \n",
      "2   5011280  275468  133175  142293   2.31   1393671  \n",
      "3     78533    9789    4275    5514   2.09     26512  \n",
      "4     63772    9395    4413    4982   2.06     21798  \n",
      "5    118599   15568    8885    6683   2.12     37331  \n",
      "6    156495    8002    3697    4305   2.27     42171  \n",
      "7    182532   14771    6405    8366   2.21     44806  \n",
      "8    174775   15624    5998    9626   2.17     56675  \n",
      "9    203748    4745    1908    2837   2.26     60618  \n",
      "10   225842   11557    4568    6989   2.36     67132  \n",
      "11   164616    3678    1450    2228   2.25     57401  \n",
      "12   174463    2168     817    1351   2.49     54969  \n",
      "13   282539    3812    1570    2242   2.52     75741  \n",
      "14   249737    4403    1897    2506   2.38     76097  \n",
      "15   161149   11981    4014    7967   2.26     49935  \n",
      "16   196261   10816    4197    6619   2.19     50350  \n",
      "17   236829    3875    1765    2110   2.65     56742  \n",
      "18   308291    6724    3255    3469   2.34     78042  \n",
      "19   205219   33070   18864   14206   2.37     60564  \n",
      "20   114733   19489   11082    8407   2.19     34945  \n",
      "21   185115   35498   19808   15690   2.18     54994  \n",
      "22   202492   12487    5688    6799   2.26     58133  \n",
      "23   250448   17912    8635    9277   1.94     71317  \n",
      "24   229248    4145    2083    2062   2.52     54614  \n",
      "25   285137    4936    2517    2419   2.39     66011  \n",
      "26   342698    6722    3310    3412   2.48     79093  \n",
      "27   218009    4301    2074    2227   2.44     57680  \n"
     ]
    }
   ],
   "source": [
    "print(s_pop)"
   ]
  },
  {
   "cell_type": "code",
   "execution_count": 120,
   "metadata": {},
   "outputs": [
    {
     "name": "stdout",
     "output_type": "stream",
     "text": [
      "<class 'pandas.core.frame.DataFrame'>\n",
      "RangeIndex: 28 entries, 0 to 27\n",
      "Data columns (total 14 columns):\n",
      "기간          28 non-null object\n",
      "자치구         28 non-null object\n",
      "세대          28 non-null object\n",
      "인구          28 non-null object\n",
      "인구.1        28 non-null object\n",
      "인구.2        28 non-null object\n",
      "인구.3        28 non-null object\n",
      "인구.4        28 non-null object\n",
      "인구.5        28 non-null object\n",
      "인구.6        28 non-null object\n",
      "인구.7        28 non-null object\n",
      "인구.8        28 non-null object\n",
      "세대당인구       28 non-null object\n",
      "65세이상고령자    28 non-null object\n",
      "dtypes: object(14)\n",
      "memory usage: 3.2+ KB\n",
      "None\n"
     ]
    }
   ],
   "source": [
    "print(s_pop.info())"
   ]
  },
  {
   "cell_type": "code",
   "execution_count": 121,
   "metadata": {},
   "outputs": [],
   "source": [
    "# 필요한 값만 불러오자 \n",
    "#계 1,2SMS 자동으로 붙음 \n",
    "s_pop = pd.read_excel('./data/Report.xls', encoding ='utf-8',header=2, usecols = 'B,D,G,J,N')"
   ]
  },
  {
   "cell_type": "code",
   "execution_count": 122,
   "metadata": {},
   "outputs": [
    {
     "name": "stdout",
     "output_type": "stream",
     "text": [
      "     자치구         계      계.1     계.2  65세이상고령자\n",
      "0     합계  10089517  9814049  275468   1393671\n",
      "1    종로구    163569   153780    9789     26512\n",
      "2     중구    135427   126032    9395     21798\n",
      "3    용산구    245245   229677   15568     37331\n",
      "4    성동구    316068   308066    8002     42171\n",
      "5    광진구    370519   355748   14771     44806\n",
      "6   동대문구    364527   348903   15624     56675\n",
      "7    중랑구    410296   405551    4745     60618\n",
      "8    성북구    451829   440272   11557     67132\n",
      "9    강북구    326063   322385    3678     57401\n",
      "10   도봉구    344096   341928    2168     54969\n",
      "11   노원구    553177   549365    3812     75741\n",
      "12   은평구    489045   484642    4403     76097\n",
      "13  서대문구    323261   311280   11981     49935\n",
      "14   마포구    385507   374691   10816     50350\n",
      "15   양천구    471026   467151    3875     56742\n",
      "16   강서구    606981   600257    6724     78042\n",
      "17   구로구    440305   407235   33070     60564\n",
      "18   금천구    252752   233263   19489     34945\n",
      "19  영등포구    404501   369003   35498     54994\n",
      "20   동작구    407275   394788   12487     58133\n",
      "21   관악구    521960   504048   17912     71317\n",
      "22   서초구    443989   439844    4145     54614\n",
      "23   강남구    551888   546952    4936     66011\n",
      "24   송파구    673161   666439    6722     79093\n",
      "25   강동구    437050   432749    4301     57680\n"
     ]
    }
   ],
   "source": [
    "print(s_pop)"
   ]
  },
  {
   "cell_type": "code",
   "execution_count": 123,
   "metadata": {},
   "outputs": [],
   "source": [
    "dic = { s_pop.columns[1] : '인구수', \n",
    "        s_pop.columns[2] : '한국인', \n",
    "        s_pop.columns[3] : '외국인', \n",
    "        s_pop.columns[4] : '고령자'\n",
    "      }\n",
    "s_pop.rename(columns = dic, inplace =True)"
   ]
  },
  {
   "cell_type": "code",
   "execution_count": 124,
   "metadata": {},
   "outputs": [
    {
     "name": "stdout",
     "output_type": "stream",
     "text": [
      "     자치구       인구수      한국인     외국인      고령자\n",
      "0     합계  10089517  9814049  275468  1393671\n",
      "1    종로구    163569   153780    9789    26512\n",
      "2     중구    135427   126032    9395    21798\n",
      "3    용산구    245245   229677   15568    37331\n",
      "4    성동구    316068   308066    8002    42171\n",
      "5    광진구    370519   355748   14771    44806\n",
      "6   동대문구    364527   348903   15624    56675\n",
      "7    중랑구    410296   405551    4745    60618\n",
      "8    성북구    451829   440272   11557    67132\n",
      "9    강북구    326063   322385    3678    57401\n",
      "10   도봉구    344096   341928    2168    54969\n",
      "11   노원구    553177   549365    3812    75741\n",
      "12   은평구    489045   484642    4403    76097\n",
      "13  서대문구    323261   311280   11981    49935\n",
      "14   마포구    385507   374691   10816    50350\n",
      "15   양천구    471026   467151    3875    56742\n",
      "16   강서구    606981   600257    6724    78042\n",
      "17   구로구    440305   407235   33070    60564\n",
      "18   금천구    252752   233263   19489    34945\n",
      "19  영등포구    404501   369003   35498    54994\n",
      "20   동작구    407275   394788   12487    58133\n",
      "21   관악구    521960   504048   17912    71317\n",
      "22   서초구    443989   439844    4145    54614\n",
      "23   강남구    551888   546952    4936    66011\n",
      "24   송파구    673161   666439    6722    79093\n",
      "25   강동구    437050   432749    4301    57680\n"
     ]
    }
   ],
   "source": [
    "print(s_pop)"
   ]
  },
  {
   "cell_type": "code",
   "execution_count": 125,
   "metadata": {},
   "outputs": [
    {
     "data": {
      "text/html": [
       "<div>\n",
       "<style scoped>\n",
       "    .dataframe tbody tr th:only-of-type {\n",
       "        vertical-align: middle;\n",
       "    }\n",
       "\n",
       "    .dataframe tbody tr th {\n",
       "        vertical-align: top;\n",
       "    }\n",
       "\n",
       "    .dataframe thead th {\n",
       "        text-align: right;\n",
       "    }\n",
       "</style>\n",
       "<table border=\"1\" class=\"dataframe\">\n",
       "  <thead>\n",
       "    <tr style=\"text-align: right;\">\n",
       "      <th></th>\n",
       "      <th>자치구</th>\n",
       "      <th>소계</th>\n",
       "      <th>2013년도 이전</th>\n",
       "      <th>2014년</th>\n",
       "      <th>2015년</th>\n",
       "      <th>2016년</th>\n",
       "    </tr>\n",
       "  </thead>\n",
       "  <tbody>\n",
       "    <tr>\n",
       "      <th>9</th>\n",
       "      <td>도봉구</td>\n",
       "      <td>825</td>\n",
       "      <td>238</td>\n",
       "      <td>159</td>\n",
       "      <td>42</td>\n",
       "      <td>386</td>\n",
       "    </tr>\n",
       "    <tr>\n",
       "      <th>2</th>\n",
       "      <td>강북구</td>\n",
       "      <td>831</td>\n",
       "      <td>369</td>\n",
       "      <td>120</td>\n",
       "      <td>138</td>\n",
       "      <td>204</td>\n",
       "    </tr>\n",
       "    <tr>\n",
       "      <th>5</th>\n",
       "      <td>광진구</td>\n",
       "      <td>878</td>\n",
       "      <td>573</td>\n",
       "      <td>78</td>\n",
       "      <td>53</td>\n",
       "      <td>174</td>\n",
       "    </tr>\n",
       "  </tbody>\n",
       "</table>\n",
       "</div>"
      ],
      "text/plain": [
       "   자치구   소계  2013년도 이전  2014년  2015년  2016년\n",
       "9  도봉구  825        238    159     42    386\n",
       "2  강북구  831        369    120    138    204\n",
       "5  광진구  878        573     78     53    174"
      ]
     },
     "execution_count": 125,
     "metadata": {},
     "output_type": "execute_result"
    }
   ],
   "source": [
    "# 정렬해서 데이터를 보자 \n",
    "s_cctv.sort_values(by='소계',ascending = True).head(3)"
   ]
  },
  {
   "cell_type": "markdown",
   "metadata": {},
   "source": [
    "** 가설 \n",
    "- cctv 집계수를 보고 여러 가설들을 생성\n",
    "- 해당 자치구의 주거지역/상업지역/지하철 부분도 고려하자 \n",
    "- 주거지역은 cctv가 낮고, 상업지역은 높아 본인다.\n",
    "- 최근 3년간 증가율 = (2014+2015+2016)/2013 * 100\n",
    "- 최근 증가율이라는 컬럼명으로 추가하기 \n",
    "- 2013년도 이전 데이터 대비 3년간 증가된 cctv수에 대한 증가율을 살펴볼 필요가 있다."
   ]
  },
  {
   "cell_type": "code",
   "execution_count": 126,
   "metadata": {},
   "outputs": [
    {
     "name": "stdout",
     "output_type": "stream",
     "text": [
      "    2014년  2015년  2016년\n",
      "0     430   1014   1946\n",
      "1      99    254    631\n",
      "2     120    258    462\n",
      "3     258    442    523\n",
      "4     260    650   1263\n",
      "5      78    131    305\n",
      "6     173    419    742\n",
      "7      51    320    674\n",
      "8      57    508   1024\n",
      "9     159    201    587\n",
      "10     23    221    800\n",
      "11    341    444    758\n",
      "12    118    287    666\n",
      "13     50    118    410\n",
      "14    157    493    891\n",
      "15     91    332    597\n",
      "16     78    438    642\n",
      "17     21     89    552\n",
      "18    142    172    639\n",
      "19    214    409    782\n",
      "20    218    330    728\n",
      "21    224    502    970\n",
      "22    314    525   1155\n",
      "23    190    262    610\n",
      "24    121    298    407\n"
     ]
    }
   ],
   "source": [
    "## 누적합을 구하자 => cumsum\n",
    "print(s_cctv[s_cctv.columns[3:]].cumsum(axis=1))"
   ]
  },
  {
   "cell_type": "code",
   "execution_count": 127,
   "metadata": {},
   "outputs": [
    {
     "data": {
      "text/html": [
       "<div>\n",
       "<style scoped>\n",
       "    .dataframe tbody tr th:only-of-type {\n",
       "        vertical-align: middle;\n",
       "    }\n",
       "\n",
       "    .dataframe tbody tr th {\n",
       "        vertical-align: top;\n",
       "    }\n",
       "\n",
       "    .dataframe thead th {\n",
       "        text-align: right;\n",
       "    }\n",
       "</style>\n",
       "<table border=\"1\" class=\"dataframe\">\n",
       "  <thead>\n",
       "    <tr style=\"text-align: right;\">\n",
       "      <th></th>\n",
       "      <th>2016년</th>\n",
       "    </tr>\n",
       "  </thead>\n",
       "  <tbody>\n",
       "    <tr>\n",
       "      <th>0</th>\n",
       "      <td>1946</td>\n",
       "    </tr>\n",
       "    <tr>\n",
       "      <th>1</th>\n",
       "      <td>631</td>\n",
       "    </tr>\n",
       "  </tbody>\n",
       "</table>\n",
       "</div>"
      ],
      "text/plain": [
       "   2016년\n",
       "0   1946\n",
       "1    631"
      ]
     },
     "execution_count": 127,
     "metadata": {},
     "output_type": "execute_result"
    }
   ],
   "source": [
    "## 맨 뒤의 열만 가져와서 헤드 2 출력\n",
    "## 16년 데이터만 가져오기\n",
    "s_cctv[s_cctv.columns[3:]].cumsum(axis=1)[s_cctv.columns[-1:]].head(2)"
   ]
  },
  {
   "cell_type": "code",
   "execution_count": 128,
   "metadata": {},
   "outputs": [
    {
     "name": "stdout",
     "output_type": "stream",
     "text": [
      "    2014년  2015년  2016년\n",
      "0     430   1014   1946\n",
      "1      99    254    631\n",
      "2     120    258    462\n",
      "3     258    442    523\n",
      "4     260    650   1263\n",
      "5      78    131    305\n",
      "6     173    419    742\n",
      "7      51    320    674\n",
      "8      57    508   1024\n",
      "9     159    201    587\n",
      "10     23    221    800\n",
      "11    341    444    758\n",
      "12    118    287    666\n",
      "13     50    118    410\n",
      "14    157    493    891\n",
      "15     91    332    597\n",
      "16     78    438    642\n",
      "17     21     89    552\n",
      "18    142    172    639\n",
      "19    214    409    782\n",
      "20    218    330    728\n",
      "21    224    502    970\n",
      "22    314    525   1155\n",
      "23    190    262    610\n",
      "24    121    298    407\n"
     ]
    }
   ],
   "source": [
    "## 누적합 구하기 \n",
    "## axis =1  => 가로로 더하기 \n",
    "csum = s_cctv[ ['2014년', '2015년','2016년'] ].cumsum(axis=1)\n",
    "print(csum)"
   ]
  },
  {
   "cell_type": "code",
   "execution_count": 129,
   "metadata": {},
   "outputs": [],
   "source": [
    "tmp = s_cctv[s_cctv.columns[3:]].cumsum(axis=1)[s_cctv.columns[-1]]"
   ]
  },
  {
   "cell_type": "code",
   "execution_count": 135,
   "metadata": {},
   "outputs": [
    {
     "name": "stdout",
     "output_type": "stream",
     "text": [
      "     자치구    소계  2013년도 이전  2014년  2015년  2016년      최근 증가율     최근 증가율1  \\\n",
      "0    강남구  3238       1292    430    584    932  150.619195  150.619195   \n",
      "1    강동구  1010        379     99    155    377  166.490765  166.490765   \n",
      "2    강북구   831        369    120    138    204  125.203252  125.203252   \n",
      "3    강서구   911        388    258    184     81  134.793814  134.793814   \n",
      "4    관악구  2109        846    260    390    613  149.290780  149.290780   \n",
      "5    광진구   878        573     78     53    174   53.228621   53.228621   \n",
      "6    구로구  1884       1142    173    246    323   64.973730   64.973730   \n",
      "7    금천구  1348        674     51    269    354  100.000000  100.000000   \n",
      "8    노원구  1566        542     57    451    516  188.929889  188.929889   \n",
      "9    도봉구   825        238    159     42    386  246.638655  246.638655   \n",
      "10  동대문구  1870       1070     23    198    579   74.766355   74.766355   \n",
      "11   동작구  1302        544    341    103    314  139.338235  139.338235   \n",
      "12   마포구   980        314    118    169    379  212.101911  212.101911   \n",
      "13  서대문구  1254        844     50     68    292   48.578199   48.578199   \n",
      "14   서초구  2297       1406    157    336    398   63.371266   63.371266   \n",
      "15   성동구  1327        730     91    241    265   81.780822   81.780822   \n",
      "16   성북구  1651       1009     78    360    204   63.627354   63.627354   \n",
      "17   송파구  1081        529     21     68    463  104.347826  104.347826   \n",
      "18   양천구  2482       1843    142     30    467   34.671731   34.671731   \n",
      "19  영등포구  1277        495    214    195    373  157.979798  157.979798   \n",
      "20   용산구  2096       1368    218    112    398   53.216374   53.216374   \n",
      "21   은평구  2108       1138    224    278    468   85.237258   85.237258   \n",
      "22   종로구  1619        464    314    211    630  248.922414  248.922414   \n",
      "23    중구  1023        413    190     72    348  147.699758  147.699758   \n",
      "24   중랑구   916        509    121    177    109   79.960707   79.960707   \n",
      "\n",
      "        최근 증가율2  \n",
      "0   1086.136223  \n",
      "1    353.472296  \n",
      "2    313.284553  \n",
      "3    462.876289  \n",
      "4    722.458629  \n",
      "5    161.366492  \n",
      "6    447.283713  \n",
      "7    372.522255  \n",
      "8    603.202952  \n",
      "9    363.184874  \n",
      "10   275.112150  \n",
      "11   501.720588  \n",
      "12   407.700637  \n",
      "13   152.597156  \n",
      "14   521.307255  \n",
      "15   368.301370  \n",
      "16   458.218038  \n",
      "17   176.523629  \n",
      "18   197.339121  \n",
      "19   484.353535  \n",
      "20   359.093567  \n",
      "21   543.124780  \n",
      "22   660.775862  \n",
      "23   346.261501  \n",
      "24   319.414538  \n"
     ]
    }
   ],
   "source": [
    "s_cctv['최근 증가율'] = tmp/s_cctv[s_cctv.columns[2]]*100\n",
    "s_cctv['최근 증가율1']= tmp/s_cctv['2013년도 이전']*100\n",
    "s_cctv['최근 증가율2'] = (s_cctv['2014년']+s_cctv['2015년']+s_cctv['2016년']/s_cctv['2013년도 이전']*100)\n",
    "print(s_cctv)"
   ]
  },
  {
   "cell_type": "code",
   "execution_count": 112,
   "metadata": {},
   "outputs": [
    {
     "name": "stdout",
     "output_type": "stream",
     "text": [
      "     자치구    소계  2013년도 이전  2014년  2015년  2016년  최근 증가율  최근 증가율1     최근 증가율2\n",
      "0    강남구  3238       1292    430    584    932     NaN      NaN  150.619195\n",
      "1    강동구  1010        379     99    155    377     NaN      NaN  166.490765\n",
      "2    강북구   831        369    120    138    204     NaN      NaN  125.203252\n",
      "3    강서구   911        388    258    184     81     NaN      NaN  134.793814\n",
      "4    관악구  2109        846    260    390    613     NaN      NaN  149.290780\n",
      "5    광진구   878        573     78     53    174     NaN      NaN   53.228621\n",
      "6    구로구  1884       1142    173    246    323     NaN      NaN   64.973730\n",
      "7    금천구  1348        674     51    269    354     NaN      NaN  100.000000\n",
      "8    노원구  1566        542     57    451    516     NaN      NaN  188.929889\n",
      "9    도봉구   825        238    159     42    386     NaN      NaN  246.638655\n",
      "10  동대문구  1870       1070     23    198    579     NaN      NaN   74.766355\n",
      "11   동작구  1302        544    341    103    314     NaN      NaN  139.338235\n",
      "12   마포구   980        314    118    169    379     NaN      NaN  212.101911\n",
      "13  서대문구  1254        844     50     68    292     NaN      NaN   48.578199\n",
      "14   서초구  2297       1406    157    336    398     NaN      NaN   63.371266\n",
      "15   성동구  1327        730     91    241    265     NaN      NaN   81.780822\n",
      "16   성북구  1651       1009     78    360    204     NaN      NaN   63.627354\n",
      "17   송파구  1081        529     21     68    463     NaN      NaN  104.347826\n",
      "18   양천구  2482       1843    142     30    467     NaN      NaN   34.671731\n",
      "19  영등포구  1277        495    214    195    373     NaN      NaN  157.979798\n",
      "20   용산구  2096       1368    218    112    398     NaN      NaN   53.216374\n",
      "21   은평구  2108       1138    224    278    468     NaN      NaN   85.237258\n",
      "22   종로구  1619        464    314    211    630     NaN      NaN  248.922414\n",
      "23    중구  1023        413    190     72    348     NaN      NaN  147.699758\n",
      "24   중랑구   916        509    121    177    109     NaN      NaN   79.960707\n"
     ]
    }
   ],
   "source": [
    "## 뭐가 문제지 시발\n",
    "s_cctv['최근 증가율'] = tmp/s_cctv[s_cctv.columns[2]]*100\n",
    "tmp = s_cctv[s_cctv.columns[3:]].cumsum(axis=1)[s_cctv.columns[-1:]]\n",
    "s_cctv['최근 증가율1'] = tmp /s_cctv['2013년도 이전']*100\n",
    "s_cctv['최근 증가율2'] = (s_cctv['2014년'] + s_cctv['2015년'] + s_cctv['2016년'])/s_cctv['2013년도 이전'] *100\n",
    "\n",
    "print(s_cctv)"
   ]
  },
  {
   "cell_type": "code",
   "execution_count": 131,
   "metadata": {},
   "outputs": [
    {
     "data": {
      "text/html": [
       "<div>\n",
       "<style scoped>\n",
       "    .dataframe tbody tr th:only-of-type {\n",
       "        vertical-align: middle;\n",
       "    }\n",
       "\n",
       "    .dataframe tbody tr th {\n",
       "        vertical-align: top;\n",
       "    }\n",
       "\n",
       "    .dataframe thead th {\n",
       "        text-align: right;\n",
       "    }\n",
       "</style>\n",
       "<table border=\"1\" class=\"dataframe\">\n",
       "  <thead>\n",
       "    <tr style=\"text-align: right;\">\n",
       "      <th></th>\n",
       "      <th>자치구</th>\n",
       "      <th>소계</th>\n",
       "      <th>2013년도 이전</th>\n",
       "      <th>2014년</th>\n",
       "      <th>2015년</th>\n",
       "      <th>2016년</th>\n",
       "      <th>최근 증가율</th>\n",
       "      <th>최근 증가율1</th>\n",
       "    </tr>\n",
       "  </thead>\n",
       "  <tbody>\n",
       "    <tr>\n",
       "      <th>0</th>\n",
       "      <td>강남구</td>\n",
       "      <td>3238</td>\n",
       "      <td>1292</td>\n",
       "      <td>430</td>\n",
       "      <td>584</td>\n",
       "      <td>932</td>\n",
       "      <td>150.619195</td>\n",
       "      <td>150.619195</td>\n",
       "    </tr>\n",
       "    <tr>\n",
       "      <th>1</th>\n",
       "      <td>강동구</td>\n",
       "      <td>1010</td>\n",
       "      <td>379</td>\n",
       "      <td>99</td>\n",
       "      <td>155</td>\n",
       "      <td>377</td>\n",
       "      <td>166.490765</td>\n",
       "      <td>166.490765</td>\n",
       "    </tr>\n",
       "  </tbody>\n",
       "</table>\n",
       "</div>"
      ],
      "text/plain": [
       "   자치구    소계  2013년도 이전  2014년  2015년  2016년      최근 증가율     최근 증가율1\n",
       "0  강남구  3238       1292    430    584    932  150.619195  150.619195\n",
       "1  강동구  1010        379     99    155    377  166.490765  166.490765"
      ]
     },
     "execution_count": 131,
     "metadata": {},
     "output_type": "execute_result"
    }
   ],
   "source": [
    "try : \n",
    "    del s_cctv['최근 증가율2']\n",
    "except Exception as e : \n",
    "    print(e)\n",
    "s_cctv.head(2)"
   ]
  },
  {
   "cell_type": "code",
   "execution_count": 132,
   "metadata": {},
   "outputs": [
    {
     "data": {
      "text/html": [
       "<div>\n",
       "<style scoped>\n",
       "    .dataframe tbody tr th:only-of-type {\n",
       "        vertical-align: middle;\n",
       "    }\n",
       "\n",
       "    .dataframe tbody tr th {\n",
       "        vertical-align: top;\n",
       "    }\n",
       "\n",
       "    .dataframe thead th {\n",
       "        text-align: right;\n",
       "    }\n",
       "</style>\n",
       "<table border=\"1\" class=\"dataframe\">\n",
       "  <thead>\n",
       "    <tr style=\"text-align: right;\">\n",
       "      <th></th>\n",
       "      <th>자치구</th>\n",
       "      <th>인구수</th>\n",
       "      <th>한국인</th>\n",
       "      <th>외국인</th>\n",
       "      <th>고령자</th>\n",
       "    </tr>\n",
       "  </thead>\n",
       "  <tbody>\n",
       "    <tr>\n",
       "      <th>1</th>\n",
       "      <td>종로구</td>\n",
       "      <td>163569</td>\n",
       "      <td>153780</td>\n",
       "      <td>9789</td>\n",
       "      <td>26512</td>\n",
       "    </tr>\n",
       "    <tr>\n",
       "      <th>2</th>\n",
       "      <td>중구</td>\n",
       "      <td>135427</td>\n",
       "      <td>126032</td>\n",
       "      <td>9395</td>\n",
       "      <td>21798</td>\n",
       "    </tr>\n",
       "  </tbody>\n",
       "</table>\n",
       "</div>"
      ],
      "text/plain": [
       "   자치구     인구수     한국인   외국인    고령자\n",
       "1  종로구  163569  153780  9789  26512\n",
       "2   중구  135427  126032  9395  21798"
      ]
     },
     "execution_count": 132,
     "metadata": {},
     "output_type": "execute_result"
    }
   ],
   "source": [
    "s_pop.drop([0], inplace=True)\n",
    "s_pop.head(2)"
   ]
  },
  {
   "cell_type": "code",
   "execution_count": 136,
   "metadata": {},
   "outputs": [
    {
     "data": {
      "text/plain": [
       "array(['종로구', '중구', '용산구', '성동구', '광진구', '동대문구', '중랑구', '성북구', '강북구',\n",
       "       '도봉구', '노원구', '은평구', '서대문구', '마포구', '양천구', '강서구', '구로구', '금천구',\n",
       "       '영등포구', '동작구', '관악구', '서초구', '강남구', '송파구', '강동구'], dtype=object)"
      ]
     },
     "execution_count": 136,
     "metadata": {},
     "output_type": "execute_result"
    }
   ],
   "source": [
    "## 행의 갯수가 안 겹치게 나온다.\n",
    "s_pop['자치구'].unique()"
   ]
  },
  {
   "cell_type": "code",
   "execution_count": 141,
   "metadata": {},
   "outputs": [
    {
     "data": {
      "text/plain": [
       "자치구    False\n",
       "인구수    False\n",
       "한국인    False\n",
       "외국인    False\n",
       "고령자    False\n",
       "dtype: bool"
      ]
     },
     "execution_count": 141,
     "metadata": {},
     "output_type": "execute_result"
    }
   ],
   "source": [
    "# 빈 값이 있는가 ? .isnull().any()\n",
    "s_pop['자치구'].isnull()\n",
    "s_pop[:].isnull().any()"
   ]
  },
  {
   "cell_type": "code",
   "execution_count": 149,
   "metadata": {},
   "outputs": [
    {
     "data": {
      "text/html": [
       "<div>\n",
       "<style scoped>\n",
       "    .dataframe tbody tr th:only-of-type {\n",
       "        vertical-align: middle;\n",
       "    }\n",
       "\n",
       "    .dataframe tbody tr th {\n",
       "        vertical-align: top;\n",
       "    }\n",
       "\n",
       "    .dataframe thead th {\n",
       "        text-align: right;\n",
       "    }\n",
       "</style>\n",
       "<table border=\"1\" class=\"dataframe\">\n",
       "  <thead>\n",
       "    <tr style=\"text-align: right;\">\n",
       "      <th></th>\n",
       "      <th>자치구</th>\n",
       "      <th>인구수</th>\n",
       "      <th>한국인</th>\n",
       "      <th>외국인</th>\n",
       "      <th>고령자</th>\n",
       "    </tr>\n",
       "  </thead>\n",
       "  <tbody>\n",
       "    <tr>\n",
       "      <th>1</th>\n",
       "      <td>종로구</td>\n",
       "      <td>163569</td>\n",
       "      <td>153780</td>\n",
       "      <td>9789</td>\n",
       "      <td>26512</td>\n",
       "    </tr>\n",
       "    <tr>\n",
       "      <th>2</th>\n",
       "      <td>중구</td>\n",
       "      <td>135427</td>\n",
       "      <td>126032</td>\n",
       "      <td>9395</td>\n",
       "      <td>21798</td>\n",
       "    </tr>\n",
       "  </tbody>\n",
       "</table>\n",
       "</div>"
      ],
      "text/plain": [
       "   자치구     인구수     한국인   외국인    고령자\n",
       "1  종로구  163569  153780  9789  26512\n",
       "2   중구  135427  126032  9395  21798"
      ]
     },
     "execution_count": 149,
     "metadata": {},
     "output_type": "execute_result"
    }
   ],
   "source": [
    "###################################\n",
    "## 빈 값이 있는 경우 지우는 방법 ##\n",
    "if s_pop['자치구'].isnull().any() : \n",
    "    index = s_pop[ s_pop['자치구'].isnull() ].index  ## 내용이 없는 것의 인덱스 \n",
    "    s_pop.drop( [ index], inplace=True)  ## 그 내용을 지운다. \n",
    "    print(\"wprj\")\n",
    "s_pop.head(2)"
   ]
  },
  {
   "cell_type": "code",
   "execution_count": 155,
   "metadata": {},
   "outputs": [
    {
     "data": {
      "text/html": [
       "<div>\n",
       "<style scoped>\n",
       "    .dataframe tbody tr th:only-of-type {\n",
       "        vertical-align: middle;\n",
       "    }\n",
       "\n",
       "    .dataframe tbody tr th {\n",
       "        vertical-align: top;\n",
       "    }\n",
       "\n",
       "    .dataframe thead th {\n",
       "        text-align: right;\n",
       "    }\n",
       "</style>\n",
       "<table border=\"1\" class=\"dataframe\">\n",
       "  <thead>\n",
       "    <tr style=\"text-align: right;\">\n",
       "      <th></th>\n",
       "      <th>자치구</th>\n",
       "      <th>인구수</th>\n",
       "      <th>한국인</th>\n",
       "      <th>외국인</th>\n",
       "      <th>고령자</th>\n",
       "    </tr>\n",
       "  </thead>\n",
       "  <tbody>\n",
       "    <tr>\n",
       "      <th>19</th>\n",
       "      <td>영등포구</td>\n",
       "      <td>404501</td>\n",
       "      <td>369003</td>\n",
       "      <td>35498</td>\n",
       "      <td>54994</td>\n",
       "    </tr>\n",
       "    <tr>\n",
       "      <th>17</th>\n",
       "      <td>구로구</td>\n",
       "      <td>440305</td>\n",
       "      <td>407235</td>\n",
       "      <td>33070</td>\n",
       "      <td>60564</td>\n",
       "    </tr>\n",
       "    <tr>\n",
       "      <th>18</th>\n",
       "      <td>금천구</td>\n",
       "      <td>252752</td>\n",
       "      <td>233263</td>\n",
       "      <td>19489</td>\n",
       "      <td>34945</td>\n",
       "    </tr>\n",
       "    <tr>\n",
       "      <th>21</th>\n",
       "      <td>관악구</td>\n",
       "      <td>521960</td>\n",
       "      <td>504048</td>\n",
       "      <td>17912</td>\n",
       "      <td>71317</td>\n",
       "    </tr>\n",
       "    <tr>\n",
       "      <th>6</th>\n",
       "      <td>동대문구</td>\n",
       "      <td>364527</td>\n",
       "      <td>348903</td>\n",
       "      <td>15624</td>\n",
       "      <td>56675</td>\n",
       "    </tr>\n",
       "  </tbody>\n",
       "</table>\n",
       "</div>"
      ],
      "text/plain": [
       "     자치구     인구수     한국인    외국인    고령자\n",
       "19  영등포구  404501  369003  35498  54994\n",
       "17   구로구  440305  407235  33070  60564\n",
       "18   금천구  252752  233263  19489  34945\n",
       "21   관악구  521960  504048  17912  71317\n",
       "6   동대문구  364527  348903  15624  56675"
      ]
     },
     "execution_count": 155,
     "metadata": {},
     "output_type": "execute_result"
    }
   ],
   "source": [
    "s_pop.sort_values(by='외국인' , ascending = False).head(5)\n"
   ]
  },
  {
   "cell_type": "code",
   "execution_count": 156,
   "metadata": {},
   "outputs": [
    {
     "data": {
      "text/html": [
       "<div>\n",
       "<style scoped>\n",
       "    .dataframe tbody tr th:only-of-type {\n",
       "        vertical-align: middle;\n",
       "    }\n",
       "\n",
       "    .dataframe tbody tr th {\n",
       "        vertical-align: top;\n",
       "    }\n",
       "\n",
       "    .dataframe thead th {\n",
       "        text-align: right;\n",
       "    }\n",
       "</style>\n",
       "<table border=\"1\" class=\"dataframe\">\n",
       "  <thead>\n",
       "    <tr style=\"text-align: right;\">\n",
       "      <th></th>\n",
       "      <th>자치구</th>\n",
       "      <th>인구수</th>\n",
       "      <th>한국인</th>\n",
       "      <th>외국인</th>\n",
       "      <th>고령자</th>\n",
       "    </tr>\n",
       "  </thead>\n",
       "  <tbody>\n",
       "    <tr>\n",
       "      <th>24</th>\n",
       "      <td>송파구</td>\n",
       "      <td>673161</td>\n",
       "      <td>666439</td>\n",
       "      <td>6722</td>\n",
       "      <td>79093</td>\n",
       "    </tr>\n",
       "    <tr>\n",
       "      <th>16</th>\n",
       "      <td>강서구</td>\n",
       "      <td>606981</td>\n",
       "      <td>600257</td>\n",
       "      <td>6724</td>\n",
       "      <td>78042</td>\n",
       "    </tr>\n",
       "    <tr>\n",
       "      <th>12</th>\n",
       "      <td>은평구</td>\n",
       "      <td>489045</td>\n",
       "      <td>484642</td>\n",
       "      <td>4403</td>\n",
       "      <td>76097</td>\n",
       "    </tr>\n",
       "    <tr>\n",
       "      <th>11</th>\n",
       "      <td>노원구</td>\n",
       "      <td>553177</td>\n",
       "      <td>549365</td>\n",
       "      <td>3812</td>\n",
       "      <td>75741</td>\n",
       "    </tr>\n",
       "    <tr>\n",
       "      <th>21</th>\n",
       "      <td>관악구</td>\n",
       "      <td>521960</td>\n",
       "      <td>504048</td>\n",
       "      <td>17912</td>\n",
       "      <td>71317</td>\n",
       "    </tr>\n",
       "  </tbody>\n",
       "</table>\n",
       "</div>"
      ],
      "text/plain": [
       "    자치구     인구수     한국인    외국인    고령자\n",
       "24  송파구  673161  666439   6722  79093\n",
       "16  강서구  606981  600257   6724  78042\n",
       "12  은평구  489045  484642   4403  76097\n",
       "11  노원구  553177  549365   3812  75741\n",
       "21  관악구  521960  504048  17912  71317"
      ]
     },
     "execution_count": 156,
     "metadata": {},
     "output_type": "execute_result"
    }
   ],
   "source": [
    "s_pop.sort_values(by='고령자' , ascending = False).head(5)"
   ]
  },
  {
   "cell_type": "code",
   "execution_count": 160,
   "metadata": {},
   "outputs": [],
   "source": [
    "## 각각의 비율을 확인한다.\n",
    "s_pop['외국인비율']= s_pop['외국인'] / s_pop['인구수'] * 100\n",
    "s_pop['고령자비율']= s_pop['고령자'] / s_pop['인구수'] * 100"
   ]
  },
  {
   "cell_type": "code",
   "execution_count": 161,
   "metadata": {},
   "outputs": [
    {
     "data": {
      "text/html": [
       "<div>\n",
       "<style scoped>\n",
       "    .dataframe tbody tr th:only-of-type {\n",
       "        vertical-align: middle;\n",
       "    }\n",
       "\n",
       "    .dataframe tbody tr th {\n",
       "        vertical-align: top;\n",
       "    }\n",
       "\n",
       "    .dataframe thead th {\n",
       "        text-align: right;\n",
       "    }\n",
       "</style>\n",
       "<table border=\"1\" class=\"dataframe\">\n",
       "  <thead>\n",
       "    <tr style=\"text-align: right;\">\n",
       "      <th></th>\n",
       "      <th>자치구</th>\n",
       "      <th>인구수</th>\n",
       "      <th>한국인</th>\n",
       "      <th>외국인</th>\n",
       "      <th>고령자</th>\n",
       "      <th>외국인비율</th>\n",
       "      <th>고령자비율</th>\n",
       "    </tr>\n",
       "  </thead>\n",
       "  <tbody>\n",
       "    <tr>\n",
       "      <th>19</th>\n",
       "      <td>영등포구</td>\n",
       "      <td>404501</td>\n",
       "      <td>369003</td>\n",
       "      <td>35498</td>\n",
       "      <td>54994</td>\n",
       "      <td>8.775751</td>\n",
       "      <td>13.595516</td>\n",
       "    </tr>\n",
       "    <tr>\n",
       "      <th>18</th>\n",
       "      <td>금천구</td>\n",
       "      <td>252752</td>\n",
       "      <td>233263</td>\n",
       "      <td>19489</td>\n",
       "      <td>34945</td>\n",
       "      <td>7.710720</td>\n",
       "      <td>13.825806</td>\n",
       "    </tr>\n",
       "    <tr>\n",
       "      <th>17</th>\n",
       "      <td>구로구</td>\n",
       "      <td>440305</td>\n",
       "      <td>407235</td>\n",
       "      <td>33070</td>\n",
       "      <td>60564</td>\n",
       "      <td>7.510703</td>\n",
       "      <td>13.755011</td>\n",
       "    </tr>\n",
       "    <tr>\n",
       "      <th>2</th>\n",
       "      <td>중구</td>\n",
       "      <td>135427</td>\n",
       "      <td>126032</td>\n",
       "      <td>9395</td>\n",
       "      <td>21798</td>\n",
       "      <td>6.937317</td>\n",
       "      <td>16.095756</td>\n",
       "    </tr>\n",
       "    <tr>\n",
       "      <th>3</th>\n",
       "      <td>용산구</td>\n",
       "      <td>245245</td>\n",
       "      <td>229677</td>\n",
       "      <td>15568</td>\n",
       "      <td>37331</td>\n",
       "      <td>6.347938</td>\n",
       "      <td>15.221921</td>\n",
       "    </tr>\n",
       "  </tbody>\n",
       "</table>\n",
       "</div>"
      ],
      "text/plain": [
       "     자치구     인구수     한국인    외국인    고령자     외국인비율      고령자비율\n",
       "19  영등포구  404501  369003  35498  54994  8.775751  13.595516\n",
       "18   금천구  252752  233263  19489  34945  7.710720  13.825806\n",
       "17   구로구  440305  407235  33070  60564  7.510703  13.755011\n",
       "2     중구  135427  126032   9395  21798  6.937317  16.095756\n",
       "3    용산구  245245  229677  15568  37331  6.347938  15.221921"
      ]
     },
     "execution_count": 161,
     "metadata": {},
     "output_type": "execute_result"
    }
   ],
   "source": [
    "s_pop.sort_values(by='외국인비율' , ascending = False).head(5)"
   ]
  },
  {
   "cell_type": "code",
   "execution_count": 162,
   "metadata": {},
   "outputs": [
    {
     "data": {
      "text/html": [
       "<div>\n",
       "<style scoped>\n",
       "    .dataframe tbody tr th:only-of-type {\n",
       "        vertical-align: middle;\n",
       "    }\n",
       "\n",
       "    .dataframe tbody tr th {\n",
       "        vertical-align: top;\n",
       "    }\n",
       "\n",
       "    .dataframe thead th {\n",
       "        text-align: right;\n",
       "    }\n",
       "</style>\n",
       "<table border=\"1\" class=\"dataframe\">\n",
       "  <thead>\n",
       "    <tr style=\"text-align: right;\">\n",
       "      <th></th>\n",
       "      <th>자치구</th>\n",
       "      <th>인구수</th>\n",
       "      <th>한국인</th>\n",
       "      <th>외국인</th>\n",
       "      <th>고령자</th>\n",
       "      <th>외국인비율</th>\n",
       "      <th>고령자비율</th>\n",
       "    </tr>\n",
       "  </thead>\n",
       "  <tbody>\n",
       "    <tr>\n",
       "      <th>9</th>\n",
       "      <td>강북구</td>\n",
       "      <td>326063</td>\n",
       "      <td>322385</td>\n",
       "      <td>3678</td>\n",
       "      <td>57401</td>\n",
       "      <td>1.128003</td>\n",
       "      <td>17.604267</td>\n",
       "    </tr>\n",
       "    <tr>\n",
       "      <th>1</th>\n",
       "      <td>종로구</td>\n",
       "      <td>163569</td>\n",
       "      <td>153780</td>\n",
       "      <td>9789</td>\n",
       "      <td>26512</td>\n",
       "      <td>5.984630</td>\n",
       "      <td>16.208450</td>\n",
       "    </tr>\n",
       "    <tr>\n",
       "      <th>2</th>\n",
       "      <td>중구</td>\n",
       "      <td>135427</td>\n",
       "      <td>126032</td>\n",
       "      <td>9395</td>\n",
       "      <td>21798</td>\n",
       "      <td>6.937317</td>\n",
       "      <td>16.095756</td>\n",
       "    </tr>\n",
       "    <tr>\n",
       "      <th>10</th>\n",
       "      <td>도봉구</td>\n",
       "      <td>344096</td>\n",
       "      <td>341928</td>\n",
       "      <td>2168</td>\n",
       "      <td>54969</td>\n",
       "      <td>0.630057</td>\n",
       "      <td>15.974902</td>\n",
       "    </tr>\n",
       "    <tr>\n",
       "      <th>12</th>\n",
       "      <td>은평구</td>\n",
       "      <td>489045</td>\n",
       "      <td>484642</td>\n",
       "      <td>4403</td>\n",
       "      <td>76097</td>\n",
       "      <td>0.900326</td>\n",
       "      <td>15.560327</td>\n",
       "    </tr>\n",
       "  </tbody>\n",
       "</table>\n",
       "</div>"
      ],
      "text/plain": [
       "    자치구     인구수     한국인   외국인    고령자     외국인비율      고령자비율\n",
       "9   강북구  326063  322385  3678  57401  1.128003  17.604267\n",
       "1   종로구  163569  153780  9789  26512  5.984630  16.208450\n",
       "2    중구  135427  126032  9395  21798  6.937317  16.095756\n",
       "10  도봉구  344096  341928  2168  54969  0.630057  15.974902\n",
       "12  은평구  489045  484642  4403  76097  0.900326  15.560327"
      ]
     },
     "execution_count": 162,
     "metadata": {},
     "output_type": "execute_result"
    }
   ],
   "source": [
    "s_pop.sort_values(by='고령자비율' , ascending = False).head(5)"
   ]
  },
  {
   "cell_type": "code",
   "execution_count": 163,
   "metadata": {},
   "outputs": [
    {
     "name": "stdout",
     "output_type": "stream",
     "text": [
      "     자치구    소계  2013년도 이전  2014년  2015년  2016년      최근 증가율     최근 증가율1  \\\n",
      "0    강남구  3238       1292    430    584    932  150.619195  150.619195   \n",
      "1    강동구  1010        379     99    155    377  166.490765  166.490765   \n",
      "2    강북구   831        369    120    138    204  125.203252  125.203252   \n",
      "3    강서구   911        388    258    184     81  134.793814  134.793814   \n",
      "4    관악구  2109        846    260    390    613  149.290780  149.290780   \n",
      "5    광진구   878        573     78     53    174   53.228621   53.228621   \n",
      "6    구로구  1884       1142    173    246    323   64.973730   64.973730   \n",
      "7    금천구  1348        674     51    269    354  100.000000  100.000000   \n",
      "8    노원구  1566        542     57    451    516  188.929889  188.929889   \n",
      "9    도봉구   825        238    159     42    386  246.638655  246.638655   \n",
      "10  동대문구  1870       1070     23    198    579   74.766355   74.766355   \n",
      "11   동작구  1302        544    341    103    314  139.338235  139.338235   \n",
      "12   마포구   980        314    118    169    379  212.101911  212.101911   \n",
      "13  서대문구  1254        844     50     68    292   48.578199   48.578199   \n",
      "14   서초구  2297       1406    157    336    398   63.371266   63.371266   \n",
      "15   성동구  1327        730     91    241    265   81.780822   81.780822   \n",
      "16   성북구  1651       1009     78    360    204   63.627354   63.627354   \n",
      "17   송파구  1081        529     21     68    463  104.347826  104.347826   \n",
      "18   양천구  2482       1843    142     30    467   34.671731   34.671731   \n",
      "19  영등포구  1277        495    214    195    373  157.979798  157.979798   \n",
      "20   용산구  2096       1368    218    112    398   53.216374   53.216374   \n",
      "21   은평구  2108       1138    224    278    468   85.237258   85.237258   \n",
      "22   종로구  1619        464    314    211    630  248.922414  248.922414   \n",
      "23    중구  1023        413    190     72    348  147.699758  147.699758   \n",
      "24   중랑구   916        509    121    177    109   79.960707   79.960707   \n",
      "\n",
      "        최근 증가율2     인구수     한국인    외국인    고령자     외국인비율      고령자비율  \n",
      "0   1086.136223  551888  546952   4936  66011  0.894384  11.960941  \n",
      "1    353.472296  437050  432749   4301  57680  0.984098  13.197575  \n",
      "2    313.284553  326063  322385   3678  57401  1.128003  17.604267  \n",
      "3    462.876289  606981  600257   6724  78042  1.107778  12.857404  \n",
      "4    722.458629  521960  504048  17912  71317  3.431681  13.663308  \n",
      "5    161.366492  370519  355748  14771  44806  3.986570  12.092767  \n",
      "6    447.283713  440305  407235  33070  60564  7.510703  13.755011  \n",
      "7    372.522255  252752  233263  19489  34945  7.710720  13.825806  \n",
      "8    603.202952  553177  549365   3812  75741  0.689110  13.692001  \n",
      "9    363.184874  344096  341928   2168  54969  0.630057  15.974902  \n",
      "10   275.112150  364527  348903  15624  56675  4.286102  15.547545  \n",
      "11   501.720588  407275  394788  12487  58133  3.065987  14.273648  \n",
      "12   407.700637  385507  374691  10816  50350  2.805656  13.060723  \n",
      "13   152.597156  323261  311280  11981  49935  3.706293  15.447270  \n",
      "14   521.307255  443989  439844   4145  54614  0.933582  12.300755  \n",
      "15   368.301370  316068  308066   8002  42171  2.531734  13.342382  \n",
      "16   458.218038  451829  440272  11557  67132  2.557826  14.857833  \n",
      "17   176.523629  673161  666439   6722  79093  0.998572  11.749492  \n",
      "18   197.339121  471026  467151   3875  56742  0.822672  12.046469  \n",
      "19   484.353535  404501  369003  35498  54994  8.775751  13.595516  \n",
      "20   359.093567  245245  229677  15568  37331  6.347938  15.221921  \n",
      "21   543.124780  489045  484642   4403  76097  0.900326  15.560327  \n",
      "22   660.775862  163569  153780   9789  26512  5.984630  16.208450  \n",
      "23   346.261501  135427  126032   9395  21798  6.937317  16.095756  \n",
      "24   319.414538  410296  405551   4745  60618  1.156482  14.774212  \n"
     ]
    }
   ],
   "source": [
    "data_result = pd.merge(s_cctv, s_pop, on='자치구')\n",
    "print(data_result)"
   ]
  },
  {
   "cell_type": "code",
   "execution_count": 164,
   "metadata": {},
   "outputs": [
    {
     "data": {
      "text/html": [
       "<div>\n",
       "<style scoped>\n",
       "    .dataframe tbody tr th:only-of-type {\n",
       "        vertical-align: middle;\n",
       "    }\n",
       "\n",
       "    .dataframe tbody tr th {\n",
       "        vertical-align: top;\n",
       "    }\n",
       "\n",
       "    .dataframe thead th {\n",
       "        text-align: right;\n",
       "    }\n",
       "</style>\n",
       "<table border=\"1\" class=\"dataframe\">\n",
       "  <thead>\n",
       "    <tr style=\"text-align: right;\">\n",
       "      <th></th>\n",
       "      <th>자치구</th>\n",
       "      <th>소계</th>\n",
       "      <th>최근 증가율</th>\n",
       "      <th>최근 증가율1</th>\n",
       "      <th>최근 증가율2</th>\n",
       "      <th>인구수</th>\n",
       "      <th>한국인</th>\n",
       "      <th>외국인</th>\n",
       "      <th>고령자</th>\n",
       "      <th>외국인비율</th>\n",
       "      <th>고령자비율</th>\n",
       "    </tr>\n",
       "  </thead>\n",
       "  <tbody>\n",
       "    <tr>\n",
       "      <th>0</th>\n",
       "      <td>강남구</td>\n",
       "      <td>3238</td>\n",
       "      <td>150.619195</td>\n",
       "      <td>150.619195</td>\n",
       "      <td>1086.136223</td>\n",
       "      <td>551888</td>\n",
       "      <td>546952</td>\n",
       "      <td>4936</td>\n",
       "      <td>66011</td>\n",
       "      <td>0.894384</td>\n",
       "      <td>11.960941</td>\n",
       "    </tr>\n",
       "    <tr>\n",
       "      <th>1</th>\n",
       "      <td>강동구</td>\n",
       "      <td>1010</td>\n",
       "      <td>166.490765</td>\n",
       "      <td>166.490765</td>\n",
       "      <td>353.472296</td>\n",
       "      <td>437050</td>\n",
       "      <td>432749</td>\n",
       "      <td>4301</td>\n",
       "      <td>57680</td>\n",
       "      <td>0.984098</td>\n",
       "      <td>13.197575</td>\n",
       "    </tr>\n",
       "  </tbody>\n",
       "</table>\n",
       "</div>"
      ],
      "text/plain": [
       "   자치구    소계      최근 증가율     최근 증가율1      최근 증가율2     인구수     한국인   외국인  \\\n",
       "0  강남구  3238  150.619195  150.619195  1086.136223  551888  546952  4936   \n",
       "1  강동구  1010  166.490765  166.490765   353.472296  437050  432749  4301   \n",
       "\n",
       "     고령자     외국인비율      고령자비율  \n",
       "0  66011  0.894384  11.960941  \n",
       "1  57680  0.984098  13.197575  "
      ]
     },
     "execution_count": 164,
     "metadata": {},
     "output_type": "execute_result"
    }
   ],
   "source": [
    "try : \n",
    "    del data_result['2013년도 이전']\n",
    "    del data_result['2014년']\n",
    "    del data_result['2015년']\n",
    "    del data_result['2016년']\n",
    "except Exception as e : \n",
    "    print(e)\n",
    "data_result.head(2)"
   ]
  },
  {
   "cell_type": "code",
   "execution_count": 166,
   "metadata": {},
   "outputs": [
    {
     "data": {
      "text/html": [
       "<div>\n",
       "<style scoped>\n",
       "    .dataframe tbody tr th:only-of-type {\n",
       "        vertical-align: middle;\n",
       "    }\n",
       "\n",
       "    .dataframe tbody tr th {\n",
       "        vertical-align: top;\n",
       "    }\n",
       "\n",
       "    .dataframe thead th {\n",
       "        text-align: right;\n",
       "    }\n",
       "</style>\n",
       "<table border=\"1\" class=\"dataframe\">\n",
       "  <thead>\n",
       "    <tr style=\"text-align: right;\">\n",
       "      <th></th>\n",
       "      <th>소계</th>\n",
       "      <th>최근 증가율</th>\n",
       "      <th>최근 증가율1</th>\n",
       "      <th>최근 증가율2</th>\n",
       "      <th>인구수</th>\n",
       "      <th>한국인</th>\n",
       "      <th>외국인</th>\n",
       "      <th>고령자</th>\n",
       "      <th>외국인비율</th>\n",
       "      <th>고령자비율</th>\n",
       "    </tr>\n",
       "    <tr>\n",
       "      <th>자치구</th>\n",
       "      <th></th>\n",
       "      <th></th>\n",
       "      <th></th>\n",
       "      <th></th>\n",
       "      <th></th>\n",
       "      <th></th>\n",
       "      <th></th>\n",
       "      <th></th>\n",
       "      <th></th>\n",
       "      <th></th>\n",
       "    </tr>\n",
       "  </thead>\n",
       "  <tbody>\n",
       "    <tr>\n",
       "      <th>강남구</th>\n",
       "      <td>3238</td>\n",
       "      <td>150.619195</td>\n",
       "      <td>150.619195</td>\n",
       "      <td>1086.136223</td>\n",
       "      <td>551888</td>\n",
       "      <td>546952</td>\n",
       "      <td>4936</td>\n",
       "      <td>66011</td>\n",
       "      <td>0.894384</td>\n",
       "      <td>11.960941</td>\n",
       "    </tr>\n",
       "    <tr>\n",
       "      <th>강동구</th>\n",
       "      <td>1010</td>\n",
       "      <td>166.490765</td>\n",
       "      <td>166.490765</td>\n",
       "      <td>353.472296</td>\n",
       "      <td>437050</td>\n",
       "      <td>432749</td>\n",
       "      <td>4301</td>\n",
       "      <td>57680</td>\n",
       "      <td>0.984098</td>\n",
       "      <td>13.197575</td>\n",
       "    </tr>\n",
       "  </tbody>\n",
       "</table>\n",
       "</div>"
      ],
      "text/plain": [
       "       소계      최근 증가율     최근 증가율1      최근 증가율2     인구수     한국인   외국인    고령자  \\\n",
       "자치구                                                                           \n",
       "강남구  3238  150.619195  150.619195  1086.136223  551888  546952  4936  66011   \n",
       "강동구  1010  166.490765  166.490765   353.472296  437050  432749  4301  57680   \n",
       "\n",
       "        외국인비율      고령자비율  \n",
       "자치구                       \n",
       "강남구  0.894384  11.960941  \n",
       "강동구  0.984098  13.197575  "
      ]
     },
     "execution_count": 166,
     "metadata": {},
     "output_type": "execute_result"
    }
   ],
   "source": [
    "data_result.set_index('자치구',inplace = True)\n",
    "data_result.head(2)"
   ]
  },
  {
   "cell_type": "code",
   "execution_count": 168,
   "metadata": {},
   "outputs": [
    {
     "data": {
      "text/plain": [
       "array([[1.        , 0.22536935],\n",
       "       [0.22536935, 1.        ]])"
      ]
     },
     "execution_count": 168,
     "metadata": {},
     "output_type": "execute_result"
    }
   ],
   "source": [
    "### 상관계수\n",
    "#  0.1 : 무시 \n",
    "# ~0.3 : 약한상관\n",
    "# ~0.7 : 뚜렷한 상관관계 \n",
    "\n",
    "## corrcoef 상관관례 함수 \n",
    "# 대각선을 지외하고 값을 확인 하면 됨!!\n",
    "\n",
    "import numpy as np \n",
    "np.corrcoef(data_result['인구수'], data_result['소계'])\n",
    "\n"
   ]
  },
  {
   "cell_type": "code",
   "execution_count": 169,
   "metadata": {},
   "outputs": [
    {
     "data": {
      "text/plain": [
       "array([[1.        , 0.22536935],\n",
       "       [0.22536935, 1.        ]])"
      ]
     },
     "execution_count": 169,
     "metadata": {},
     "output_type": "execute_result"
    }
   ],
   "source": [
    "np.corrcoef(data_result['소계'], data_result['인구수'])"
   ]
  },
  {
   "cell_type": "code",
   "execution_count": 170,
   "metadata": {},
   "outputs": [
    {
     "data": {
      "text/plain": [
       "array([[ 1.        , -0.04749504],\n",
       "       [-0.04749504,  1.        ]])"
      ]
     },
     "execution_count": 170,
     "metadata": {},
     "output_type": "execute_result"
    }
   ],
   "source": [
    "np.corrcoef(data_result['외국인비율'], data_result['소계'])"
   ]
  },
  {
   "cell_type": "code",
   "execution_count": 171,
   "metadata": {},
   "outputs": [
    {
     "data": {
      "text/html": [
       "<div>\n",
       "<style scoped>\n",
       "    .dataframe tbody tr th:only-of-type {\n",
       "        vertical-align: middle;\n",
       "    }\n",
       "\n",
       "    .dataframe tbody tr th {\n",
       "        vertical-align: top;\n",
       "    }\n",
       "\n",
       "    .dataframe thead th {\n",
       "        text-align: right;\n",
       "    }\n",
       "</style>\n",
       "<table border=\"1\" class=\"dataframe\">\n",
       "  <thead>\n",
       "    <tr style=\"text-align: right;\">\n",
       "      <th></th>\n",
       "      <th>소계</th>\n",
       "      <th>최근 증가율</th>\n",
       "      <th>최근 증가율1</th>\n",
       "      <th>최근 증가율2</th>\n",
       "      <th>인구수</th>\n",
       "      <th>한국인</th>\n",
       "      <th>외국인</th>\n",
       "      <th>고령자</th>\n",
       "      <th>외국인비율</th>\n",
       "      <th>고령자비율</th>\n",
       "    </tr>\n",
       "    <tr>\n",
       "      <th>자치구</th>\n",
       "      <th></th>\n",
       "      <th></th>\n",
       "      <th></th>\n",
       "      <th></th>\n",
       "      <th></th>\n",
       "      <th></th>\n",
       "      <th></th>\n",
       "      <th></th>\n",
       "      <th></th>\n",
       "      <th></th>\n",
       "    </tr>\n",
       "  </thead>\n",
       "  <tbody>\n",
       "    <tr>\n",
       "      <th>강남구</th>\n",
       "      <td>3238</td>\n",
       "      <td>150.619195</td>\n",
       "      <td>150.619195</td>\n",
       "      <td>1086.136223</td>\n",
       "      <td>551888</td>\n",
       "      <td>546952</td>\n",
       "      <td>4936</td>\n",
       "      <td>66011</td>\n",
       "      <td>0.894384</td>\n",
       "      <td>11.960941</td>\n",
       "    </tr>\n",
       "    <tr>\n",
       "      <th>양천구</th>\n",
       "      <td>2482</td>\n",
       "      <td>34.671731</td>\n",
       "      <td>34.671731</td>\n",
       "      <td>197.339121</td>\n",
       "      <td>471026</td>\n",
       "      <td>467151</td>\n",
       "      <td>3875</td>\n",
       "      <td>56742</td>\n",
       "      <td>0.822672</td>\n",
       "      <td>12.046469</td>\n",
       "    </tr>\n",
       "    <tr>\n",
       "      <th>서초구</th>\n",
       "      <td>2297</td>\n",
       "      <td>63.371266</td>\n",
       "      <td>63.371266</td>\n",
       "      <td>521.307255</td>\n",
       "      <td>443989</td>\n",
       "      <td>439844</td>\n",
       "      <td>4145</td>\n",
       "      <td>54614</td>\n",
       "      <td>0.933582</td>\n",
       "      <td>12.300755</td>\n",
       "    </tr>\n",
       "  </tbody>\n",
       "</table>\n",
       "</div>"
      ],
      "text/plain": [
       "       소계      최근 증가율     최근 증가율1      최근 증가율2     인구수     한국인   외국인    고령자  \\\n",
       "자치구                                                                           \n",
       "강남구  3238  150.619195  150.619195  1086.136223  551888  546952  4936  66011   \n",
       "양천구  2482   34.671731   34.671731   197.339121  471026  467151  3875  56742   \n",
       "서초구  2297   63.371266   63.371266   521.307255  443989  439844  4145  54614   \n",
       "\n",
       "        외국인비율      고령자비율  \n",
       "자치구                       \n",
       "강남구  0.894384  11.960941  \n",
       "양천구  0.822672  12.046469  \n",
       "서초구  0.933582  12.300755  "
      ]
     },
     "execution_count": 171,
     "metadata": {},
     "output_type": "execute_result"
    }
   ],
   "source": [
    "data_result.sort_values(by='소계',ascending = False).head(3)\n",
    "## 데이터를 보기 힘들다 \n",
    "## => 시각화 하자 "
   ]
  },
  {
   "cell_type": "code",
   "execution_count": 178,
   "metadata": {},
   "outputs": [],
   "source": [
    "import matplotlib.pyplot as plt\n",
    "%matplotlib inline\n",
    "import platform\n",
    "from matplotlib import font_manager, rc"
   ]
  },
  {
   "cell_type": "code",
   "execution_count": 193,
   "metadata": {},
   "outputs": [
    {
     "data": {
      "text/plain": [
       "['/usr/share/fonts/truetype/nanum/NanumSquareR.ttf',\n",
       " '/usr/share/fonts/truetype/nanum/NanumGothic.ttf',\n",
       " '/usr/share/fonts/truetype/nanum/NanumSquareB.ttf',\n",
       " '/usr/share/fonts/truetype/nanum/NanumBarunGothic.ttf',\n",
       " '/usr/share/fonts/truetype/nanum/NanumGothicBold.ttf',\n",
       " '/usr/share/fonts/truetype/nanum/NanumSquareRoundR.ttf',\n",
       " '/usr/share/fonts/truetype/nanum/NanumBarunGothicBold.ttf',\n",
       " '/usr/share/fonts/truetype/nanum/NanumMyeongjo.ttf',\n",
       " '/usr/share/fonts/truetype/nanum/NanumSquareRoundB.ttf',\n",
       " '/usr/share/fonts/truetype/nanum/NanumMyeongjoBold.ttf']"
      ]
     },
     "execution_count": 193,
     "metadata": {},
     "output_type": "execute_result"
    }
   ],
   "source": [
    "platform.system()\n",
    "font_list = font_manager.findSystemFonts(fontpaths = None, fontext='ttf')\n",
    "[ s for s in font_list if \"Nanum\" in s]"
   ]
  },
  {
   "cell_type": "code",
   "execution_count": 194,
   "metadata": {},
   "outputs": [],
   "source": [
    "# #한글처리 \n",
    "## 내가 내 컴터에 깔린 폰트를 제대로 알고 있다면 \n",
    "## rc 문만 넣으면 된다!! \n",
    "plt.rcParams['axes.unicode_minus'] = False\n",
    "if platform.system() == 'Darwin' :\n",
    "    font_list_mac = fm.OXInstalledFonts()\n",
    "    rc('font',family ='AppleGothic')\n",
    "elif platform.system() == 'Linux' :\n",
    "     rc('font', family = 'NanumGothic')\n",
    "elif platform.system() == 'Windows' :\n",
    "#     fontName = font_manager.FontProperties(fname = fontPath).get_name()\n",
    "    rc('font',family='NamumGothic')\n",
    "else : \n",
    "    print(\"i dont know\")"
   ]
  },
  {
   "cell_type": "code",
   "execution_count": 201,
   "metadata": {},
   "outputs": [
    {
     "data": {
      "image/png": "[encoded data removed]",
      "text/plain": [
       "<Figure size 720x720 with 1 Axes>"
      ]
     },
     "metadata": {
      "needs_background": "light"
     },
     "output_type": "display_data"
    }
   ],
   "source": [
    "plt.figure()\n",
    "plt.rc('font', family = 'NanumGothic')\n",
    "# 차트 모양 : barh : bar + h 수평선 차트 드로잉\n",
    "data_result['소계'].plot( kind = 'barh', grid= True, figsize =(10,10))\n",
    "data_result.sort_values(by='소계',ascending = False)['소계'].plot( kind = 'barh', grid= True, figsize =(10,10))\n",
    "plt.show()"
   ]
  },
  {
   "cell_type": "code",
   "execution_count": 202,
   "metadata": {},
   "outputs": [
    {
     "data": {
      "image/png": "[encoded data removed]",
      "text/plain": [
       "<Figure size 720x720 with 1 Axes>"
      ]
     },
     "metadata": {
      "needs_background": "light"
     },
     "output_type": "display_data"
    }
   ],
   "source": [
    "plt.figure()\n",
    "plt.rc('font', family = 'NanumGothic')\n",
    "# 차트 모양 : barh : bar + h 수평선 차트 드로잉\n",
    "data_result.sort_values(by='소계',ascending = False)['소계'].plot( kind = 'barh', grid= True, figsize =(10,10))\n",
    "plt.show()"
   ]
  },
  {
   "cell_type": "code",
   "execution_count": 203,
   "metadata": {},
   "outputs": [
    {
     "data": {
      "text/plain": [
       "<matplotlib.axes._subplots.AxesSubplot at 0x7fc228c6f790>"
      ]
     },
     "execution_count": 203,
     "metadata": {},
     "output_type": "execute_result"
    },
    {
     "data": {
      "image/png": "[encoded data removed]",
      "text/plain": [
       "<Figure size 720x720 with 1 Axes>"
      ]
     },
     "metadata": {
      "needs_background": "light"
     },
     "output_type": "display_data"
    }
   ],
   "source": [
    "data_result['CCTV비율'] = data_result['소계']/data_result['인구수'] * 100\n",
    "data_result['CCTV비율'].sort_values().plot( kind = 'barh', grid= True, figsize =(10,10))\n"
   ]
  },
  {
   "cell_type": "code",
   "execution_count": 204,
   "metadata": {},
   "outputs": [
    {
     "data": {
      "image/png": "[encoded data removed]",
      "text/plain": [
       "<Figure size 432x288 with 1 Axes>"
      ]
     },
     "metadata": {
      "needs_background": "light"
     },
     "output_type": "display_data"
    }
   ],
   "source": [
    "plt.scatter(data_result['인구수'],data_result['소계'], s=50)\n",
    "plt.xlabel('인구수')\n",
    "plt.ylabel('CCTV')\n",
    "plt.grid()\n",
    "plt.show()"
   ]
  },
  {
   "cell_type": "code",
   "execution_count": 242,
   "metadata": {},
   "outputs": [
    {
     "name": "stdout",
     "output_type": "stream",
     "text": [
      "[1.08389848e-03 1.07787951e+03]\n"
     ]
    }
   ],
   "source": [
    "## numpy에서 지원하는 함수를 이용하여 \n",
    "## 인구수 : 입력 소계 : 출력 => 이것을 만족하는 함수(모델)을 생성\n",
    "## 함수를 1차, 2차, 3차 ~ 15차\n",
    "## 입력대비 출력을 만족하는 1차함수 생성\n",
    "fp1 = np.polyfit(data_result['인구수'], data_result['소계'],1)\n",
    "print(fp1) ## 기울기와 절편을 구한다. "
   ]
  },
  {
   "cell_type": "code",
   "execution_count": 243,
   "metadata": {},
   "outputs": [
    {
     "name": "stdout",
     "output_type": "stream",
     "text": [
      " \n",
      "0.001084 x + 1078\n"
     ]
    }
   ],
   "source": [
    "## 함수 생성 \n",
    "f1 = np.poly1d(fp1)\n",
    "print(f1)"
   ]
  },
  {
   "cell_type": "code",
   "execution_count": 244,
   "metadata": {},
   "outputs": [],
   "source": [
    "x = np.linspace(100000,700000,10)"
   ]
  },
  {
   "cell_type": "code",
   "execution_count": 252,
   "metadata": {},
   "outputs": [
    {
     "data": {
      "image/png": "[encoded data removed]",
      "text/plain": [
       "<Figure size 432x288 with 1 Axes>"
      ]
     },
     "metadata": {
      "needs_background": "light"
     },
     "output_type": "display_data"
    }
   ],
   "source": [
    "## 평균 개념이다. !! 이 값보다 많으면 넘친다 \n",
    "plt.scatter(data_result['인구수'],data_result['소계'], s=50)\n",
    "plt.plot(x,f1(x),ls='dashed', lw=3,color='g')\n",
    "plt.xlabel('인구수')\n",
    "plt.ylabel('CCTV')\n",
    "plt.grid()\n",
    "plt.show()"
   ]
  },
  {
   "cell_type": "code",
   "execution_count": 253,
   "metadata": {},
   "outputs": [
    {
     "data": {
      "text/html": [
       "<div>\n",
       "<style scoped>\n",
       "    .dataframe tbody tr th:only-of-type {\n",
       "        vertical-align: middle;\n",
       "    }\n",
       "\n",
       "    .dataframe tbody tr th {\n",
       "        vertical-align: top;\n",
       "    }\n",
       "\n",
       "    .dataframe thead th {\n",
       "        text-align: right;\n",
       "    }\n",
       "</style>\n",
       "<table border=\"1\" class=\"dataframe\">\n",
       "  <thead>\n",
       "    <tr style=\"text-align: right;\">\n",
       "      <th></th>\n",
       "      <th>소계</th>\n",
       "      <th>최근 증가율</th>\n",
       "      <th>최근 증가율1</th>\n",
       "      <th>최근 증가율2</th>\n",
       "      <th>인구수</th>\n",
       "      <th>한국인</th>\n",
       "      <th>외국인</th>\n",
       "      <th>고령자</th>\n",
       "      <th>외국인비율</th>\n",
       "      <th>고령자비율</th>\n",
       "      <th>CCTV비율</th>\n",
       "      <th>오차</th>\n",
       "    </tr>\n",
       "    <tr>\n",
       "      <th>자치구</th>\n",
       "      <th></th>\n",
       "      <th></th>\n",
       "      <th></th>\n",
       "      <th></th>\n",
       "      <th></th>\n",
       "      <th></th>\n",
       "      <th></th>\n",
       "      <th></th>\n",
       "      <th></th>\n",
       "      <th></th>\n",
       "      <th></th>\n",
       "      <th></th>\n",
       "    </tr>\n",
       "  </thead>\n",
       "  <tbody>\n",
       "    <tr>\n",
       "      <th>강남구</th>\n",
       "      <td>3238</td>\n",
       "      <td>150.619195</td>\n",
       "      <td>150.619195</td>\n",
       "      <td>1086.136223</td>\n",
       "      <td>551888</td>\n",
       "      <td>546952</td>\n",
       "      <td>4936</td>\n",
       "      <td>66011</td>\n",
       "      <td>0.894384</td>\n",
       "      <td>11.960941</td>\n",
       "      <td>0.586713</td>\n",
       "      <td>1561.929921</td>\n",
       "    </tr>\n",
       "    <tr>\n",
       "      <th>양천구</th>\n",
       "      <td>2482</td>\n",
       "      <td>34.671731</td>\n",
       "      <td>34.671731</td>\n",
       "      <td>197.339121</td>\n",
       "      <td>471026</td>\n",
       "      <td>467151</td>\n",
       "      <td>3875</td>\n",
       "      <td>56742</td>\n",
       "      <td>0.822672</td>\n",
       "      <td>12.046469</td>\n",
       "      <td>0.526935</td>\n",
       "      <td>893.576120</td>\n",
       "    </tr>\n",
       "  </tbody>\n",
       "</table>\n",
       "</div>"
      ],
      "text/plain": [
       "       소계      최근 증가율     최근 증가율1      최근 증가율2     인구수     한국인   외국인    고령자  \\\n",
       "자치구                                                                           \n",
       "강남구  3238  150.619195  150.619195  1086.136223  551888  546952  4936  66011   \n",
       "양천구  2482   34.671731   34.671731   197.339121  471026  467151  3875  56742   \n",
       "\n",
       "        외국인비율      고령자비율    CCTV비율           오차  \n",
       "자치구                                              \n",
       "강남구  0.894384  11.960941  0.586713  1561.929921  \n",
       "양천구  0.822672  12.046469  0.526935   893.576120  "
      ]
     },
     "execution_count": 253,
     "metadata": {},
     "output_type": "execute_result"
    }
   ],
   "source": [
    "data_result['오차'] = np.abs( data_result['소계'] - f1(data_result['인구수']))\n",
    "df_sort = data_result.sort_values(by='오차' , ascending = False)\n",
    "df_sort.head(2)"
   ]
  },
  {
   "cell_type": "code",
   "execution_count": 265,
   "metadata": {},
   "outputs": [
    {
     "data": {
      "image/png": "[encoded data removed]",
      "text/plain": [
       "<Figure size 432x288 with 2 Axes>"
      ]
     },
     "metadata": {
      "needs_background": "light"
     },
     "output_type": "display_data"
    }
   ],
   "source": [
    "# 시각화\n",
    "plt.scatter(data_result['인구수'], data_result['소계'], c= data_result['오차'],s=50)\n",
    "\n",
    "# 인구대비 CCTV의 관계를 1차함수로 표현한 선\n",
    "plt.plot(x,f1(x),ls='dashed', lw=1,color='g')\n",
    "for n in range(5):\n",
    "    plt.text(df_sort['인구수'][n]*1.05, df_sort['소계'][n]*0.95, df_sort.index[n], fontSize=14)\n",
    "    \n",
    "plt.xlabel('인구수')\n",
    "plt.ylabel('CCTV')\n",
    "plt.grid()\n",
    "plt.colorbar()\n",
    "plt.show()\n"
   ]
  },
  {
   "cell_type": "code",
   "execution_count": 266,
   "metadata": {},
   "outputs": [],
   "source": [
    "data_result.to_csv('./data/data_result.csv',encoding = 'utf-8')"
   ]
  },
  {
   "cell_type": "code",
   "execution_count": 267,
   "metadata": {},
   "outputs": [],
   "source": [
    "##########################################################\n",
    "#################   부산 CCTV    #########################\n",
    "##########################################################"
   ]
  },
  {
   "cell_type": "code",
   "execution_count": 316,
   "metadata": {},
   "outputs": [
    {
     "name": "stdout",
     "output_type": "stream",
     "text": [
      "     지역구  CCTV 갯수  인구수 (명)  시전체 인구에 대한 구성비 (%) 인구밀도 (명/㎢)\n",
      "0    강서구      848  133,231            3.833634        734\n",
      "1    사하구      768  327,956            9.436716      7,851\n",
      "2   부산진구       84  362,296           10.424827     12,211\n",
      "3    수영구     1107  178,484            5.135759     17,481\n",
      "4    사상구      559  225,751            6.495835      6,255\n",
      "5     남구      795  283,267            8.150820     10,566\n",
      "6    동래구      406  271,004            7.797960     16,296\n",
      "7     동구      723   89,692            2.580828      9,209\n",
      "8     중구      496   44,223            1.272488     15,627\n",
      "9     서구      384  111,044            3.195217      7,943\n",
      "10   연제구      417  210,393            6.053919     17,388\n",
      "11   금정구      562  245,670            7.068991      3,763\n",
      "12   기장군      860  167,231            4.811961        766\n",
      "13    북구      828  294,030            8.460518      7,468\n",
      "14  해운대구      398  411,445           11.839057      7,994\n",
      "15   영도구      229  119,602            3.441468      8,423\n",
      "<class 'pandas.core.frame.DataFrame'>\n",
      "RangeIndex: 16 entries, 0 to 15\n",
      "Data columns (total 5 columns):\n",
      "지역구                   16 non-null object\n",
      "CCTV 갯수               16 non-null int64\n",
      "인구수 (명)               16 non-null object\n",
      "시전체 인구에 대한 구성비 (%)    16 non-null float64\n",
      "인구밀도 (명/㎢)            16 non-null object\n",
      "dtypes: float64(1), int64(1), object(3)\n",
      "memory usage: 768.0+ bytes\n",
      "None\n"
     ]
    }
   ],
   "source": [
    "import pandas as pd \n",
    "import glob \n",
    "\n",
    "busan_cctv = pd.read_csv('./data/Busan_cctv_allinfo.csv', encoding ='euc-kr')\n",
    "print(busan_cctv)\n",
    "print(busan_cctv.info())"
   ]
  },
  {
   "cell_type": "code",
   "execution_count": 317,
   "metadata": {},
   "outputs": [],
   "source": [
    "import matplotlib.pyplot as plt\n",
    "%matplotlib inline\n",
    "import platform\n",
    "from matplotlib import font_manager, rc\n",
    "busan_cctv.set_index('지역구',inplace = True)"
   ]
  },
  {
   "cell_type": "code",
   "execution_count": 318,
   "metadata": {},
   "outputs": [
    {
     "data": {
      "text/plain": [
       "Text(0.5, 0, 'CCTV 갯수')"
      ]
     },
     "execution_count": 318,
     "metadata": {},
     "output_type": "execute_result"
    },
    {
     "data": {
      "image/png": "[encoded data removed]",
      "text/plain": [
       "<Figure size 720x720 with 1 Axes>"
      ]
     },
     "metadata": {
      "needs_background": "light"
     },
     "output_type": "display_data"
    }
   ],
   "source": [
    "##결과 1. \n",
    "## CCTV 갯수 랭킹 \n",
    "busan_cctv['CCTV 갯수'].sort_values().plot( kind = 'barh', grid= True, figsize =(10,10))\n",
    "plt.xlabel('CCTV 갯수')"
   ]
  },
  {
   "cell_type": "code",
   "execution_count": 327,
   "metadata": {},
   "outputs": [
    {
     "data": {
      "text/plain": [
       "<matplotlib.axes._subplots.AxesSubplot at 0x7fc228282850>"
      ]
     },
     "execution_count": 327,
     "metadata": {},
     "output_type": "execute_result"
    },
    {
     "data": {
      "image/png": "[encoded data removed]",
      "text/plain": [
       "<Figure size 720x720 with 1 Axes>"
      ]
     },
     "metadata": {
      "needs_background": "light"
     },
     "output_type": "display_data"
    }
   ],
   "source": [
    "##결과 2. \n",
    "## 인구당 CCTV 비율  \n",
    "#busan_cctv.loc[:,'인구수 (명)'] = busan_cctv.loc[:,'인구수 (명)'].str.replace(',', '').astype(int)\n",
    "\n",
    "busan_cctv['CCTV비율'] = busan_cctv['CCTV 갯수']/busan_cctv['인구수 (명)'] * 100\n",
    "busan_cctv['CCTV비율'].sort_values().plot( kind = 'barh', grid= True, figsize =(10,10))"
   ]
  },
  {
   "cell_type": "code",
   "execution_count": 334,
   "metadata": {},
   "outputs": [
    {
     "data": {
      "image/png": "[encoded data removed]",
      "text/plain": [
       "<Figure size 432x288 with 1 Axes>"
      ]
     },
     "metadata": {
      "needs_background": "light"
     },
     "output_type": "display_data"
    }
   ],
   "source": [
    "## 결과 3. \n",
    "## 인구수와 cctv 입력대비 출력을 만족하는 1차함수 생성\n",
    "fp1 = np.polyfit(busan_cctv['인구수 (명)'], busan_cctv['CCTV 갯수'],1)\n",
    "f1 = np.poly1d(fp1)\n",
    "\n",
    "x = np.linspace(50000,600000,10)\n",
    "plt.scatter(busan_cctv['인구수 (명)'],busan_cctv['CCTV 갯수'], s=50)\n",
    "plt.plot(x,f1(x),ls='dashed', lw=3,color='g')\n",
    "plt.xlabel('인구수')\n",
    "plt.ylabel('CCTV')\n",
    "plt.grid()\n",
    "plt.show()"
   ]
  },
  {
   "cell_type": "code",
   "execution_count": 336,
   "metadata": {},
   "outputs": [
    {
     "data": {
      "text/html": [
       "<div>\n",
       "<style scoped>\n",
       "    .dataframe tbody tr th:only-of-type {\n",
       "        vertical-align: middle;\n",
       "    }\n",
       "\n",
       "    .dataframe tbody tr th {\n",
       "        vertical-align: top;\n",
       "    }\n",
       "\n",
       "    .dataframe thead th {\n",
       "        text-align: right;\n",
       "    }\n",
       "</style>\n",
       "<table border=\"1\" class=\"dataframe\">\n",
       "  <thead>\n",
       "    <tr style=\"text-align: right;\">\n",
       "      <th></th>\n",
       "      <th>CCTV 갯수</th>\n",
       "      <th>인구수 (명)</th>\n",
       "      <th>시전체 인구에 대한 구성비 (%)</th>\n",
       "      <th>인구밀도 (명/㎢)</th>\n",
       "      <th>CCTV비율</th>\n",
       "      <th>오차</th>\n",
       "    </tr>\n",
       "    <tr>\n",
       "      <th>지역구</th>\n",
       "      <th></th>\n",
       "      <th></th>\n",
       "      <th></th>\n",
       "      <th></th>\n",
       "      <th></th>\n",
       "      <th></th>\n",
       "    </tr>\n",
       "  </thead>\n",
       "  <tbody>\n",
       "    <tr>\n",
       "      <th>수영구</th>\n",
       "      <td>1107</td>\n",
       "      <td>178484</td>\n",
       "      <td>5.135759</td>\n",
       "      <td>17,481</td>\n",
       "      <td>0.620224</td>\n",
       "      <td>499.427154</td>\n",
       "    </tr>\n",
       "    <tr>\n",
       "      <th>부산진구</th>\n",
       "      <td>84</td>\n",
       "      <td>362296</td>\n",
       "      <td>10.424827</td>\n",
       "      <td>12,211</td>\n",
       "      <td>0.023185</td>\n",
       "      <td>447.278431</td>\n",
       "    </tr>\n",
       "  </tbody>\n",
       "</table>\n",
       "</div>"
      ],
      "text/plain": [
       "      CCTV 갯수  인구수 (명)  시전체 인구에 대한 구성비 (%) 인구밀도 (명/㎢)    CCTV비율          오차\n",
       "지역구                                                                        \n",
       "수영구      1107   178484            5.135759     17,481  0.620224  499.427154\n",
       "부산진구       84   362296           10.424827     12,211  0.023185  447.278431"
      ]
     },
     "execution_count": 336,
     "metadata": {},
     "output_type": "execute_result"
    }
   ],
   "source": [
    "## 결과 4. \n",
    "## 오차를 계산한 뒤 새로 항으로 만들어 출력 \n",
    "## 인구대비 CCTV의 관계를 1차함수로 표현한 선\n",
    "busan_cctv['오차'] = np.abs(busan_cctv['CCTV 갯수'] - f1(busan_cctv['인구수 (명)']))\n",
    "df_sort = busan_cctv.sort_values(by='오차' , ascending = False)\n",
    "df_sort.head(2)"
   ]
  },
  {
   "cell_type": "code",
   "execution_count": 348,
   "metadata": {},
   "outputs": [
    {
     "data": {
      "image/png": "[encoded data removed]",
      "text/plain": [
       "<Figure size 432x288 with 2 Axes>"
      ]
     },
     "metadata": {
      "needs_background": "light"
     },
     "output_type": "display_data"
    }
   ],
   "source": [
    "# 시각화\n",
    "plt.scatter(busan_cctv['인구수 (명)'], busan_cctv['CCTV 갯수'], c= busan_cctv['오차'],s=50)\n",
    "\n",
    "# 인구대비 CCTV의 관계를 1차함수로 표현한 선\n",
    "plt.plot(x,f1(x),ls='dashed', lw=1,color='g')\n",
    "for n in range(16):\n",
    "    plt.text(df_sort['인구수 (명)'][n]*1.05, df_sort['CCTV 갯수'][n]*0.95, df_sort.index[n], fontSize=14)\n",
    "    \n",
    "plt.xlabel('인구수')\n",
    "plt.ylabel('CCTV')\n",
    "plt.grid()\n",
    "plt.colorbar()\n",
    "plt.show()"
   ]
  },
  {
   "cell_type": "code",
   "execution_count": 361,
   "metadata": {},
   "outputs": [
    {
     "data": {
      "image/png": "[encoded data removed]",
      "text/plain": [
       "<Figure size 432x288 with 1 Axes>"
      ]
     },
     "metadata": {
      "needs_background": "light"
     },
     "output_type": "display_data"
    }
   ],
   "source": [
    "## 결과 5.\n",
    "## 인구밀도 대비 CCTV 갯수 \n",
    "\n",
    "busan_cctv.loc[:,'인구밀도 (명/㎢)'] = busan_cctv.loc[:,'인구밀도 (명/㎢)'].astype(float)\n",
    "busan_cctv.loc[:,'CCTV 갯수'] = busan_cctv.loc[:,'CCTV 갯수'].astype(float)\n",
    "\n",
    "## float 형이 되어야 생성 된다.\n",
    "plt.scatter(busan_cctv['CCTV 갯수'],busan_cctv['인구밀도 (명/㎢)'], s=50)\n",
    "for n in range(16):\n",
    "    plt.text(busan_cctv['CCTV 갯수'][n]*1.05, busan_cctv['인구밀도 (명/㎢)'][n]*0.95, busan_cctv.index[n], fontSize=14)\n",
    "plt.xlabel('CCTV 갯수')\n",
    "plt.ylabel('인구밀도')\n",
    "plt.grid()\n",
    "plt.show()"
   ]
  },
  {
   "cell_type": "code",
   "execution_count": null,
   "metadata": {},
   "outputs": [],
   "source": []
  },
  {
   "cell_type": "code",
   "execution_count": 346,
   "metadata": {},
   "outputs": [
    {
     "data": {
      "text/plain": [
       "<matplotlib.axes._subplots.AxesSubplot at 0x7fc22156e3d0>"
      ]
     },
     "execution_count": 346,
     "metadata": {},
     "output_type": "execute_result"
    },
    {
     "data": {
      "image/png": "[encoded data removed]",
      "text/plain": [
       "<Figure size 720x720 with 1 Axes>"
      ]
     },
     "metadata": {
      "needs_background": "light"
     },
     "output_type": "display_data"
    }
   ],
   "source": [
    "busan_cctv.sort_values(by='인구밀도 (명/㎢)',ascending = False).plot( kind = 'barh', grid= True, figsize =(10,10))\n",
    "# busan_cctv['CCTV비율'].sort_values().plot( kind = 'barh', grid= True, figsize =(10,10))"
   ]
  },
  {
   "cell_type": "code",
   "execution_count": null,
   "metadata": {},
   "outputs": [],
   "source": []
  }
 ],
 "metadata": {
  "kernelspec": {
   "display_name": "Python 3",
   "language": "python",
   "name": "python3"
  },
  "language_info": {
   "codemirror_mode": {
    "name": "ipython",
    "version": 3
   },
   "file_extension": ".py",
   "mimetype": "text/x-python",
   "name": "python",
   "nbconvert_exporter": "python",
   "pygments_lexer": "ipython3",
   "version": "3.7.4"
  }
 },
 "nbformat": 4,
 "nbformat_minor": 4
}
